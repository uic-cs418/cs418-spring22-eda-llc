{
 "cells": [
  {
   "cell_type": "markdown",
   "id": "8b6d8469",
   "metadata": {},
   "source": [
    "# EDA for Multidimensional Poverty Index in developing countries and How it affects the freeness of a country\n",
    "\n",
    "\n",
    "\n",
    "\n"
   ]
  },
  {
   "cell_type": "code",
   "execution_count": 1,
   "id": "9e926434",
   "metadata": {},
   "outputs": [],
   "source": [
    "import pandas as pd\n",
    "import numpy as np\n",
    "import seaborn as sns\n",
    "%matplotlib inline\n",
    "import matplotlib.pyplot as plt"
   ]
  },
  {
   "cell_type": "code",
   "execution_count": 27,
   "id": "b38000d7",
   "metadata": {},
   "outputs": [],
   "source": [
    "df = pd.read_excel(\"Multidimensional Poverty Index____.xls\", header = 2, nrows = 102)\n",
    "labels = pd.read_excel(\"Aggregate_Category_and_Subcategory_Scores_FIW_2003-2022.xlsx\", sheet_name = 1)"
   ]
  },
  {
   "cell_type": "markdown",
   "id": "63f450dc",
   "metadata": {},
   "source": [
    "### Data Cleaning for Multidimensional Poverty Index\n",
    "\n",
    "1. Rename useful column names which are unnamed to that present in the dataset\n",
    "2. There exists an empty column 'b' filled with NAs so, delete that\n",
    "3. Drop the first row as it has column names\n",
    "4. Reset the index of the dataframe\n",
    "5. Clean missing values"
   ]
  },
  {
   "cell_type": "code",
   "execution_count": 28,
   "id": "1c66f374",
   "metadata": {},
   "outputs": [
    {
     "data": {
      "text/plain": [
       "2       0.278065\n",
       "3      32.457551\n",
       "5      16.721532\n",
       "8      40.937144\n",
       "9      14.676309\n",
       "         ...    \n",
       "96     10.158028\n",
       "97      0.725191\n",
       "98     23.885250\n",
       "99     24.182746\n",
       "100     8.027032\n",
       "Name: Population in severe multidimensional poverty , Length: 80, dtype: float64"
      ]
     },
     "execution_count": 28,
     "metadata": {},
     "output_type": "execute_result"
    }
   ],
   "source": [
    "\n",
    "\n",
    "df = df.rename(columns = {'Unnamed: 0':'Country', 'Unnamed: 18': 'Population vulnerable to multidimensional poverty'})\n",
    "\n",
    "df = df.drop(df.filter(regex='Unnamed:').columns, axis=1)\n",
    "df = df.drop('b', axis = 1)\n",
    "\n",
    "df = df.drop(0)\n",
    "df = df.reset_index(drop = True)\n",
    "\n",
    "# replace missing values not represented by NaN with it\n",
    "df = df.replace('..', np.NaN)\n",
    "\n",
    "df = df.dropna()\n",
    "\n",
    "df\n"
   ]
  },
  {
   "cell_type": "markdown",
   "id": "c41b07b3",
   "metadata": {},
   "source": [
    "### Data Cleaning for Aggregate Category and Subcategory Scores\n",
    "\n",
    "1. Drop unnamed columns which don't have any data\n",
    "2. There is an empty coulmn 'x' which marks the last coulmn of the dataset, delete that\n",
    "3. Get only the data from 2018 as the Multidimensional Poverty Index has data for that year\n",
    "4. Reset the indices for readability"
   ]
  },
  {
   "cell_type": "code",
   "execution_count": 14,
   "id": "0bf047d9",
   "metadata": {},
   "outputs": [
    {
     "data": {
      "text/html": [
       "<div>\n",
       "<style scoped>\n",
       "    .dataframe tbody tr th:only-of-type {\n",
       "        vertical-align: middle;\n",
       "    }\n",
       "\n",
       "    .dataframe tbody tr th {\n",
       "        vertical-align: top;\n",
       "    }\n",
       "\n",
       "    .dataframe thead th {\n",
       "        text-align: right;\n",
       "    }\n",
       "</style>\n",
       "<table border=\"1\" class=\"dataframe\">\n",
       "  <thead>\n",
       "    <tr style=\"text-align: right;\">\n",
       "      <th></th>\n",
       "      <th>Country</th>\n",
       "      <th>Region</th>\n",
       "      <th>C/T?</th>\n",
       "      <th>Edition</th>\n",
       "      <th>Status</th>\n",
       "      <th>PR Rating</th>\n",
       "      <th>CL Rating</th>\n",
       "      <th>A</th>\n",
       "      <th>B</th>\n",
       "      <th>C</th>\n",
       "      <th>Add Q</th>\n",
       "      <th>Add A</th>\n",
       "      <th>PR</th>\n",
       "      <th>D</th>\n",
       "      <th>E</th>\n",
       "      <th>F</th>\n",
       "      <th>G</th>\n",
       "      <th>CL</th>\n",
       "      <th>Total</th>\n",
       "    </tr>\n",
       "  </thead>\n",
       "  <tbody>\n",
       "    <tr>\n",
       "      <th>0</th>\n",
       "      <td>Abkhazia</td>\n",
       "      <td>Eurasia</td>\n",
       "      <td>t</td>\n",
       "      <td>2018</td>\n",
       "      <td>PF</td>\n",
       "      <td>4</td>\n",
       "      <td>5</td>\n",
       "      <td>6</td>\n",
       "      <td>8</td>\n",
       "      <td>4</td>\n",
       "      <td>0</td>\n",
       "      <td>NaN</td>\n",
       "      <td>18</td>\n",
       "      <td>8</td>\n",
       "      <td>6</td>\n",
       "      <td>4</td>\n",
       "      <td>5</td>\n",
       "      <td>23</td>\n",
       "      <td>41</td>\n",
       "    </tr>\n",
       "    <tr>\n",
       "      <th>1</th>\n",
       "      <td>Afghanistan</td>\n",
       "      <td>Asia</td>\n",
       "      <td>c</td>\n",
       "      <td>2018</td>\n",
       "      <td>NF</td>\n",
       "      <td>5</td>\n",
       "      <td>6</td>\n",
       "      <td>2</td>\n",
       "      <td>7</td>\n",
       "      <td>3</td>\n",
       "      <td>0</td>\n",
       "      <td>NaN</td>\n",
       "      <td>12</td>\n",
       "      <td>6</td>\n",
       "      <td>4</td>\n",
       "      <td>2</td>\n",
       "      <td>2</td>\n",
       "      <td>14</td>\n",
       "      <td>26</td>\n",
       "    </tr>\n",
       "    <tr>\n",
       "      <th>2</th>\n",
       "      <td>Albania</td>\n",
       "      <td>Europe</td>\n",
       "      <td>c</td>\n",
       "      <td>2018</td>\n",
       "      <td>PF</td>\n",
       "      <td>3</td>\n",
       "      <td>3</td>\n",
       "      <td>8</td>\n",
       "      <td>13</td>\n",
       "      <td>7</td>\n",
       "      <td>0</td>\n",
       "      <td>NaN</td>\n",
       "      <td>28</td>\n",
       "      <td>13</td>\n",
       "      <td>9</td>\n",
       "      <td>9</td>\n",
       "      <td>9</td>\n",
       "      <td>40</td>\n",
       "      <td>68</td>\n",
       "    </tr>\n",
       "    <tr>\n",
       "      <th>3</th>\n",
       "      <td>Algeria</td>\n",
       "      <td>Africa</td>\n",
       "      <td>c</td>\n",
       "      <td>2018</td>\n",
       "      <td>NF</td>\n",
       "      <td>6</td>\n",
       "      <td>5</td>\n",
       "      <td>3</td>\n",
       "      <td>4</td>\n",
       "      <td>3</td>\n",
       "      <td>0</td>\n",
       "      <td>NaN</td>\n",
       "      <td>10</td>\n",
       "      <td>7</td>\n",
       "      <td>5</td>\n",
       "      <td>6</td>\n",
       "      <td>7</td>\n",
       "      <td>25</td>\n",
       "      <td>35</td>\n",
       "    </tr>\n",
       "    <tr>\n",
       "      <th>4</th>\n",
       "      <td>Andorra</td>\n",
       "      <td>Europe</td>\n",
       "      <td>c</td>\n",
       "      <td>2018</td>\n",
       "      <td>F</td>\n",
       "      <td>1</td>\n",
       "      <td>1</td>\n",
       "      <td>12</td>\n",
       "      <td>15</td>\n",
       "      <td>12</td>\n",
       "      <td>0</td>\n",
       "      <td>NaN</td>\n",
       "      <td>39</td>\n",
       "      <td>15</td>\n",
       "      <td>11</td>\n",
       "      <td>15</td>\n",
       "      <td>16</td>\n",
       "      <td>57</td>\n",
       "      <td>96</td>\n",
       "    </tr>\n",
       "    <tr>\n",
       "      <th>...</th>\n",
       "      <td>...</td>\n",
       "      <td>...</td>\n",
       "      <td>...</td>\n",
       "      <td>...</td>\n",
       "      <td>...</td>\n",
       "      <td>...</td>\n",
       "      <td>...</td>\n",
       "      <td>...</td>\n",
       "      <td>...</td>\n",
       "      <td>...</td>\n",
       "      <td>...</td>\n",
       "      <td>...</td>\n",
       "      <td>...</td>\n",
       "      <td>...</td>\n",
       "      <td>...</td>\n",
       "      <td>...</td>\n",
       "      <td>...</td>\n",
       "      <td>...</td>\n",
       "      <td>...</td>\n",
       "    </tr>\n",
       "    <tr>\n",
       "      <th>204</th>\n",
       "      <td>West Bank</td>\n",
       "      <td>Middle East</td>\n",
       "      <td>t</td>\n",
       "      <td>2018</td>\n",
       "      <td>NF</td>\n",
       "      <td>7</td>\n",
       "      <td>5</td>\n",
       "      <td>2</td>\n",
       "      <td>4</td>\n",
       "      <td>2</td>\n",
       "      <td>3</td>\n",
       "      <td>NaN</td>\n",
       "      <td>5</td>\n",
       "      <td>8</td>\n",
       "      <td>5</td>\n",
       "      <td>5</td>\n",
       "      <td>5</td>\n",
       "      <td>23</td>\n",
       "      <td>28</td>\n",
       "    </tr>\n",
       "    <tr>\n",
       "      <th>205</th>\n",
       "      <td>Western Sahara</td>\n",
       "      <td>Africa</td>\n",
       "      <td>t</td>\n",
       "      <td>2018</td>\n",
       "      <td>NF</td>\n",
       "      <td>7</td>\n",
       "      <td>7</td>\n",
       "      <td>0</td>\n",
       "      <td>0</td>\n",
       "      <td>0</td>\n",
       "      <td>3</td>\n",
       "      <td>NaN</td>\n",
       "      <td>-3</td>\n",
       "      <td>3</td>\n",
       "      <td>0</td>\n",
       "      <td>0</td>\n",
       "      <td>4</td>\n",
       "      <td>7</td>\n",
       "      <td>4</td>\n",
       "    </tr>\n",
       "    <tr>\n",
       "      <th>206</th>\n",
       "      <td>Yemen</td>\n",
       "      <td>Middle East</td>\n",
       "      <td>c</td>\n",
       "      <td>2018</td>\n",
       "      <td>NF</td>\n",
       "      <td>7</td>\n",
       "      <td>6</td>\n",
       "      <td>0</td>\n",
       "      <td>1</td>\n",
       "      <td>0</td>\n",
       "      <td>0</td>\n",
       "      <td>NaN</td>\n",
       "      <td>1</td>\n",
       "      <td>5</td>\n",
       "      <td>3</td>\n",
       "      <td>2</td>\n",
       "      <td>2</td>\n",
       "      <td>12</td>\n",
       "      <td>13</td>\n",
       "    </tr>\n",
       "    <tr>\n",
       "      <th>207</th>\n",
       "      <td>Zambia</td>\n",
       "      <td>Africa</td>\n",
       "      <td>c</td>\n",
       "      <td>2018</td>\n",
       "      <td>PF</td>\n",
       "      <td>4</td>\n",
       "      <td>4</td>\n",
       "      <td>6</td>\n",
       "      <td>10</td>\n",
       "      <td>6</td>\n",
       "      <td>0</td>\n",
       "      <td>NaN</td>\n",
       "      <td>22</td>\n",
       "      <td>10</td>\n",
       "      <td>7</td>\n",
       "      <td>8</td>\n",
       "      <td>8</td>\n",
       "      <td>33</td>\n",
       "      <td>55</td>\n",
       "    </tr>\n",
       "    <tr>\n",
       "      <th>208</th>\n",
       "      <td>Zimbabwe</td>\n",
       "      <td>Africa</td>\n",
       "      <td>c</td>\n",
       "      <td>2018</td>\n",
       "      <td>NF</td>\n",
       "      <td>6</td>\n",
       "      <td>5</td>\n",
       "      <td>2</td>\n",
       "      <td>6</td>\n",
       "      <td>2</td>\n",
       "      <td>0</td>\n",
       "      <td>NaN</td>\n",
       "      <td>10</td>\n",
       "      <td>8</td>\n",
       "      <td>4</td>\n",
       "      <td>3</td>\n",
       "      <td>5</td>\n",
       "      <td>20</td>\n",
       "      <td>30</td>\n",
       "    </tr>\n",
       "  </tbody>\n",
       "</table>\n",
       "<p>209 rows × 19 columns</p>\n",
       "</div>"
      ],
      "text/plain": [
       "            Country       Region C/T?  Edition Status  PR Rating  CL Rating  \\\n",
       "0          Abkhazia      Eurasia    t     2018     PF          4          5   \n",
       "1       Afghanistan         Asia    c     2018     NF          5          6   \n",
       "2           Albania       Europe    c     2018     PF          3          3   \n",
       "3           Algeria       Africa    c     2018     NF          6          5   \n",
       "4           Andorra       Europe    c     2018      F          1          1   \n",
       "..              ...          ...  ...      ...    ...        ...        ...   \n",
       "204       West Bank  Middle East    t     2018     NF          7          5   \n",
       "205  Western Sahara       Africa    t     2018     NF          7          7   \n",
       "206           Yemen  Middle East    c     2018     NF          7          6   \n",
       "207          Zambia       Africa    c     2018     PF          4          4   \n",
       "208        Zimbabwe       Africa    c     2018     NF          6          5   \n",
       "\n",
       "      A   B   C  Add Q  Add A  PR   D   E   F   G  CL  Total  \n",
       "0     6   8   4      0    NaN  18   8   6   4   5  23     41  \n",
       "1     2   7   3      0    NaN  12   6   4   2   2  14     26  \n",
       "2     8  13   7      0    NaN  28  13   9   9   9  40     68  \n",
       "3     3   4   3      0    NaN  10   7   5   6   7  25     35  \n",
       "4    12  15  12      0    NaN  39  15  11  15  16  57     96  \n",
       "..   ..  ..  ..    ...    ...  ..  ..  ..  ..  ..  ..    ...  \n",
       "204   2   4   2      3    NaN   5   8   5   5   5  23     28  \n",
       "205   0   0   0      3    NaN  -3   3   0   0   4   7      4  \n",
       "206   0   1   0      0    NaN   1   5   3   2   2  12     13  \n",
       "207   6  10   6      0    NaN  22  10   7   8   8  33     55  \n",
       "208   2   6   2      0    NaN  10   8   4   3   5  20     30  \n",
       "\n",
       "[209 rows x 19 columns]"
      ]
     },
     "execution_count": 14,
     "metadata": {},
     "output_type": "execute_result"
    }
   ],
   "source": [
    "\n",
    "labels = labels.drop(labels.filter(regex='Unnamed:').columns, axis=1)\n",
    "labels = labels.rename(columns = {'Country/Territory': 'Country'})\n",
    "labels = labels.drop('x', axis = 1)\n",
    "labels = labels[labels['Edition'] == 2018]\n",
    "labels = labels.reset_index(drop = True)\n",
    "labels\n"
   ]
  },
  {
   "cell_type": "markdown",
   "id": "766b37e3",
   "metadata": {},
   "source": [
    "### Transformation"
   ]
  },
  {
   "cell_type": "code",
   "execution_count": 15,
   "id": "94d30092",
   "metadata": {},
   "outputs": [
    {
     "data": {
      "text/plain": [
       "0      18.137625\n",
       "1       5.040320\n",
       "2       5.836775\n",
       "3      15.542856\n",
       "4       2.717535\n",
       "         ...    \n",
       "96     32.295159\n",
       "97      5.619922\n",
       "98     22.074686\n",
       "99     22.481249\n",
       "100    27.388456\n",
       "Name: Population vulnerable to multidimensional poverty, Length: 101, dtype: float64"
      ]
     },
     "execution_count": 15,
     "metadata": {},
     "output_type": "execute_result"
    }
   ],
   "source": [
    "# newdf = labels[['Country', 'Status']]\n",
    "merged = pd.merge(df, labels[['Country', 'Status']], on =['Country'], how = 'left')\n",
    "# print(merged.info())\n",
    "merged['Population vulnerable to multidimensional poverty']\n",
    "# merged"
   ]
  },
  {
   "cell_type": "markdown",
   "id": "ffe63303",
   "metadata": {},
   "source": [
    "## Relationship of Freedom with Population Vulnerable to Poverty"
   ]
  },
  {
   "cell_type": "code",
   "execution_count": 6,
   "id": "2e868c76",
   "metadata": {},
   "outputs": [
    {
     "data": {
      "text/plain": [
       "<seaborn.axisgrid.FacetGrid at 0x7f8b30f6aaf0>"
      ]
     },
     "execution_count": 6,
     "metadata": {},
     "output_type": "execute_result"
    },
    {
     "data": {
      "image/png": "[encoded data removed]",
      "text/plain": [
       "<Figure size 360x360 with 1 Axes>"
      ]
     },
     "metadata": {
      "needs_background": "light"
     },
     "output_type": "display_data"
    }
   ],
   "source": [
    "\n",
    "# intensity of deprivation with PF, F, NF\n",
    "# standard of living with population vulernable -> among diff statuses\n",
    "sns.catplot(y = 'Status', x = 'Population vulnerable to multidimensional poverty', data = merged, kind = \"box\", orient= \"h\")"
   ]
  },
  {
   "cell_type": "code",
   "execution_count": 7,
   "id": "cd132cff",
   "metadata": {},
   "outputs": [
    {
     "data": {
      "text/plain": [
       "<seaborn.axisgrid.FacetGrid at 0x7f8b30fc9970>"
      ]
     },
     "execution_count": 7,
     "metadata": {},
     "output_type": "execute_result"
    },
    {
     "data": {
      "image/png": "[encoded data removed]",
      "text/plain": [
       "<Figure size 360x360 with 1 Axes>"
      ]
     },
     "metadata": {
      "needs_background": "light"
     },
     "output_type": "display_data"
    }
   ],
   "source": [
    "sns.catplot(x = 'Status', y = 'Intensity of deprivation', data = merged, kind = \"box\")"
   ]
  },
  {
   "cell_type": "code",
   "execution_count": 38,
   "id": "21c78057",
   "metadata": {},
   "outputs": [
    {
     "data": {
      "text/plain": [
       "<seaborn.axisgrid.FacetGrid at 0x7f8b31a2df70>"
      ]
     },
     "execution_count": 38,
     "metadata": {},
     "output_type": "execute_result"
    },
    {
     "data": {
      "image/png": "[encoded data removed]",
      "text/plain": [
       "<Figure size 360x360 with 1 Axes>"
      ]
     },
     "metadata": {
      "needs_background": "light"
     },
     "output_type": "display_data"
    }
   ],
   "source": [
    "# sns.catplot(x = 'National poverty line', y = 'Inequality among the poor', data = merged, hue = 'Status' , kind = \"swarm\")\n",
    "# sns.displot(merged, x='Standard of living', hue=\"Status\", kind=\"kde\", fill = True)\n",
    "\n",
    "# sns.histplot(merged['Population in severe multidimensional poverty '])\n",
    "\n",
    "sns.catplot(x = 'Status', y = 'Population in severe multidimensional poverty ', data = merged, kind = 'bar')\n",
    "\n",
    "# sns.catplot(y = 'Status', x = 'Population in severe multidimensional poverty ', data = merged, kind = \"box\", orient= \"h\")\n",
    "\n",
    "# sns.relplot()\n"
   ]
  },
  {
   "cell_type": "code",
   "execution_count": null,
   "id": "e558a05f",
   "metadata": {},
   "outputs": [],
   "source": []
  },
  {
   "cell_type": "code",
   "execution_count": null,
   "id": "66a456f2",
   "metadata": {},
   "outputs": [],
   "source": []
  },
  {
   "cell_type": "code",
   "execution_count": null,
   "id": "c5733717",
   "metadata": {},
   "outputs": [],
   "source": []
  },
  {
   "cell_type": "code",
   "execution_count": null,
   "id": "010745a0",
   "metadata": {},
   "outputs": [],
   "source": []
  },
  {
   "cell_type": "code",
   "execution_count": null,
   "id": "ed194bec",
   "metadata": {},
   "outputs": [],
   "source": []
  },
  {
   "cell_type": "code",
   "execution_count": null,
   "id": "d4097c39",
   "metadata": {},
   "outputs": [],
   "source": []
  },
  {
   "cell_type": "code",
   "execution_count": null,
   "id": "b25260a8",
   "metadata": {},
   "outputs": [],
   "source": []
  },
  {
   "cell_type": "code",
   "execution_count": null,
   "id": "ff2cb32a",
   "metadata": {},
   "outputs": [],
   "source": []
  }
 ],
 "metadata": {
  "kernelspec": {
   "display_name": "Python 3 (ipykernel)",
   "language": "python",
   "name": "python3"
  },
  "language_info": {
   "codemirror_mode": {
    "name": "ipython",
    "version": 3
   },
   "file_extension": ".py",
   "mimetype": "text/x-python",
   "name": "python",
   "nbconvert_exporter": "python",
   "pygments_lexer": "ipython3",
   "version": "3.9.7"
  }
 },
 "nbformat": 4,
 "nbformat_minor": 5
}
