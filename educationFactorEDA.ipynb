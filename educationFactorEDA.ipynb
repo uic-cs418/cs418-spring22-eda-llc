{
 "cells": [
  {
   "cell_type": "markdown",
   "id": "1b80f0c6",
   "metadata": {},
   "source": [
    "## EDA For Literacy Rate Affecting The Status Of The Countries\n"
   ]
  },
  {
   "cell_type": "code",
   "execution_count": 135,
   "id": "3d3a39c0",
   "metadata": {},
   "outputs": [],
   "source": [
    "import pandas as pd\n",
    "import seaborn as sns\n",
    "import numpy as np\n",
    "import matplotlib.pyplot as plt\n",
    "import sklearn\n",
    "import seaborn as sns;"
   ]
  },
  {
   "cell_type": "markdown",
   "id": "aed8c301",
   "metadata": {},
   "source": [
    "### Import and clean the dataset for literacy rate for each country for time period = 2018"
   ]
  },
  {
   "cell_type": "code",
   "execution_count": 136,
   "id": "e6a390d6",
   "metadata": {},
   "outputs": [
    {
     "data": {
      "text/html": [
       "<div>\n",
       "<style scoped>\n",
       "    .dataframe tbody tr th:only-of-type {\n",
       "        vertical-align: middle;\n",
       "    }\n",
       "\n",
       "    .dataframe tbody tr th {\n",
       "        vertical-align: top;\n",
       "    }\n",
       "\n",
       "    .dataframe thead th {\n",
       "        text-align: right;\n",
       "    }\n",
       "</style>\n",
       "<table border=\"1\" class=\"dataframe\">\n",
       "  <thead>\n",
       "    <tr style=\"text-align: right;\">\n",
       "      <th></th>\n",
       "      <th>ISO3</th>\n",
       "      <th>Country/Territory</th>\n",
       "      <th>Region_UNICEF</th>\n",
       "      <th>Sub-region</th>\n",
       "      <th>Development Regions</th>\n",
       "      <th>Total_LiteracyRate</th>\n",
       "      <th>Time period</th>\n",
       "    </tr>\n",
       "  </thead>\n",
       "  <tbody>\n",
       "    <tr>\n",
       "      <th>0</th>\n",
       "      <td>AFG</td>\n",
       "      <td>Afghanistan</td>\n",
       "      <td>SA</td>\n",
       "      <td>SA</td>\n",
       "      <td>Least Developed</td>\n",
       "      <td>65.420547</td>\n",
       "      <td>2018</td>\n",
       "    </tr>\n",
       "    <tr>\n",
       "      <th>1</th>\n",
       "      <td>ALB</td>\n",
       "      <td>Albania</td>\n",
       "      <td>ECA</td>\n",
       "      <td>EECA</td>\n",
       "      <td>More Developed</td>\n",
       "      <td>99.330002</td>\n",
       "      <td>2018</td>\n",
       "    </tr>\n",
       "    <tr>\n",
       "      <th>2</th>\n",
       "      <td>DZA</td>\n",
       "      <td>Algeria</td>\n",
       "      <td>MENA</td>\n",
       "      <td>MENA</td>\n",
       "      <td>Less Developed</td>\n",
       "      <td>97.426521</td>\n",
       "      <td>2018</td>\n",
       "    </tr>\n",
       "    <tr>\n",
       "      <th>7</th>\n",
       "      <td>ARG</td>\n",
       "      <td>Argentina</td>\n",
       "      <td>LAC</td>\n",
       "      <td>LAC</td>\n",
       "      <td>Less Developed</td>\n",
       "      <td>99.505524</td>\n",
       "      <td>2018</td>\n",
       "    </tr>\n",
       "    <tr>\n",
       "      <th>13</th>\n",
       "      <td>BHR</td>\n",
       "      <td>Bahrain</td>\n",
       "      <td>MENA</td>\n",
       "      <td>MENA</td>\n",
       "      <td>Less Developed</td>\n",
       "      <td>99.687202</td>\n",
       "      <td>2018</td>\n",
       "    </tr>\n",
       "  </tbody>\n",
       "</table>\n",
       "</div>"
      ],
      "text/plain": [
       "   ISO3 Country/Territory Region_UNICEF Sub-region Development Regions  \\\n",
       "0   AFG       Afghanistan            SA         SA     Least Developed   \n",
       "1   ALB           Albania           ECA       EECA      More Developed   \n",
       "2   DZA           Algeria          MENA       MENA      Less Developed   \n",
       "7   ARG         Argentina           LAC        LAC      Less Developed   \n",
       "13  BHR           Bahrain          MENA       MENA      Less Developed   \n",
       "\n",
       "    Total_LiteracyRate Time period  \n",
       "0            65.420547        2018  \n",
       "1            99.330002        2018  \n",
       "2            97.426521        2018  \n",
       "7            99.505524        2018  \n",
       "13           99.687202        2018  "
      ]
     },
     "execution_count": 136,
     "metadata": {},
     "output_type": "execute_result"
    }
   ],
   "source": [
    "edu = pd.read_excel(\"Literacy-rate_2021-1.xlsx\", sheet_name = 2, nrows = 203, header = 0)\n",
    "edu = edu.drop(columns = ['Gender','Source'])\n",
    "edu = edu.drop([0])\n",
    "edu = edu.drop(columns=edu.columns[6])\n",
    "edu = edu.rename(columns={\"Unnamed: 9\": \"Time period\"})\n",
    "edu = edu.rename(columns={\"Region\": \"Region_UNICEF\"})\n",
    "edu = edu.rename(columns={\"Total\": \"Total_LiteracyRate\"})\n",
    "edu = edu.reset_index(drop=True)\n",
    "# Cleaning the data by dropping the countries marked as \"Not Classified\" in Development Regions\n",
    "edu = edu[edu['Development Regions'] != 'Not Classified']\n",
    "edu = edu.dropna()\n",
    "edu = edu.rename(columns={\"Countries and areas\": \"Country/Territory\"})\n",
    "edu.head()"
   ]
  },
  {
   "cell_type": "code",
   "execution_count": 137,
   "id": "78a6a9b3",
   "metadata": {},
   "outputs": [
    {
     "data": {
      "text/plain": [
       "Less Developed     46\n",
       "Least Developed    20\n",
       "More Developed     12\n",
       "Name: Development Regions, dtype: int64"
      ]
     },
     "execution_count": 137,
     "metadata": {},
     "output_type": "execute_result"
    }
   ],
   "source": [
    "edu['Development Regions'].value_counts()"
   ]
  },
  {
   "cell_type": "markdown",
   "id": "9652fcfd",
   "metadata": {},
   "source": [
    "### Import All Data FIW To Compare The Status of the Countries with The Literacy Rate for 2018 Edition"
   ]
  },
  {
   "cell_type": "code",
   "execution_count": 138,
   "id": "a70a3a87",
   "metadata": {
    "scrolled": false
   },
   "outputs": [
    {
     "data": {
      "text/html": [
       "<div>\n",
       "<style scoped>\n",
       "    .dataframe tbody tr th:only-of-type {\n",
       "        vertical-align: middle;\n",
       "    }\n",
       "\n",
       "    .dataframe tbody tr th {\n",
       "        vertical-align: top;\n",
       "    }\n",
       "\n",
       "    .dataframe thead th {\n",
       "        text-align: right;\n",
       "    }\n",
       "</style>\n",
       "<table border=\"1\" class=\"dataframe\">\n",
       "  <thead>\n",
       "    <tr style=\"text-align: right;\">\n",
       "      <th></th>\n",
       "      <th>Country/Territory</th>\n",
       "      <th>Region</th>\n",
       "      <th>C/T</th>\n",
       "      <th>Edition</th>\n",
       "      <th>Status</th>\n",
       "      <th>PR rating</th>\n",
       "      <th>CL rating</th>\n",
       "      <th>Total</th>\n",
       "    </tr>\n",
       "  </thead>\n",
       "  <tbody>\n",
       "    <tr>\n",
       "      <th>0</th>\n",
       "      <td>Abkhazia</td>\n",
       "      <td>Eurasia</td>\n",
       "      <td>t</td>\n",
       "      <td>2018</td>\n",
       "      <td>PF</td>\n",
       "      <td>4</td>\n",
       "      <td>5</td>\n",
       "      <td>41</td>\n",
       "    </tr>\n",
       "    <tr>\n",
       "      <th>1</th>\n",
       "      <td>Afghanistan</td>\n",
       "      <td>Asia</td>\n",
       "      <td>c</td>\n",
       "      <td>2018</td>\n",
       "      <td>NF</td>\n",
       "      <td>5</td>\n",
       "      <td>6</td>\n",
       "      <td>26</td>\n",
       "    </tr>\n",
       "    <tr>\n",
       "      <th>2</th>\n",
       "      <td>Albania</td>\n",
       "      <td>Europe</td>\n",
       "      <td>c</td>\n",
       "      <td>2018</td>\n",
       "      <td>PF</td>\n",
       "      <td>3</td>\n",
       "      <td>3</td>\n",
       "      <td>68</td>\n",
       "    </tr>\n",
       "    <tr>\n",
       "      <th>3</th>\n",
       "      <td>Algeria</td>\n",
       "      <td>Africa</td>\n",
       "      <td>c</td>\n",
       "      <td>2018</td>\n",
       "      <td>NF</td>\n",
       "      <td>6</td>\n",
       "      <td>5</td>\n",
       "      <td>35</td>\n",
       "    </tr>\n",
       "    <tr>\n",
       "      <th>4</th>\n",
       "      <td>Andorra</td>\n",
       "      <td>Europe</td>\n",
       "      <td>c</td>\n",
       "      <td>2018</td>\n",
       "      <td>F</td>\n",
       "      <td>1</td>\n",
       "      <td>1</td>\n",
       "      <td>96</td>\n",
       "    </tr>\n",
       "  </tbody>\n",
       "</table>\n",
       "</div>"
      ],
      "text/plain": [
       "  Country/Territory   Region C/T  Edition Status  PR rating  CL rating  Total\n",
       "0          Abkhazia  Eurasia   t     2018     PF          4          5     41\n",
       "1       Afghanistan     Asia   c     2018     NF          5          6     26\n",
       "2           Albania   Europe   c     2018     PF          3          3     68\n",
       "3           Algeria   Africa   c     2018     NF          6          5     35\n",
       "4           Andorra   Europe   c     2018      F          1          1     96"
      ]
     },
     "execution_count": 138,
     "metadata": {},
     "output_type": "execute_result"
    }
   ],
   "source": [
    "allData = pd.read_excel(\"All_data_FIW_2013-2022.xlsx\", sheet_name = 1, header=1)\n",
    "allData = allData[allData['Edition'] == 2018]\n",
    "allData = allData.reset_index(drop = True)\n",
    "allData = allData.drop(columns=allData.columns[7:-1])\n",
    "allData.head()\n"
   ]
  },
  {
   "cell_type": "markdown",
   "id": "7ad1b0a5",
   "metadata": {},
   "source": [
    "Number of Countries Free, Partially Free and Not Free for 2018 Edition"
   ]
  },
  {
   "cell_type": "code",
   "execution_count": 139,
   "id": "35040cda",
   "metadata": {},
   "outputs": [
    {
     "data": {
      "text/plain": [
       "F     89\n",
       "PF    63\n",
       "NF    57\n",
       "Name: Status, dtype: int64"
      ]
     },
     "execution_count": 139,
     "metadata": {},
     "output_type": "execute_result"
    }
   ],
   "source": [
    "allData['Status'].value_counts()"
   ]
  },
  {
   "cell_type": "markdown",
   "id": "67cd03c2",
   "metadata": {},
   "source": [
    "### EDA for Literacy Rate Dataset"
   ]
  },
  {
   "cell_type": "code",
   "execution_count": null,
   "id": "33076e71",
   "metadata": {},
   "outputs": [],
   "source": []
  },
  {
   "cell_type": "code",
   "execution_count": 173,
   "id": "de03dfc0",
   "metadata": {},
   "outputs": [
    {
     "data": {
      "text/plain": [
       "<AxesSubplot:xlabel='Region_UNICEF', ylabel='number_of_countries'>"
      ]
     },
     "execution_count": 173,
     "metadata": {},
     "output_type": "execute_result"
    },
    {
     "data": {
      "image/png": "[encoded data removed]",
      "text/plain": [
       "<Figure size 864x432 with 2 Axes>"
      ]
     },
     "metadata": {},
     "output_type": "display_data"
    }
   ],
   "source": [
    "# # edu_grps = edu.groupby(['Development Regions']).\n",
    "# fig, ax = plt.subplots()\n",
    "# edu_grp = edu_grp.dropna()\n",
    "# edu_grp = edu.groupby(['Development Regions','Countries and areas','Total']).count()\n",
    "# edu_grp = edu_grp.reset_index()\n",
    "# edu_grp\n",
    "# fig, axs = plt.subplots()\n",
    "# sns.kdeplot(edu[edu['Development Regions']=='Less Developed']['Total'], label=\"less developed\", alpha=0.5, ax = axs[0])\n",
    "# ax.hist(edu[edu['Development Regions']=='Least Developed']['Total'], label=\"least developed\", alpha=0.5)\n",
    "# ax.hist(edu[edu['Development Regions']=='More Developed']['Total'], label=\"more developed\", alpha=0.5)\n",
    "# ax.legend()\n",
    "# edu_grps = edu.groupby(['Development Regions']).\n",
    "\n",
    "# ax.hist(edu[edu['Development Regions']=='Less Developed']['Countries and areas'], alpha=0.5)\n",
    "# ax.hist(edu[edu['Total']< 70]['Countries and areas'], alpha=0.5)\n",
    "# ax.hist(edu[edu['Total']>70]['Countries and areas'], alpha=0.5)\n",
    "\n",
    "# sns.histplot(data=edu,x = 'Total', hue='Development Regions', fill=True,stat='density',element='step',common_norm=False)\n",
    "# sns.stripplot(data=edu, x='Development Regions', y='Total', hue='Region')\n",
    "\n",
    "# # sns.barplot(data=edu, x='Development Regions', y='Total')\n",
    "# axs = sns.barplot(data=edu, x='Region_UNICEF', y='Total_LiteracyRate', hue='Development Regions', palette='Set2')\n",
    "\n",
    "# axs = sns.barplot(data=edu, x='Region', y='Total_LiteracyRate', hue='Development Regions', dodge=True, palette='Set2')\n",
    "# axs = axs.set_xticklabels(labels = edu['Country/Territory'], rotation=90)\n",
    "# axs = sns.set(rc={'figure.figsize':(30,10)})\n",
    "# sns.boxenplot(data=edu, x='Region', y='Total', hue='Development Regions')\n",
    "\n",
    "#### developement with regions\n",
    "\n",
    "\n",
    "# # region_label = ['East Asia and the Pacific', 'Europe and Central Asia', 'Eastern Europe and Central Asia',\n",
    "# #                 'Eastern and Southern Africa', 'Latin America and the Caribbean', 'Middle East and North Africa',\n",
    "# #                'North America', ]\n",
    "\n",
    "edu_grp = edu.groupby(['Region_UNICEF','Development Regions']).agg(number_of_countries = ('Country/Territory','count'))\n",
    "edu_grp = edu_grp.reset_index()\n",
    "edu_grp\n",
    "\n",
    "\n",
    "# sns.barplot(data=edu_grp, x='Region_UNICEF', y='val')\n",
    "# axs = sns.pointplot(data=edu, x='Region_UNICEF', y='Total_LiteracyRate', hue='Development Regions', dodge=True, palette='Set2')\n",
    "\n",
    "\n",
    "\n",
    "\n",
    "fig, ax1 = plt.subplots(figsize=(12,6))\n",
    "\n",
    "edu_grp2 = edu.groupby(['Region_UNICEF']).agg(literacy_rate = ('Total_LiteracyRate','mean'))\n",
    "edu_grp2\n",
    "sns.lineplot(data = edu_grp2['literacy_rate'], marker='o', sort = False, ax=ax1)\n",
    "ax2 = ax1.twinx()\n",
    "\n",
    "sns.barplot(data=edu_grp, x='Region_UNICEF', y='number_of_countries', hue = 'Development Regions', alpha=0.5, ax=ax2)\n",
    "\n"
   ]
  },
  {
   "cell_type": "code",
   "execution_count": null,
   "id": "9eb5c1b6",
   "metadata": {},
   "outputs": [],
   "source": [
    "# the number of developed countries in each region."
   ]
  },
  {
   "cell_type": "markdown",
   "id": "3bcdf250",
   "metadata": {},
   "source": [
    "### EDA comparing status and literacy rate\n"
   ]
  },
  {
   "cell_type": "code",
   "execution_count": 40,
   "id": "4b95ebea",
   "metadata": {},
   "outputs": [
    {
     "data": {
      "text/html": [
       "<div>\n",
       "<style scoped>\n",
       "    .dataframe tbody tr th:only-of-type {\n",
       "        vertical-align: middle;\n",
       "    }\n",
       "\n",
       "    .dataframe tbody tr th {\n",
       "        vertical-align: top;\n",
       "    }\n",
       "\n",
       "    .dataframe thead th {\n",
       "        text-align: right;\n",
       "    }\n",
       "</style>\n",
       "<table border=\"1\" class=\"dataframe\">\n",
       "  <thead>\n",
       "    <tr style=\"text-align: right;\">\n",
       "      <th></th>\n",
       "      <th>Country/Territory</th>\n",
       "      <th>Region</th>\n",
       "      <th>C/T</th>\n",
       "      <th>Edition</th>\n",
       "      <th>Status</th>\n",
       "      <th>PR rating</th>\n",
       "      <th>CL rating</th>\n",
       "      <th>Total</th>\n",
       "      <th>ISO3</th>\n",
       "      <th>Region_UNICEF</th>\n",
       "      <th>Sub-region</th>\n",
       "      <th>Development Regions</th>\n",
       "      <th>Total_LiteracyRate</th>\n",
       "      <th>Time period</th>\n",
       "    </tr>\n",
       "  </thead>\n",
       "  <tbody>\n",
       "    <tr>\n",
       "      <th>1</th>\n",
       "      <td>Afghanistan</td>\n",
       "      <td>Asia</td>\n",
       "      <td>c</td>\n",
       "      <td>2018</td>\n",
       "      <td>NF</td>\n",
       "      <td>5</td>\n",
       "      <td>6</td>\n",
       "      <td>26</td>\n",
       "      <td>AFG</td>\n",
       "      <td>SA</td>\n",
       "      <td>SA</td>\n",
       "      <td>Least Developed</td>\n",
       "      <td>65.420547</td>\n",
       "      <td>2018</td>\n",
       "    </tr>\n",
       "    <tr>\n",
       "      <th>2</th>\n",
       "      <td>Albania</td>\n",
       "      <td>Europe</td>\n",
       "      <td>c</td>\n",
       "      <td>2018</td>\n",
       "      <td>PF</td>\n",
       "      <td>3</td>\n",
       "      <td>3</td>\n",
       "      <td>68</td>\n",
       "      <td>ALB</td>\n",
       "      <td>ECA</td>\n",
       "      <td>EECA</td>\n",
       "      <td>More Developed</td>\n",
       "      <td>99.330002</td>\n",
       "      <td>2018</td>\n",
       "    </tr>\n",
       "    <tr>\n",
       "      <th>3</th>\n",
       "      <td>Algeria</td>\n",
       "      <td>Africa</td>\n",
       "      <td>c</td>\n",
       "      <td>2018</td>\n",
       "      <td>NF</td>\n",
       "      <td>6</td>\n",
       "      <td>5</td>\n",
       "      <td>35</td>\n",
       "      <td>DZA</td>\n",
       "      <td>MENA</td>\n",
       "      <td>MENA</td>\n",
       "      <td>Less Developed</td>\n",
       "      <td>97.426521</td>\n",
       "      <td>2018</td>\n",
       "    </tr>\n",
       "    <tr>\n",
       "      <th>7</th>\n",
       "      <td>Argentina</td>\n",
       "      <td>Americas</td>\n",
       "      <td>c</td>\n",
       "      <td>2018</td>\n",
       "      <td>F</td>\n",
       "      <td>2</td>\n",
       "      <td>2</td>\n",
       "      <td>83</td>\n",
       "      <td>ARG</td>\n",
       "      <td>LAC</td>\n",
       "      <td>LAC</td>\n",
       "      <td>Less Developed</td>\n",
       "      <td>99.505524</td>\n",
       "      <td>2018</td>\n",
       "    </tr>\n",
       "    <tr>\n",
       "      <th>13</th>\n",
       "      <td>Bahrain</td>\n",
       "      <td>Middle East</td>\n",
       "      <td>c</td>\n",
       "      <td>2018</td>\n",
       "      <td>NF</td>\n",
       "      <td>7</td>\n",
       "      <td>6</td>\n",
       "      <td>12</td>\n",
       "      <td>BHR</td>\n",
       "      <td>MENA</td>\n",
       "      <td>MENA</td>\n",
       "      <td>Less Developed</td>\n",
       "      <td>99.687202</td>\n",
       "      <td>2018</td>\n",
       "    </tr>\n",
       "  </tbody>\n",
       "</table>\n",
       "</div>"
      ],
      "text/plain": [
       "   Country/Territory       Region C/T  Edition Status  PR rating  CL rating  \\\n",
       "1        Afghanistan         Asia   c     2018     NF          5          6   \n",
       "2            Albania       Europe   c     2018     PF          3          3   \n",
       "3            Algeria       Africa   c     2018     NF          6          5   \n",
       "7          Argentina     Americas   c     2018      F          2          2   \n",
       "13           Bahrain  Middle East   c     2018     NF          7          6   \n",
       "\n",
       "    Total ISO3 Region_UNICEF Sub-region Development Regions  \\\n",
       "1      26  AFG            SA         SA     Least Developed   \n",
       "2      68  ALB           ECA       EECA      More Developed   \n",
       "3      35  DZA          MENA       MENA      Less Developed   \n",
       "7      83  ARG           LAC        LAC      Less Developed   \n",
       "13     12  BHR          MENA       MENA      Less Developed   \n",
       "\n",
       "    Total_LiteracyRate Time period  \n",
       "1            65.420547        2018  \n",
       "2            99.330002        2018  \n",
       "3            97.426521        2018  \n",
       "7            99.505524        2018  \n",
       "13           99.687202        2018  "
      ]
     },
     "execution_count": 40,
     "metadata": {},
     "output_type": "execute_result"
    }
   ],
   "source": [
    "allData_merged = allData.merge(edu, how='left', on='Country/Territory')\n",
    "allData_merged = allData_merged.dropna()\n",
    "allData_merged.head()\n"
   ]
  },
  {
   "cell_type": "code",
   "execution_count": null,
   "id": "e04a061e",
   "metadata": {},
   "outputs": [],
   "source": []
  },
  {
   "cell_type": "code",
   "execution_count": 149,
   "id": "2c0e15c3",
   "metadata": {},
   "outputs": [
    {
     "data": {
      "image/png": "[encoded data removed]",
      "text/plain": [
       "<Figure size 360x360 with 1 Axes>"
      ]
     },
     "metadata": {},
     "output_type": "display_data"
    }
   ],
   "source": [
    "# fig, ax = plt.subplots()\n",
    "allData_grp = allData_merged.groupby(['Region','Status']).count()\n",
    "allData_grp = allData_grp.reset_index()\n",
    "# allData_grp\n",
    "\n",
    "\n",
    "\n",
    "# sns.catplot(data=allData_merged, x='Country/Territory', y='Total_LiteracyRate', hue='Status', col='Region', kind=\"bar\")\n",
    "\n",
    "\n",
    "ax = sns.barplot(data=allData_grp, x='Region', y='Total_LiteracyRate', hue='Status', palette='Set2')\n",
    "ax = sns.set(rc={'figure.figsize':(5,4)})\n",
    "\n",
    "#  g = sns.catplot(x=\"sex\", y=\"total_bill\",\n",
    "# ...                 hue=\"smoker\", col=\"time\",\n",
    "# ...                 data=tips, kind=\"bar\",\n",
    "# ...                 height=4, aspect=.7);"
   ]
  },
  {
   "cell_type": "code",
   "execution_count": 148,
   "id": "4ed384dc",
   "metadata": {},
   "outputs": [
    {
     "data": {
      "image/png": "[encoded data removed]",
      "text/plain": [
       "<Figure size 360x288 with 1 Axes>"
      ]
     },
     "metadata": {},
     "output_type": "display_data"
    }
   ],
   "source": [
    "# development_regions with status\n",
    "allData_grp2 = allData_merged.groupby(['Development Regions','Status']).agg(val = ('Country/Territory','count'))\n",
    "allData_grp2 = allData_grp2.reset_index()\n",
    "# allData_grp2\n",
    "ax = sns.barplot(data=allData_grp2, x='Development Regions', y='val', hue='Status')\n",
    "ax = ax.set(ylabel = \"Total Number of Countries\")\n",
    "ax = sns.set(rc={'figure.figsize':(5,5)})\n"
   ]
  },
  {
   "cell_type": "markdown",
   "id": "2b3e16e9",
   "metadata": {},
   "source": [
    "More Developed Country, we see that the total number of free countries is more than the other status.\n",
    "To the contray, analysing the Less and Least Developed Countries, the number of countries not free is more than in Less Developed than in Least Developed.\n"
   ]
  },
  {
   "cell_type": "markdown",
   "id": "71081ae3",
   "metadata": {},
   "source": []
  },
  {
   "cell_type": "code",
   "execution_count": null,
   "id": "6f141fb3",
   "metadata": {},
   "outputs": [],
   "source": []
  }
 ],
 "metadata": {
  "kernelspec": {
   "display_name": "Python 3 (ipykernel)",
   "language": "python",
   "name": "python3"
  },
  "language_info": {
   "codemirror_mode": {
    "name": "ipython",
    "version": 3
   },
   "file_extension": ".py",
   "mimetype": "text/x-python",
   "name": "python",
   "nbconvert_exporter": "python",
   "pygments_lexer": "ipython3",
   "version": "3.9.7"
  }
 },
 "nbformat": 4,
 "nbformat_minor": 5
}
