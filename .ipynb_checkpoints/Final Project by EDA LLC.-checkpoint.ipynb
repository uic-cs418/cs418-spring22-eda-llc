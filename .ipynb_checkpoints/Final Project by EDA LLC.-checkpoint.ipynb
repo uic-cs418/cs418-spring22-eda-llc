{
 "cells": [
  {
   "cell_type": "markdown",
   "id": "886de663",
   "metadata": {},
   "source": [
    "# Factors Affecting Freedom and Democracy of Countries by EDA LLC.\n"
   ]
  },
  {
   "cell_type": "markdown",
   "id": "84b31d2b",
   "metadata": {},
   "source": [
    "Our project is inspired by the Freedom of the World 2022 report by the Freedom House organization, which conducts research and advocacy on democracy, political freedom, and human rights and highlights the ongoing deterioration of democratic institutions around the world.\n",
    "The goal of our project is to analyze the decline of countries considered 'Free' and democratic. In addition, based on different social and political factors, we want to propose a classification model to determine how democratic a government is and which direction it is likely to follow."
   ]
  },
  {
   "cell_type": "markdown",
   "id": "18fa2fe0",
   "metadata": {},
   "source": [
    "### Data\n",
    "Three of the datsets we used are from the Freedom of the World report https://freedomhouse.org/report/freedom-world. These include:\n",
    " - Aggregate scores for different measures like Civil Liberties, Political Rights and freedom status from 2016 - 2022\n",
    " - Election Vulnerability Data 2020-2022 based on most recent election\n",
    " - Freedom status of countries/territories from 2013-2021\n",
    " \n",
    "In addition, we incorporated data about countries' poverty index and literacy rates:\n",
    " - Adult Literacy and Development Rate of Countries 2018 - 2021      (ADD SOURCE LINKS **)\n",
    " - Global Multidimensional Poverty Index Data 2007- 2018\n",
    " \n",
    " Note on data cleaning: "
   ]
  },
  {
   "cell_type": "markdown",
   "id": "fd314715",
   "metadata": {},
   "source": [
    "### Visualizations"
   ]
  },
  {
   "cell_type": "markdown",
   "id": "5137b6bb",
   "metadata": {},
   "source": [
    "### Machine Learning Model"
   ]
  },
  {
   "cell_type": "markdown",
   "id": "9795bedf",
   "metadata": {},
   "source": [
    "### Results"
   ]
  }
 ],
 "metadata": {
  "kernelspec": {
   "display_name": "Python 3 (ipykernel)",
   "language": "python",
   "name": "python3"
  },
  "language_info": {
   "codemirror_mode": {
    "name": "ipython",
    "version": 3
   },
   "file_extension": ".py",
   "mimetype": "text/x-python",
   "name": "python",
   "nbconvert_exporter": "python",
   "pygments_lexer": "ipython3",
   "version": "3.9.7"
  }
 },
 "nbformat": 4,
 "nbformat_minor": 5
}
