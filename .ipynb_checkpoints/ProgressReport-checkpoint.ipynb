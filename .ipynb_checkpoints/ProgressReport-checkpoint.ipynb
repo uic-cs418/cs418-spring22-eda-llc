{
 "cells": [
  {
   "cell_type": "markdown",
   "id": "ae3351cc",
   "metadata": {},
   "source": [
    "### CS 418 Progress Report"
   ]
  },
  {
   "cell_type": "markdown",
   "id": "841e00a3",
   "metadata": {},
   "source": [
    "#### Project introduction: an introduction that discusses the data you are analyzing, and the question or questions you are investigating.\n",
    "\n",
    " - We are trying to predict house prices in Chicago based on Chicago Crime and Real estate data.\n",
    " - We are analyzing Chicago crime and real estate dataset, as well as Chicago geojson data to project data on map\n",
    " - Does house prices change with respect crime? If yes, does it increase or decrese?\n",
    " - Does certain type of crime have higher impact on house prices?"
   ]
  },
  {
   "cell_type": "markdown",
   "id": "1f7b9750",
   "metadata": {},
   "source": [
    "#### Any Changes: a discussion whether your scope has changed since the check-in proposal slides. What did you aim to do that you will not do and what have you added to the project?\n",
    "\n",
    "There have not been any major changes to the scope of of project, we have been researching for more datasets that we can use to help make bteer predictions and for our EDA."
   ]
  },
  {
   "cell_type": "markdown",
   "id": "f6290487",
   "metadata": {},
   "source": [
    "#### Data cleaning: show clearly how you cleaned your data."
   ]
  },
  {
   "cell_type": "markdown",
   "id": "62501d0c",
   "metadata": {},
   "source": [
    "#### Exploratory data analysis: explain what your data looks like (words are fine, but visualizations are often better). Include any interesting issues or preliminary conclusions you have about your data."
   ]
  },
  {
   "cell_type": "markdown",
   "id": "da077667",
   "metadata": {},
   "source": [
    "#### At least one visualization that tests an interesting hypothesis, along with an explanation about why you thought this was an interesting hypothesis to investigate"
   ]
  },
  {
   "cell_type": "markdown",
   "id": "10c1b064",
   "metadata": {},
   "source": [
    "#### At least one ML analysis on your dataset, along with a baseline comparison and an interpretation of the result that you obtain"
   ]
  },
  {
   "cell_type": "markdown",
   "id": "9f62f498",
   "metadata": {},
   "source": [
    "#### Reflection: a discussion of the following:\n",
    " - What is hardest part of the project that you’ve encountered so far?\n",
    " - What are your initial insights?\n",
    " - Are there any concrete results you can show at this point? If not, why not?\n",
    " - Going forward, what are the current biggest problems you’re facing?\n",
    " - Do you think you are on track with your project? If not, what parts do you need to dedicate more time to?\n",
    " - Given your initial exploration of the data, is it worth proceeding with your project, why? If not, how are you going to   change your project and why do you think it’s better than your current results?"
   ]
  },
  {
   "cell_type": "markdown",
   "id": "34236cdd",
   "metadata": {},
   "source": [
    "#### Next steps: What you plan to accomplish in the next month and how you plan to evaluate whether your project achieved the goals you set for it."
   ]
  },
  {
   "cell_type": "code",
   "execution_count": null,
   "id": "1d4d1586",
   "metadata": {},
   "outputs": [],
   "source": []
  }
 ],
 "metadata": {
  "kernelspec": {
   "display_name": "Python 3 (ipykernel)",
   "language": "python",
   "name": "python3"
  },
  "language_info": {
   "codemirror_mode": {
    "name": "ipython",
    "version": 3
   },
   "file_extension": ".py",
   "mimetype": "text/x-python",
   "name": "python",
   "nbconvert_exporter": "python",
   "pygments_lexer": "ipython3",
   "version": "3.9.7"
  }
 },
 "nbformat": 4,
 "nbformat_minor": 5
}
