{
 "cells": [
  {
   "cell_type": "code",
   "execution_count": 150,
   "id": "33e225dc",
   "metadata": {},
   "outputs": [],
   "source": [
    "import pandas as pd\n",
    "import numpy as np\n",
    "import matplotlib.pyplot as plt\n",
    "import seaborn as sns\n",
    "import sklearn\n",
    "from sklearn.model_selection import train_test_split\n",
    "from sklearn.dummy import DummyClassifier\n",
    "import sklearn.metrics as metrics\n",
    "from sklearn.svm import SVC\n",
    "from sklearn.neighbors import KNeighborsClassifier"
   ]
  },
  {
   "cell_type": "code",
   "execution_count": 103,
   "id": "d4d40417",
   "metadata": {},
   "outputs": [],
   "source": [
    "df = pd.read_excel('All_data_FIW_2013-2022.xlsx', sheet_name = 1, header=1)"
   ]
  },
  {
   "cell_type": "code",
   "execution_count": 104,
   "id": "59bb5e0f",
   "metadata": {},
   "outputs": [
    {
     "data": {
      "text/html": [
       "<div>\n",
       "<style scoped>\n",
       "    .dataframe tbody tr th:only-of-type {\n",
       "        vertical-align: middle;\n",
       "    }\n",
       "\n",
       "    .dataframe tbody tr th {\n",
       "        vertical-align: top;\n",
       "    }\n",
       "\n",
       "    .dataframe thead th {\n",
       "        text-align: right;\n",
       "    }\n",
       "</style>\n",
       "<table border=\"1\" class=\"dataframe\">\n",
       "  <thead>\n",
       "    <tr style=\"text-align: right;\">\n",
       "      <th></th>\n",
       "      <th>Country/Territory</th>\n",
       "      <th>Region</th>\n",
       "      <th>C/T</th>\n",
       "      <th>Edition</th>\n",
       "      <th>Status</th>\n",
       "      <th>PR rating</th>\n",
       "      <th>CL rating</th>\n",
       "      <th>A1</th>\n",
       "      <th>A2</th>\n",
       "      <th>A3</th>\n",
       "      <th>...</th>\n",
       "      <th>F3</th>\n",
       "      <th>F4</th>\n",
       "      <th>F</th>\n",
       "      <th>G1</th>\n",
       "      <th>G2</th>\n",
       "      <th>G3</th>\n",
       "      <th>G4</th>\n",
       "      <th>G</th>\n",
       "      <th>CL</th>\n",
       "      <th>Total</th>\n",
       "    </tr>\n",
       "  </thead>\n",
       "  <tbody>\n",
       "    <tr>\n",
       "      <th>0</th>\n",
       "      <td>Abkhazia</td>\n",
       "      <td>Eurasia</td>\n",
       "      <td>t</td>\n",
       "      <td>2022</td>\n",
       "      <td>PF</td>\n",
       "      <td>5</td>\n",
       "      <td>5</td>\n",
       "      <td>2</td>\n",
       "      <td>2</td>\n",
       "      <td>1</td>\n",
       "      <td>...</td>\n",
       "      <td>1</td>\n",
       "      <td>1</td>\n",
       "      <td>4</td>\n",
       "      <td>1</td>\n",
       "      <td>1</td>\n",
       "      <td>2</td>\n",
       "      <td>1</td>\n",
       "      <td>5</td>\n",
       "      <td>23</td>\n",
       "      <td>40</td>\n",
       "    </tr>\n",
       "    <tr>\n",
       "      <th>1</th>\n",
       "      <td>Afghanistan</td>\n",
       "      <td>Asia</td>\n",
       "      <td>c</td>\n",
       "      <td>2022</td>\n",
       "      <td>NF</td>\n",
       "      <td>7</td>\n",
       "      <td>6</td>\n",
       "      <td>0</td>\n",
       "      <td>0</td>\n",
       "      <td>0</td>\n",
       "      <td>...</td>\n",
       "      <td>0</td>\n",
       "      <td>0</td>\n",
       "      <td>0</td>\n",
       "      <td>0</td>\n",
       "      <td>1</td>\n",
       "      <td>0</td>\n",
       "      <td>1</td>\n",
       "      <td>2</td>\n",
       "      <td>9</td>\n",
       "      <td>10</td>\n",
       "    </tr>\n",
       "    <tr>\n",
       "      <th>2</th>\n",
       "      <td>Albania</td>\n",
       "      <td>Europe</td>\n",
       "      <td>c</td>\n",
       "      <td>2022</td>\n",
       "      <td>PF</td>\n",
       "      <td>3</td>\n",
       "      <td>3</td>\n",
       "      <td>3</td>\n",
       "      <td>3</td>\n",
       "      <td>3</td>\n",
       "      <td>...</td>\n",
       "      <td>2</td>\n",
       "      <td>3</td>\n",
       "      <td>9</td>\n",
       "      <td>3</td>\n",
       "      <td>2</td>\n",
       "      <td>2</td>\n",
       "      <td>2</td>\n",
       "      <td>9</td>\n",
       "      <td>39</td>\n",
       "      <td>67</td>\n",
       "    </tr>\n",
       "    <tr>\n",
       "      <th>3</th>\n",
       "      <td>Algeria</td>\n",
       "      <td>Africa</td>\n",
       "      <td>c</td>\n",
       "      <td>2022</td>\n",
       "      <td>NF</td>\n",
       "      <td>6</td>\n",
       "      <td>5</td>\n",
       "      <td>1</td>\n",
       "      <td>1</td>\n",
       "      <td>1</td>\n",
       "      <td>...</td>\n",
       "      <td>2</td>\n",
       "      <td>2</td>\n",
       "      <td>6</td>\n",
       "      <td>2</td>\n",
       "      <td>2</td>\n",
       "      <td>2</td>\n",
       "      <td>1</td>\n",
       "      <td>7</td>\n",
       "      <td>22</td>\n",
       "      <td>32</td>\n",
       "    </tr>\n",
       "    <tr>\n",
       "      <th>4</th>\n",
       "      <td>Andorra</td>\n",
       "      <td>Europe</td>\n",
       "      <td>c</td>\n",
       "      <td>2022</td>\n",
       "      <td>F</td>\n",
       "      <td>1</td>\n",
       "      <td>1</td>\n",
       "      <td>4</td>\n",
       "      <td>4</td>\n",
       "      <td>4</td>\n",
       "      <td>...</td>\n",
       "      <td>4</td>\n",
       "      <td>3</td>\n",
       "      <td>15</td>\n",
       "      <td>4</td>\n",
       "      <td>4</td>\n",
       "      <td>3</td>\n",
       "      <td>4</td>\n",
       "      <td>15</td>\n",
       "      <td>55</td>\n",
       "      <td>93</td>\n",
       "    </tr>\n",
       "  </tbody>\n",
       "</table>\n",
       "<p>5 rows × 44 columns</p>\n",
       "</div>"
      ],
      "text/plain": [
       "  Country/Territory   Region C/T  Edition Status  PR rating  CL rating  A1  \\\n",
       "0          Abkhazia  Eurasia   t     2022     PF          5          5   2   \n",
       "1       Afghanistan     Asia   c     2022     NF          7          6   0   \n",
       "2           Albania   Europe   c     2022     PF          3          3   3   \n",
       "3           Algeria   Africa   c     2022     NF          6          5   1   \n",
       "4           Andorra   Europe   c     2022      F          1          1   4   \n",
       "\n",
       "   A2  A3  ...  F3  F4   F  G1  G2  G3  G4   G  CL  Total  \n",
       "0   2   1  ...   1   1   4   1   1   2   1   5  23     40  \n",
       "1   0   0  ...   0   0   0   0   1   0   1   2   9     10  \n",
       "2   3   3  ...   2   3   9   3   2   2   2   9  39     67  \n",
       "3   1   1  ...   2   2   6   2   2   2   1   7  22     32  \n",
       "4   4   4  ...   4   3  15   4   4   3   4  15  55     93  \n",
       "\n",
       "[5 rows x 44 columns]"
      ]
     },
     "execution_count": 104,
     "metadata": {},
     "output_type": "execute_result"
    }
   ],
   "source": [
    "df.head()"
   ]
  },
  {
   "cell_type": "code",
   "execution_count": 141,
   "id": "9d989f05",
   "metadata": {},
   "outputs": [
    {
     "data": {
      "text/plain": [
       "array([[2, 2, 1, ..., 1, 2, 1],\n",
       "       [0, 0, 0, ..., 1, 0, 1],\n",
       "       [3, 3, 3, ..., 2, 2, 2],\n",
       "       ...,\n",
       "       [1, 0, 2, ..., 1, 1, 1],\n",
       "       [3, 3, 3, ..., 2, 1, 2],\n",
       "       [1, 1, 1, ..., 1, 1, 1]], dtype=int64)"
      ]
     },
     "execution_count": 141,
     "metadata": {},
     "output_type": "execute_result"
    }
   ],
   "source": [
    "X = df.iloc[:, 7:-1]\n",
    "X = X.drop(['A', 'B', 'C', 'D', 'E', 'F', 'G', 'CL', 'PR', 'Add Q', 'Add A'], axis=1)\n",
    "X = X.to_numpy()\n",
    "X"
   ]
  },
  {
   "cell_type": "code",
   "execution_count": 140,
   "id": "814264e6",
   "metadata": {},
   "outputs": [
    {
     "data": {
      "text/plain": [
       "0       PF\n",
       "1       NF\n",
       "2       PF\n",
       "3       NF\n",
       "4        F\n",
       "        ..\n",
       "2090    NF\n",
       "2091    NF\n",
       "2092    NF\n",
       "2093    PF\n",
       "2094    NF\n",
       "Name: Status, Length: 2095, dtype: object"
      ]
     },
     "execution_count": 140,
     "metadata": {},
     "output_type": "execute_result"
    }
   ],
   "source": [
    "y = df.iloc[:,4]\n",
    "y"
   ]
  },
  {
   "cell_type": "code",
   "execution_count": 148,
   "id": "3e122bad",
   "metadata": {},
   "outputs": [],
   "source": [
    "X_train, X_test, y_train, y_test = train_test_split(X,y,  random_state = 1)"
   ]
  },
  {
   "cell_type": "code",
   "execution_count": 143,
   "id": "a4b107f5",
   "metadata": {},
   "outputs": [
    {
     "data": {
      "text/plain": [
       "859     PF\n",
       "1233    PF\n",
       "2013     F\n",
       "1680    NF\n",
       "1939     F\n",
       "        ..\n",
       "361     NF\n",
       "1051    NF\n",
       "115     PF\n",
       "628     PF\n",
       "336      F\n",
       "Name: Status, Length: 524, dtype: object"
      ]
     },
     "execution_count": 143,
     "metadata": {},
     "output_type": "execute_result"
    }
   ],
   "source": [
    "y_test"
   ]
  },
  {
   "cell_type": "code",
   "execution_count": 145,
   "id": "f302e28a",
   "metadata": {},
   "outputs": [
    {
     "name": "stdout",
     "output_type": "stream",
     "text": [
      "Baseline Classifier Accuracy: 0.42748091603053434\n",
      "SVM Accuracy: 0.9923664122137404\n"
     ]
    }
   ],
   "source": [
    "dummy = DummyClassifier()\n",
    "dummy.fit(X_train, y_train)\n",
    "y_pred = dummy.predict(X_test)\n",
    "\n",
    "print(\"Baseline Classifier Accuracy:\",metrics.accuracy_score(y_test, y_pred))\n",
    "\n",
    "learner = SVC(kernel = 'linear',gamma='auto')\n",
    "learner.fit(X_train, y_train)\n",
    "y_pred = learner.predict(X_test)\n",
    "print(\"SVM Accuracy:\",metrics.accuracy_score(y_test, y_pred))"
   ]
  },
  {
   "cell_type": "code",
   "execution_count": 152,
   "id": "5ffe8279",
   "metadata": {
    "scrolled": true
   },
   "outputs": [
    {
     "data": {
      "text/plain": [
       "array(['PF', 'PF', 'F', 'NF', 'F', 'NF', 'PF', 'NF', 'NF', 'PF', 'PF',\n",
       "       'F', 'F', 'PF', 'PF', 'NF', 'F', 'PF', 'F', 'PF', 'F', 'F', 'F',\n",
       "       'PF', 'PF', 'NF', 'F', 'F', 'F', 'NF', 'F', 'NF', 'NF', 'PF', 'F',\n",
       "       'NF', 'NF', 'PF', 'PF', 'F', 'NF', 'PF', 'NF', 'F', 'NF', 'PF',\n",
       "       'F', 'PF', 'PF', 'F', 'NF', 'F', 'PF', 'F', 'NF', 'F', 'PF', 'NF',\n",
       "       'F', 'NF', 'PF', 'NF', 'F', 'F', 'F', 'F', 'NF', 'F', 'F', 'NF',\n",
       "       'NF', 'F', 'F', 'F', 'PF', 'PF', 'PF', 'F', 'PF', 'F', 'F', 'PF',\n",
       "       'PF', 'PF', 'F', 'F', 'NF', 'NF', 'PF', 'PF', 'PF', 'NF', 'F', 'F',\n",
       "       'PF', 'F', 'F', 'F', 'NF', 'NF', 'F', 'PF', 'PF', 'PF', 'PF', 'NF',\n",
       "       'F', 'F', 'PF', 'F', 'NF', 'F', 'NF', 'NF', 'F', 'F', 'F', 'PF',\n",
       "       'NF', 'NF', 'F', 'F', 'NF', 'F', 'F', 'F', 'PF', 'PF', 'F', 'F',\n",
       "       'F', 'PF', 'F', 'F', 'NF', 'NF', 'F', 'F', 'F', 'NF', 'PF', 'PF',\n",
       "       'F', 'F', 'NF', 'PF', 'PF', 'PF', 'NF', 'NF', 'PF', 'PF', 'PF',\n",
       "       'NF', 'F', 'NF', 'F', 'F', 'NF', 'F', 'NF', 'F', 'F', 'NF', 'PF',\n",
       "       'F', 'F', 'F', 'PF', 'PF', 'NF', 'NF', 'F', 'PF', 'NF', 'F', 'PF',\n",
       "       'NF', 'F', 'PF', 'NF', 'PF', 'F', 'NF', 'F', 'NF', 'PF', 'F', 'PF',\n",
       "       'PF', 'F', 'F', 'PF', 'NF', 'F', 'F', 'NF', 'F', 'PF', 'F', 'PF',\n",
       "       'F', 'F', 'PF', 'F', 'F', 'F', 'NF', 'F', 'F', 'NF', 'F', 'PF',\n",
       "       'F', 'NF', 'F', 'F', 'NF', 'F', 'NF', 'NF', 'F', 'PF', 'PF', 'F',\n",
       "       'PF', 'F', 'F', 'NF', 'F', 'PF', 'F', 'NF', 'F', 'F', 'F', 'F',\n",
       "       'PF', 'NF', 'PF', 'PF', 'F', 'F', 'F', 'F', 'NF', 'F', 'F', 'NF',\n",
       "       'NF', 'PF', 'PF', 'NF', 'NF', 'F', 'NF', 'PF', 'PF', 'NF', 'NF',\n",
       "       'F', 'F', 'F', 'F', 'F', 'NF', 'PF', 'PF', 'NF', 'PF', 'PF', 'NF',\n",
       "       'NF', 'NF', 'PF', 'NF', 'NF', 'F', 'PF', 'NF', 'F', 'NF', 'F', 'F',\n",
       "       'NF', 'PF', 'PF', 'NF', 'F', 'NF', 'PF', 'PF', 'NF', 'F', 'F',\n",
       "       'NF', 'NF', 'F', 'F', 'PF', 'F', 'NF', 'PF', 'F', 'NF', 'PF', 'F',\n",
       "       'F', 'NF', 'F', 'NF', 'F', 'NF', 'PF', 'PF', 'PF', 'NF', 'F', 'NF',\n",
       "       'PF', 'PF', 'PF', 'PF', 'NF', 'F', 'PF', 'PF', 'F', 'F', 'PF',\n",
       "       'PF', 'NF', 'F', 'PF', 'F', 'F', 'NF', 'F', 'NF', 'NF', 'F', 'NF',\n",
       "       'F', 'PF', 'NF', 'F', 'PF', 'F', 'PF', 'F', 'NF', 'PF', 'PF', 'F',\n",
       "       'F', 'F', 'PF', 'F', 'NF', 'F', 'F', 'F', 'PF', 'F', 'F', 'F',\n",
       "       'NF', 'F', 'PF', 'F', 'PF', 'F', 'PF', 'F', 'PF', 'PF', 'PF', 'F',\n",
       "       'NF', 'NF', 'NF', 'F', 'NF', 'F', 'F', 'PF', 'F', 'F', 'F', 'F',\n",
       "       'PF', 'PF', 'PF', 'F', 'NF', 'NF', 'F', 'F', 'NF', 'PF', 'NF',\n",
       "       'NF', 'NF', 'F', 'F', 'PF', 'F', 'NF', 'NF', 'PF', 'F', 'NF', 'F',\n",
       "       'F', 'F', 'PF', 'NF', 'F', 'F', 'PF', 'PF', 'F', 'NF', 'F', 'NF',\n",
       "       'NF', 'PF', 'F', 'PF', 'F', 'NF', 'F', 'NF', 'NF', 'PF', 'NF', 'F',\n",
       "       'NF', 'PF', 'F', 'NF', 'F', 'F', 'NF', 'F', 'F', 'F', 'NF', 'NF',\n",
       "       'PF', 'F', 'F', 'PF', 'F', 'F', 'PF', 'PF', 'NF', 'NF', 'F', 'NF',\n",
       "       'PF', 'F', 'PF', 'NF', 'PF', 'PF', 'F', 'NF', 'PF', 'NF', 'PF',\n",
       "       'F', 'F', 'PF', 'F', 'PF', 'PF', 'PF', 'F', 'NF', 'F', 'F', 'NF',\n",
       "       'F', 'F', 'NF', 'F', 'F', 'PF', 'F', 'PF', 'NF', 'F', 'PF', 'PF',\n",
       "       'F', 'PF', 'NF', 'F', 'F', 'NF', 'PF', 'F', 'F', 'F', 'NF', 'PF',\n",
       "       'PF', 'NF', 'NF', 'F', 'NF', 'NF', 'NF', 'PF', 'PF', 'F', 'F',\n",
       "       'NF', 'NF', 'PF', 'PF', 'F'], dtype=object)"
      ]
     },
     "execution_count": 152,
     "metadata": {},
     "output_type": "execute_result"
    }
   ],
   "source": [
    "y_pred"
   ]
  },
  {
   "cell_type": "code",
   "execution_count": 151,
   "id": "3df792e6",
   "metadata": {},
   "outputs": [
    {
     "name": "stdout",
     "output_type": "stream",
     "text": [
      "KNN Accuracy: 0.9809160305343512\n"
     ]
    }
   ],
   "source": [
    "learner = KNeighborsClassifier()\n",
    "\n",
    "learner.fit(X_train, y_train)\n",
    "y_pred = learner.predict(X_test)\n",
    "print(\"KNN Accuracy:\",metrics.accuracy_score(y_test, y_pred))"
   ]
  }
 ],
 "metadata": {
  "kernelspec": {
   "display_name": "Python 3 (ipykernel)",
   "language": "python",
   "name": "python3"
  },
  "language_info": {
   "codemirror_mode": {
    "name": "ipython",
    "version": 3
   },
   "file_extension": ".py",
   "mimetype": "text/x-python",
   "name": "python",
   "nbconvert_exporter": "python",
   "pygments_lexer": "ipython3",
   "version": "3.9.7"
  }
 },
 "nbformat": 4,
 "nbformat_minor": 5
}
