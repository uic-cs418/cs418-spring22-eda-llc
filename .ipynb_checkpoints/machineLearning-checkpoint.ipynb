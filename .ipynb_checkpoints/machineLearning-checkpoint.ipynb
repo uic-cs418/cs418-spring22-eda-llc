{
 "cells": [
  {
   "cell_type": "code",
   "execution_count": 48,
   "id": "e4627a0f",
   "metadata": {},
   "outputs": [
    {
     "data": {
      "text/html": [
       "        <script type=\"text/javascript\">\n",
       "        window.PlotlyConfig = {MathJaxConfig: 'local'};\n",
       "        if (window.MathJax) {MathJax.Hub.Config({SVG: {font: \"STIX-Web\"}});}\n",
       "        if (typeof require !== 'undefined') {\n",
       "        require.undef(\"plotly\");\n",
       "        requirejs.config({\n",
       "            paths: {\n",
       "                'plotly': ['https://cdn.plot.ly/plotly-2.11.1.min']\n",
       "            }\n",
       "        });\n",
       "        require(['plotly'], function(Plotly) {\n",
       "            window._Plotly = Plotly;\n",
       "        });\n",
       "        }\n",
       "        </script>\n",
       "        "
      ]
     },
     "metadata": {},
     "output_type": "display_data"
    }
   ],
   "source": [
    "import pandas as pd\n",
    "import numpy as np\n",
    "import matplotlib.pyplot as plt\n",
    "import seaborn as sns\n",
    "import sklearn\n",
    "from sklearn.model_selection import train_test_split\n",
    "from sklearn.dummy import DummyClassifier\n",
    "import sklearn.metrics as metrics\n",
    "from sklearn.svm import SVC\n",
    "from sklearn.neighbors import KNeighborsClassifier\n",
    "\n",
    "\n",
    "import plotly.offline as pyo\n",
    "from plotly.offline import download_plotlyjs,init_notebook_mode,plot,iplot\n",
    "import plotly.graph_objs as go\n",
    "import plotly.express as px\n",
    "import plotly.io as pio\n",
    "init_notebook_mode(connected=True)"
   ]
  },
  {
   "cell_type": "code",
   "execution_count": 24,
   "id": "cd8e2c52",
   "metadata": {},
   "outputs": [],
   "source": [
    "df = pd.read_excel('All_data_FIW_2013-2022.xlsx', sheet_name = 1, header=1)"
   ]
  },
  {
   "cell_type": "code",
   "execution_count": 25,
   "id": "5f3b310b",
   "metadata": {},
   "outputs": [
    {
     "data": {
      "text/html": [
       "<div>\n",
       "<style scoped>\n",
       "    .dataframe tbody tr th:only-of-type {\n",
       "        vertical-align: middle;\n",
       "    }\n",
       "\n",
       "    .dataframe tbody tr th {\n",
       "        vertical-align: top;\n",
       "    }\n",
       "\n",
       "    .dataframe thead th {\n",
       "        text-align: right;\n",
       "    }\n",
       "</style>\n",
       "<table border=\"1\" class=\"dataframe\">\n",
       "  <thead>\n",
       "    <tr style=\"text-align: right;\">\n",
       "      <th></th>\n",
       "      <th>Country/Territory</th>\n",
       "      <th>Region</th>\n",
       "      <th>C/T</th>\n",
       "      <th>Edition</th>\n",
       "      <th>Status</th>\n",
       "      <th>PR rating</th>\n",
       "      <th>CL rating</th>\n",
       "      <th>A1</th>\n",
       "      <th>A2</th>\n",
       "      <th>A3</th>\n",
       "      <th>...</th>\n",
       "      <th>F3</th>\n",
       "      <th>F4</th>\n",
       "      <th>F</th>\n",
       "      <th>G1</th>\n",
       "      <th>G2</th>\n",
       "      <th>G3</th>\n",
       "      <th>G4</th>\n",
       "      <th>G</th>\n",
       "      <th>CL</th>\n",
       "      <th>Total</th>\n",
       "    </tr>\n",
       "  </thead>\n",
       "  <tbody>\n",
       "    <tr>\n",
       "      <th>0</th>\n",
       "      <td>Abkhazia</td>\n",
       "      <td>Eurasia</td>\n",
       "      <td>t</td>\n",
       "      <td>2022</td>\n",
       "      <td>PF</td>\n",
       "      <td>5</td>\n",
       "      <td>5</td>\n",
       "      <td>2</td>\n",
       "      <td>2</td>\n",
       "      <td>1</td>\n",
       "      <td>...</td>\n",
       "      <td>1</td>\n",
       "      <td>1</td>\n",
       "      <td>4</td>\n",
       "      <td>1</td>\n",
       "      <td>1</td>\n",
       "      <td>2</td>\n",
       "      <td>1</td>\n",
       "      <td>5</td>\n",
       "      <td>23</td>\n",
       "      <td>40</td>\n",
       "    </tr>\n",
       "    <tr>\n",
       "      <th>1</th>\n",
       "      <td>Afghanistan</td>\n",
       "      <td>Asia</td>\n",
       "      <td>c</td>\n",
       "      <td>2022</td>\n",
       "      <td>NF</td>\n",
       "      <td>7</td>\n",
       "      <td>6</td>\n",
       "      <td>0</td>\n",
       "      <td>0</td>\n",
       "      <td>0</td>\n",
       "      <td>...</td>\n",
       "      <td>0</td>\n",
       "      <td>0</td>\n",
       "      <td>0</td>\n",
       "      <td>0</td>\n",
       "      <td>1</td>\n",
       "      <td>0</td>\n",
       "      <td>1</td>\n",
       "      <td>2</td>\n",
       "      <td>9</td>\n",
       "      <td>10</td>\n",
       "    </tr>\n",
       "    <tr>\n",
       "      <th>2</th>\n",
       "      <td>Albania</td>\n",
       "      <td>Europe</td>\n",
       "      <td>c</td>\n",
       "      <td>2022</td>\n",
       "      <td>PF</td>\n",
       "      <td>3</td>\n",
       "      <td>3</td>\n",
       "      <td>3</td>\n",
       "      <td>3</td>\n",
       "      <td>3</td>\n",
       "      <td>...</td>\n",
       "      <td>2</td>\n",
       "      <td>3</td>\n",
       "      <td>9</td>\n",
       "      <td>3</td>\n",
       "      <td>2</td>\n",
       "      <td>2</td>\n",
       "      <td>2</td>\n",
       "      <td>9</td>\n",
       "      <td>39</td>\n",
       "      <td>67</td>\n",
       "    </tr>\n",
       "    <tr>\n",
       "      <th>3</th>\n",
       "      <td>Algeria</td>\n",
       "      <td>Africa</td>\n",
       "      <td>c</td>\n",
       "      <td>2022</td>\n",
       "      <td>NF</td>\n",
       "      <td>6</td>\n",
       "      <td>5</td>\n",
       "      <td>1</td>\n",
       "      <td>1</td>\n",
       "      <td>1</td>\n",
       "      <td>...</td>\n",
       "      <td>2</td>\n",
       "      <td>2</td>\n",
       "      <td>6</td>\n",
       "      <td>2</td>\n",
       "      <td>2</td>\n",
       "      <td>2</td>\n",
       "      <td>1</td>\n",
       "      <td>7</td>\n",
       "      <td>22</td>\n",
       "      <td>32</td>\n",
       "    </tr>\n",
       "    <tr>\n",
       "      <th>4</th>\n",
       "      <td>Andorra</td>\n",
       "      <td>Europe</td>\n",
       "      <td>c</td>\n",
       "      <td>2022</td>\n",
       "      <td>F</td>\n",
       "      <td>1</td>\n",
       "      <td>1</td>\n",
       "      <td>4</td>\n",
       "      <td>4</td>\n",
       "      <td>4</td>\n",
       "      <td>...</td>\n",
       "      <td>4</td>\n",
       "      <td>3</td>\n",
       "      <td>15</td>\n",
       "      <td>4</td>\n",
       "      <td>4</td>\n",
       "      <td>3</td>\n",
       "      <td>4</td>\n",
       "      <td>15</td>\n",
       "      <td>55</td>\n",
       "      <td>93</td>\n",
       "    </tr>\n",
       "  </tbody>\n",
       "</table>\n",
       "<p>5 rows × 44 columns</p>\n",
       "</div>"
      ],
      "text/plain": [
       "  Country/Territory   Region C/T  Edition Status  PR rating  CL rating  A1  \\\n",
       "0          Abkhazia  Eurasia   t     2022     PF          5          5   2   \n",
       "1       Afghanistan     Asia   c     2022     NF          7          6   0   \n",
       "2           Albania   Europe   c     2022     PF          3          3   3   \n",
       "3           Algeria   Africa   c     2022     NF          6          5   1   \n",
       "4           Andorra   Europe   c     2022      F          1          1   4   \n",
       "\n",
       "   A2  A3  ...  F3  F4   F  G1  G2  G3  G4   G  CL  Total  \n",
       "0   2   1  ...   1   1   4   1   1   2   1   5  23     40  \n",
       "1   0   0  ...   0   0   0   0   1   0   1   2   9     10  \n",
       "2   3   3  ...   2   3   9   3   2   2   2   9  39     67  \n",
       "3   1   1  ...   2   2   6   2   2   2   1   7  22     32  \n",
       "4   4   4  ...   4   3  15   4   4   3   4  15  55     93  \n",
       "\n",
       "[5 rows x 44 columns]"
      ]
     },
     "execution_count": 25,
     "metadata": {},
     "output_type": "execute_result"
    }
   ],
   "source": [
    "df.head()"
   ]
  },
  {
   "cell_type": "code",
   "execution_count": 62,
   "id": "96520fd4",
   "metadata": {},
   "outputs": [
    {
     "data": {
      "text/plain": [
       "array([[2, 2, 1, ..., 2, 1, 'Abkhazia'],\n",
       "       [0, 0, 0, ..., 0, 1, 'Afghanistan'],\n",
       "       [3, 3, 3, ..., 2, 2, 'Albania'],\n",
       "       ...,\n",
       "       [1, 0, 2, ..., 1, 1, 'Yemen'],\n",
       "       [3, 3, 3, ..., 1, 2, 'Zambia'],\n",
       "       [1, 1, 1, ..., 1, 1, 'Zimbabwe']], dtype=object)"
      ]
     },
     "execution_count": 62,
     "metadata": {},
     "output_type": "execute_result"
    }
   ],
   "source": [
    "X = df.iloc[:, 7:-1]\n",
    "X['Country/Territory'] = df['Country/Territory']\n",
    "X = X.drop(['A', 'B', 'C', 'D', 'E', 'F', 'G', 'CL', 'PR', 'Add Q', 'Add A'], axis=1)\n",
    "X = X.to_numpy()\n",
    "X"
   ]
  },
  {
   "cell_type": "code",
   "execution_count": 65,
   "id": "05053db8",
   "metadata": {},
   "outputs": [
    {
     "data": {
      "text/plain": [
       "0       PF\n",
       "1       NF\n",
       "2       PF\n",
       "3       NF\n",
       "4        F\n",
       "        ..\n",
       "2090    NF\n",
       "2091    NF\n",
       "2092    NF\n",
       "2093    PF\n",
       "2094    NF\n",
       "Name: Status, Length: 2095, dtype: object"
      ]
     },
     "execution_count": 65,
     "metadata": {},
     "output_type": "execute_result"
    }
   ],
   "source": [
    "y = df.iloc[:,4]\n",
    "y"
   ]
  },
  {
   "cell_type": "code",
   "execution_count": 84,
   "id": "d2f734a2",
   "metadata": {},
   "outputs": [],
   "source": [
    "X_train, X_test, y_train, y_test = train_test_split(X,y,  random_state = 1)\n",
    "X_train = pd.DataFrame(X_train)\n",
    "X_test = pd.DataFrame(X_test)\n",
    "\n",
    "X_pred = X_test.iloc[: , -1]\n",
    "\n",
    "\n",
    "X_test = X_test.iloc[:, 0:-1]\n",
    "X_train = X_train.iloc[:, 0:-1]\n",
    "# X_train = X_train.drop(['Country/Territory'], axis=1)\n",
    "\n",
    "X_test = X_test.to_numpy()\n",
    "X_train = X_train.to_numpy()"
   ]
  },
  {
   "cell_type": "code",
   "execution_count": 85,
   "id": "4731c881",
   "metadata": {},
   "outputs": [
    {
     "data": {
      "text/plain": [
       "array([[3, 4, 3, ..., 2, 2, 2],\n",
       "       [4, 4, 3, ..., 2, 2, 2],\n",
       "       [4, 4, 4, ..., 4, 4, 3],\n",
       "       ...,\n",
       "       [3, 3, 3, ..., 2, 2, 2],\n",
       "       [2, 2, 2, ..., 2, 2, 1],\n",
       "       [4, 4, 4, ..., 3, 3, 3]], dtype=object)"
      ]
     },
     "execution_count": 85,
     "metadata": {},
     "output_type": "execute_result"
    }
   ],
   "source": [
    "X_test"
   ]
  },
  {
   "cell_type": "code",
   "execution_count": 86,
   "id": "ec17d3cc",
   "metadata": {},
   "outputs": [
    {
     "data": {
      "text/plain": [
       "859     PF\n",
       "1233    PF\n",
       "2013     F\n",
       "1680    NF\n",
       "1939     F\n",
       "        ..\n",
       "361     NF\n",
       "1051    NF\n",
       "115     PF\n",
       "628     PF\n",
       "336      F\n",
       "Name: Status, Length: 524, dtype: object"
      ]
     },
     "execution_count": 86,
     "metadata": {},
     "output_type": "execute_result"
    }
   ],
   "source": [
    "y_test"
   ]
  },
  {
   "cell_type": "code",
   "execution_count": 87,
   "id": "bdc46344",
   "metadata": {},
   "outputs": [
    {
     "data": {
      "text/html": [
       "<div>\n",
       "<style scoped>\n",
       "    .dataframe tbody tr th:only-of-type {\n",
       "        vertical-align: middle;\n",
       "    }\n",
       "\n",
       "    .dataframe tbody tr th {\n",
       "        vertical-align: top;\n",
       "    }\n",
       "\n",
       "    .dataframe thead th {\n",
       "        text-align: right;\n",
       "    }\n",
       "</style>\n",
       "<table border=\"1\" class=\"dataframe\">\n",
       "  <thead>\n",
       "    <tr style=\"text-align: right;\">\n",
       "      <th></th>\n",
       "      <th>0</th>\n",
       "      <th>1</th>\n",
       "      <th>2</th>\n",
       "      <th>3</th>\n",
       "      <th>4</th>\n",
       "      <th>5</th>\n",
       "      <th>6</th>\n",
       "      <th>7</th>\n",
       "      <th>8</th>\n",
       "      <th>9</th>\n",
       "      <th>...</th>\n",
       "      <th>15</th>\n",
       "      <th>16</th>\n",
       "      <th>17</th>\n",
       "      <th>18</th>\n",
       "      <th>19</th>\n",
       "      <th>20</th>\n",
       "      <th>21</th>\n",
       "      <th>22</th>\n",
       "      <th>23</th>\n",
       "      <th>24</th>\n",
       "    </tr>\n",
       "  </thead>\n",
       "  <tbody>\n",
       "    <tr>\n",
       "      <th>0</th>\n",
       "      <td>2</td>\n",
       "      <td>2</td>\n",
       "      <td>2</td>\n",
       "      <td>3</td>\n",
       "      <td>2</td>\n",
       "      <td>2</td>\n",
       "      <td>2</td>\n",
       "      <td>1</td>\n",
       "      <td>1</td>\n",
       "      <td>1</td>\n",
       "      <td>...</td>\n",
       "      <td>2</td>\n",
       "      <td>2</td>\n",
       "      <td>1</td>\n",
       "      <td>1</td>\n",
       "      <td>1</td>\n",
       "      <td>2</td>\n",
       "      <td>2</td>\n",
       "      <td>1</td>\n",
       "      <td>2</td>\n",
       "      <td>2</td>\n",
       "    </tr>\n",
       "    <tr>\n",
       "      <th>1</th>\n",
       "      <td>1</td>\n",
       "      <td>1</td>\n",
       "      <td>2</td>\n",
       "      <td>2</td>\n",
       "      <td>1</td>\n",
       "      <td>2</td>\n",
       "      <td>2</td>\n",
       "      <td>1</td>\n",
       "      <td>1</td>\n",
       "      <td>2</td>\n",
       "      <td>...</td>\n",
       "      <td>2</td>\n",
       "      <td>1</td>\n",
       "      <td>1</td>\n",
       "      <td>1</td>\n",
       "      <td>1</td>\n",
       "      <td>1</td>\n",
       "      <td>3</td>\n",
       "      <td>2</td>\n",
       "      <td>2</td>\n",
       "      <td>2</td>\n",
       "    </tr>\n",
       "    <tr>\n",
       "      <th>2</th>\n",
       "      <td>4</td>\n",
       "      <td>4</td>\n",
       "      <td>4</td>\n",
       "      <td>4</td>\n",
       "      <td>4</td>\n",
       "      <td>4</td>\n",
       "      <td>3</td>\n",
       "      <td>4</td>\n",
       "      <td>3</td>\n",
       "      <td>3</td>\n",
       "      <td>...</td>\n",
       "      <td>4</td>\n",
       "      <td>4</td>\n",
       "      <td>3</td>\n",
       "      <td>4</td>\n",
       "      <td>3</td>\n",
       "      <td>3</td>\n",
       "      <td>4</td>\n",
       "      <td>3</td>\n",
       "      <td>3</td>\n",
       "      <td>2</td>\n",
       "    </tr>\n",
       "    <tr>\n",
       "      <th>3</th>\n",
       "      <td>0</td>\n",
       "      <td>0</td>\n",
       "      <td>1</td>\n",
       "      <td>0</td>\n",
       "      <td>0</td>\n",
       "      <td>1</td>\n",
       "      <td>1</td>\n",
       "      <td>0</td>\n",
       "      <td>1</td>\n",
       "      <td>1</td>\n",
       "      <td>...</td>\n",
       "      <td>1</td>\n",
       "      <td>1</td>\n",
       "      <td>0</td>\n",
       "      <td>1</td>\n",
       "      <td>1</td>\n",
       "      <td>1</td>\n",
       "      <td>2</td>\n",
       "      <td>1</td>\n",
       "      <td>2</td>\n",
       "      <td>1</td>\n",
       "    </tr>\n",
       "    <tr>\n",
       "      <th>4</th>\n",
       "      <td>4</td>\n",
       "      <td>4</td>\n",
       "      <td>4</td>\n",
       "      <td>4</td>\n",
       "      <td>4</td>\n",
       "      <td>4</td>\n",
       "      <td>3</td>\n",
       "      <td>4</td>\n",
       "      <td>3</td>\n",
       "      <td>3</td>\n",
       "      <td>...</td>\n",
       "      <td>4</td>\n",
       "      <td>3</td>\n",
       "      <td>4</td>\n",
       "      <td>4</td>\n",
       "      <td>4</td>\n",
       "      <td>3</td>\n",
       "      <td>4</td>\n",
       "      <td>3</td>\n",
       "      <td>3</td>\n",
       "      <td>3</td>\n",
       "    </tr>\n",
       "    <tr>\n",
       "      <th>...</th>\n",
       "      <td>...</td>\n",
       "      <td>...</td>\n",
       "      <td>...</td>\n",
       "      <td>...</td>\n",
       "      <td>...</td>\n",
       "      <td>...</td>\n",
       "      <td>...</td>\n",
       "      <td>...</td>\n",
       "      <td>...</td>\n",
       "      <td>...</td>\n",
       "      <td>...</td>\n",
       "      <td>...</td>\n",
       "      <td>...</td>\n",
       "      <td>...</td>\n",
       "      <td>...</td>\n",
       "      <td>...</td>\n",
       "      <td>...</td>\n",
       "      <td>...</td>\n",
       "      <td>...</td>\n",
       "      <td>...</td>\n",
       "      <td>...</td>\n",
       "    </tr>\n",
       "    <tr>\n",
       "      <th>1566</th>\n",
       "      <td>2</td>\n",
       "      <td>2</td>\n",
       "      <td>2</td>\n",
       "      <td>2</td>\n",
       "      <td>2</td>\n",
       "      <td>2</td>\n",
       "      <td>3</td>\n",
       "      <td>2</td>\n",
       "      <td>1</td>\n",
       "      <td>2</td>\n",
       "      <td>...</td>\n",
       "      <td>3</td>\n",
       "      <td>2</td>\n",
       "      <td>2</td>\n",
       "      <td>2</td>\n",
       "      <td>1</td>\n",
       "      <td>2</td>\n",
       "      <td>3</td>\n",
       "      <td>2</td>\n",
       "      <td>2</td>\n",
       "      <td>2</td>\n",
       "    </tr>\n",
       "    <tr>\n",
       "      <th>1567</th>\n",
       "      <td>4</td>\n",
       "      <td>4</td>\n",
       "      <td>4</td>\n",
       "      <td>4</td>\n",
       "      <td>4</td>\n",
       "      <td>4</td>\n",
       "      <td>3</td>\n",
       "      <td>4</td>\n",
       "      <td>4</td>\n",
       "      <td>4</td>\n",
       "      <td>...</td>\n",
       "      <td>4</td>\n",
       "      <td>4</td>\n",
       "      <td>4</td>\n",
       "      <td>4</td>\n",
       "      <td>3</td>\n",
       "      <td>3</td>\n",
       "      <td>4</td>\n",
       "      <td>4</td>\n",
       "      <td>4</td>\n",
       "      <td>3</td>\n",
       "    </tr>\n",
       "    <tr>\n",
       "      <th>1568</th>\n",
       "      <td>4</td>\n",
       "      <td>4</td>\n",
       "      <td>4</td>\n",
       "      <td>4</td>\n",
       "      <td>4</td>\n",
       "      <td>4</td>\n",
       "      <td>4</td>\n",
       "      <td>4</td>\n",
       "      <td>4</td>\n",
       "      <td>4</td>\n",
       "      <td>...</td>\n",
       "      <td>4</td>\n",
       "      <td>4</td>\n",
       "      <td>4</td>\n",
       "      <td>3</td>\n",
       "      <td>4</td>\n",
       "      <td>3</td>\n",
       "      <td>4</td>\n",
       "      <td>4</td>\n",
       "      <td>3</td>\n",
       "      <td>4</td>\n",
       "    </tr>\n",
       "    <tr>\n",
       "      <th>1569</th>\n",
       "      <td>0</td>\n",
       "      <td>0</td>\n",
       "      <td>0</td>\n",
       "      <td>1</td>\n",
       "      <td>0</td>\n",
       "      <td>1</td>\n",
       "      <td>1</td>\n",
       "      <td>0</td>\n",
       "      <td>3</td>\n",
       "      <td>1</td>\n",
       "      <td>...</td>\n",
       "      <td>1</td>\n",
       "      <td>1</td>\n",
       "      <td>1</td>\n",
       "      <td>2</td>\n",
       "      <td>1</td>\n",
       "      <td>1</td>\n",
       "      <td>2</td>\n",
       "      <td>2</td>\n",
       "      <td>1</td>\n",
       "      <td>2</td>\n",
       "    </tr>\n",
       "    <tr>\n",
       "      <th>1570</th>\n",
       "      <td>0</td>\n",
       "      <td>1</td>\n",
       "      <td>1</td>\n",
       "      <td>0</td>\n",
       "      <td>0</td>\n",
       "      <td>0</td>\n",
       "      <td>0</td>\n",
       "      <td>1</td>\n",
       "      <td>2</td>\n",
       "      <td>0</td>\n",
       "      <td>...</td>\n",
       "      <td>0</td>\n",
       "      <td>1</td>\n",
       "      <td>0</td>\n",
       "      <td>1</td>\n",
       "      <td>0</td>\n",
       "      <td>0</td>\n",
       "      <td>1</td>\n",
       "      <td>2</td>\n",
       "      <td>2</td>\n",
       "      <td>1</td>\n",
       "    </tr>\n",
       "  </tbody>\n",
       "</table>\n",
       "<p>1571 rows × 25 columns</p>\n",
       "</div>"
      ],
      "text/plain": [
       "     0  1  2  3  4  5  6  7  8  9   ... 15 16 17 18 19 20 21 22 23 24\n",
       "0     2  2  2  3  2  2  2  1  1  1  ...  2  2  1  1  1  2  2  1  2  2\n",
       "1     1  1  2  2  1  2  2  1  1  2  ...  2  1  1  1  1  1  3  2  2  2\n",
       "2     4  4  4  4  4  4  3  4  3  3  ...  4  4  3  4  3  3  4  3  3  2\n",
       "3     0  0  1  0  0  1  1  0  1  1  ...  1  1  0  1  1  1  2  1  2  1\n",
       "4     4  4  4  4  4  4  3  4  3  3  ...  4  3  4  4  4  3  4  3  3  3\n",
       "...  .. .. .. .. .. .. .. .. .. ..  ... .. .. .. .. .. .. .. .. .. ..\n",
       "1566  2  2  2  2  2  2  3  2  1  2  ...  3  2  2  2  1  2  3  2  2  2\n",
       "1567  4  4  4  4  4  4  3  4  4  4  ...  4  4  4  4  3  3  4  4  4  3\n",
       "1568  4  4  4  4  4  4  4  4  4  4  ...  4  4  4  3  4  3  4  4  3  4\n",
       "1569  0  0  0  1  0  1  1  0  3  1  ...  1  1  1  2  1  1  2  2  1  2\n",
       "1570  0  1  1  0  0  0  0  1  2  0  ...  0  1  0  1  0  0  1  2  2  1\n",
       "\n",
       "[1571 rows x 25 columns]"
      ]
     },
     "execution_count": 87,
     "metadata": {},
     "output_type": "execute_result"
    }
   ],
   "source": [
    "X_train = pd.DataFrame(X_train)\n",
    "# X_train = pd.DataFrame(X_train).iloc[:, 0:-1]\n",
    "X_train"
   ]
  },
  {
   "cell_type": "code",
   "execution_count": 88,
   "id": "43525a72",
   "metadata": {},
   "outputs": [
    {
     "name": "stdout",
     "output_type": "stream",
     "text": [
      "Baseline Classifier Accuracy: 0.42748091603053434\n",
      "SVM Accuracy: 0.9923664122137404\n"
     ]
    }
   ],
   "source": [
    "dummy = DummyClassifier()\n",
    "dummy.fit(X_train, y_train)\n",
    "y_pred = dummy.predict(X_test)\n",
    "\n",
    "print(\"Baseline Classifier Accuracy:\",metrics.accuracy_score(y_test, y_pred))\n",
    "\n",
    "learner = SVC(kernel = 'linear',gamma='auto')\n",
    "learner.fit(X_train, y_train)\n",
    "y_pred = learner.predict(X_test)\n",
    "print(\"SVM Accuracy:\",metrics.accuracy_score(y_test, y_pred))"
   ]
  },
  {
   "cell_type": "code",
   "execution_count": 89,
   "id": "f3f617f3",
   "metadata": {
    "scrolled": true
   },
   "outputs": [
    {
     "data": {
      "text/plain": [
       "array(['PF', 'PF', 'F', 'NF', 'F', 'NF', 'PF', 'NF', 'NF', 'PF', 'PF',\n",
       "       'F', 'F', 'PF', 'PF', 'NF', 'F', 'PF', 'F', 'PF', 'F', 'F', 'F',\n",
       "       'PF', 'F', 'NF', 'F', 'F', 'F', 'NF', 'F', 'NF', 'NF', 'PF', 'F',\n",
       "       'NF', 'NF', 'PF', 'PF', 'F', 'NF', 'PF', 'NF', 'F', 'NF', 'PF',\n",
       "       'F', 'PF', 'PF', 'F', 'PF', 'F', 'PF', 'F', 'NF', 'F', 'PF', 'NF',\n",
       "       'F', 'NF', 'PF', 'NF', 'F', 'F', 'F', 'F', 'NF', 'F', 'F', 'NF',\n",
       "       'NF', 'F', 'F', 'F', 'PF', 'PF', 'PF', 'F', 'PF', 'F', 'F', 'PF',\n",
       "       'PF', 'PF', 'F', 'F', 'NF', 'NF', 'PF', 'PF', 'PF', 'NF', 'F', 'F',\n",
       "       'PF', 'F', 'F', 'F', 'NF', 'NF', 'F', 'PF', 'PF', 'NF', 'PF', 'NF',\n",
       "       'F', 'F', 'PF', 'F', 'PF', 'F', 'NF', 'NF', 'F', 'F', 'F', 'F',\n",
       "       'NF', 'NF', 'F', 'F', 'NF', 'F', 'F', 'F', 'PF', 'PF', 'F', 'F',\n",
       "       'F', 'PF', 'F', 'F', 'NF', 'NF', 'F', 'F', 'F', 'NF', 'PF', 'PF',\n",
       "       'F', 'F', 'NF', 'PF', 'PF', 'PF', 'NF', 'NF', 'PF', 'PF', 'PF',\n",
       "       'NF', 'F', 'NF', 'F', 'F', 'NF', 'F', 'NF', 'F', 'F', 'NF', 'PF',\n",
       "       'F', 'F', 'F', 'PF', 'PF', 'NF', 'NF', 'F', 'PF', 'NF', 'F', 'PF',\n",
       "       'NF', 'F', 'PF', 'NF', 'PF', 'F', 'NF', 'F', 'NF', 'PF', 'F', 'PF',\n",
       "       'PF', 'F', 'F', 'PF', 'NF', 'F', 'F', 'NF', 'F', 'PF', 'F', 'PF',\n",
       "       'F', 'F', 'PF', 'F', 'F', 'F', 'NF', 'F', 'F', 'NF', 'F', 'PF',\n",
       "       'F', 'NF', 'F', 'F', 'NF', 'F', 'NF', 'NF', 'F', 'PF', 'PF', 'F',\n",
       "       'PF', 'F', 'F', 'NF', 'F', 'PF', 'F', 'NF', 'F', 'F', 'F', 'F',\n",
       "       'NF', 'NF', 'PF', 'PF', 'F', 'F', 'F', 'F', 'NF', 'F', 'F', 'NF',\n",
       "       'NF', 'PF', 'PF', 'NF', 'NF', 'F', 'NF', 'PF', 'PF', 'NF', 'NF',\n",
       "       'F', 'F', 'F', 'F', 'F', 'NF', 'PF', 'PF', 'NF', 'PF', 'PF', 'NF',\n",
       "       'NF', 'NF', 'PF', 'NF', 'NF', 'F', 'PF', 'NF', 'F', 'NF', 'F', 'F',\n",
       "       'PF', 'PF', 'PF', 'NF', 'F', 'NF', 'PF', 'PF', 'NF', 'F', 'F',\n",
       "       'NF', 'NF', 'F', 'F', 'PF', 'F', 'NF', 'PF', 'F', 'NF', 'PF', 'F',\n",
       "       'F', 'PF', 'F', 'NF', 'F', 'NF', 'PF', 'PF', 'PF', 'PF', 'F', 'NF',\n",
       "       'PF', 'PF', 'PF', 'PF', 'NF', 'F', 'PF', 'PF', 'F', 'F', 'PF',\n",
       "       'PF', 'NF', 'F', 'PF', 'F', 'F', 'NF', 'F', 'NF', 'NF', 'F', 'NF',\n",
       "       'F', 'PF', 'NF', 'F', 'PF', 'F', 'NF', 'F', 'NF', 'PF', 'PF', 'F',\n",
       "       'F', 'F', 'PF', 'F', 'NF', 'F', 'F', 'F', 'PF', 'F', 'F', 'F',\n",
       "       'NF', 'F', 'PF', 'F', 'PF', 'F', 'PF', 'F', 'PF', 'PF', 'PF', 'F',\n",
       "       'NF', 'NF', 'NF', 'F', 'NF', 'F', 'F', 'PF', 'F', 'F', 'F', 'F',\n",
       "       'PF', 'PF', 'PF', 'F', 'NF', 'NF', 'F', 'F', 'NF', 'PF', 'NF',\n",
       "       'NF', 'NF', 'F', 'F', 'PF', 'F', 'NF', 'NF', 'PF', 'F', 'NF', 'F',\n",
       "       'F', 'F', 'PF', 'NF', 'F', 'F', 'PF', 'PF', 'F', 'NF', 'F', 'NF',\n",
       "       'NF', 'PF', 'F', 'PF', 'F', 'NF', 'F', 'NF', 'NF', 'PF', 'NF', 'F',\n",
       "       'NF', 'PF', 'F', 'NF', 'F', 'F', 'NF', 'F', 'F', 'F', 'NF', 'NF',\n",
       "       'PF', 'F', 'F', 'PF', 'F', 'F', 'PF', 'PF', 'NF', 'NF', 'F', 'NF',\n",
       "       'PF', 'F', 'PF', 'NF', 'PF', 'PF', 'F', 'NF', 'PF', 'NF', 'PF',\n",
       "       'F', 'F', 'PF', 'F', 'PF', 'PF', 'PF', 'F', 'NF', 'F', 'F', 'NF',\n",
       "       'F', 'F', 'NF', 'F', 'F', 'PF', 'F', 'PF', 'NF', 'F', 'PF', 'PF',\n",
       "       'F', 'PF', 'NF', 'F', 'F', 'NF', 'PF', 'F', 'F', 'F', 'NF', 'PF',\n",
       "       'PF', 'NF', 'NF', 'F', 'NF', 'NF', 'NF', 'PF', 'PF', 'F', 'F',\n",
       "       'NF', 'NF', 'PF', 'PF', 'F'], dtype=object)"
      ]
     },
     "execution_count": 89,
     "metadata": {},
     "output_type": "execute_result"
    }
   ],
   "source": [
    "y_pred"
   ]
  },
  {
   "cell_type": "code",
   "execution_count": 90,
   "id": "abf117ef",
   "metadata": {},
   "outputs": [
    {
     "name": "stdout",
     "output_type": "stream",
     "text": [
      "KNN Accuracy: 0.9809160305343512\n"
     ]
    }
   ],
   "source": [
    "learner = KNeighborsClassifier()\n",
    "\n",
    "learner.fit(X_train, y_train)\n",
    "y_pred = learner.predict(X_test)\n",
    "\n",
    "print(\"KNN Accuracy:\",metrics.accuracy_score(y_test, y_pred))"
   ]
  },
  {
   "cell_type": "code",
   "execution_count": 93,
   "id": "d2e3635f",
   "metadata": {},
   "outputs": [
    {
     "data": {
      "application/vnd.plotly.v1+json": {
       "config": {
        "plotlyServerURL": "https://plot.ly"
       },
       "data": [
        {
         "colorscale": [
          [
           0,
           "#636efa"
          ],
          [
           1,
           "#636efa"
          ]
         ],
         "geo": "geo",
         "hovertemplate": "Election Type=PF<br>locations=%{location}<extra></extra>",
         "locationmode": "country names",
         "locations": [
          "Bhutan",
          "Timor-Leste",
          "Abkhazia",
          "Kuwait",
          "Zambia",
          "Papua New Guinea",
          "North Macedonia",
          "Armenia",
          "Sri Lanka",
          "Kosovo",
          "Seychelles",
          "Indonesia",
          "Mexico",
          "North Macedonia",
          "Serbia",
          "Maldives",
          "Niger",
          "Haiti",
          "Comoros",
          "Benin",
          "Seychelles",
          "Egypt",
          "Togo",
          "Indonesia",
          "Tanzania",
          "Bhutan",
          "Lebanon",
          "Montenegro",
          "Philippines",
          "Morocco",
          "Mexico",
          "Bolivia",
          "Maldives",
          "Fiji",
          "Haiti",
          "Kuwait",
          "Cote d'Ivoire",
          "Montenegro",
          "Haiti",
          "Cote d'Ivoire",
          "Senegal",
          "Ukraine",
          "Singapore",
          "Bhutan",
          "Uganda",
          "Haiti",
          "Nigeria",
          "Morocco",
          "Malaysia",
          "Honduras",
          "Burkina Faso",
          "Togo",
          "Georgia",
          "Guatemala",
          "Kuwait",
          "Armenia",
          "Pakistan",
          "Hong Kong",
          "Maldives",
          "North Macedonia",
          "Honduras",
          "Paraguay",
          "Armenia",
          "Mexico",
          "Niger",
          "North Macedonia",
          "Bosnia and Herzegovina",
          "Somaliland",
          "Zimbabwe",
          "Georgia",
          "Hong Kong",
          "Papua New Guinea",
          "Lesotho",
          "Armenia",
          "Seychelles",
          "Bolivia",
          "Paraguay",
          "Zambia",
          "Haiti",
          "Togo",
          "Abkhazia",
          "Sierra Leone",
          "Mali",
          "Burkina Faso",
          "Bolivia",
          "Montenegro",
          "Bosnia and Herzegovina",
          "Nagorno-Karabakh",
          "Somaliland",
          "Tanzania",
          "Colombia",
          "Morocco",
          "Tanzania",
          "Seychelles",
          "Guinea",
          "Guatemala",
          "Paraguay",
          "Malaysia",
          "Kenya",
          "Ukraine",
          "Ukraine",
          "Pakistan",
          "Venezuela",
          "Comoros",
          "Pakistan",
          "Madagascar",
          "Moldova",
          "Kosovo",
          "Paraguay",
          "Indonesia",
          "Lebanon",
          "Thailand",
          "Colombia",
          "Bosnia and Herzegovina",
          "Montenegro",
          "Nicaragua",
          "Cote d'Ivoire",
          "Cote d'Ivoire",
          "Kyrgyzstan",
          "Philippines",
          "Venezuela",
          "Uganda",
          "Malawi",
          "Maldives",
          "Indonesia",
          "Lesotho",
          "Pakistan",
          "Malawi",
          "Nigeria",
          "Comoros",
          "Mexico",
          "Guatemala",
          "Abkhazia",
          "Ukraine",
          "Timor-Leste",
          "Bolivia",
          "Malawi",
          "Kenya",
          "Ecuador",
          "Niger",
          "Comoros",
          "Somaliland",
          "Zambia",
          "Armenia",
          "Haiti",
          "Liberia",
          "Liberia",
          "Abkhazia",
          "Burkina Faso",
          "Hong Kong",
          "Kenya",
          "Mexico",
          "Zambia"
         ],
         "name": "PF",
         "showlegend": true,
         "showscale": false,
         "type": "choropleth",
         "z": [
          1,
          1,
          1,
          1,
          1,
          1,
          1,
          1,
          1,
          1,
          1,
          1,
          1,
          1,
          1,
          1,
          1,
          1,
          1,
          1,
          1,
          1,
          1,
          1,
          1,
          1,
          1,
          1,
          1,
          1,
          1,
          1,
          1,
          1,
          1,
          1,
          1,
          1,
          1,
          1,
          1,
          1,
          1,
          1,
          1,
          1,
          1,
          1,
          1,
          1,
          1,
          1,
          1,
          1,
          1,
          1,
          1,
          1,
          1,
          1,
          1,
          1,
          1,
          1,
          1,
          1,
          1,
          1,
          1,
          1,
          1,
          1,
          1,
          1,
          1,
          1,
          1,
          1,
          1,
          1,
          1,
          1,
          1,
          1,
          1,
          1,
          1,
          1,
          1,
          1,
          1,
          1,
          1,
          1,
          1,
          1,
          1,
          1,
          1,
          1,
          1,
          1,
          1,
          1,
          1,
          1,
          1,
          1,
          1,
          1,
          1,
          1,
          1,
          1,
          1,
          1,
          1,
          1,
          1,
          1,
          1,
          1,
          1,
          1,
          1,
          1,
          1,
          1,
          1,
          1,
          1,
          1,
          1,
          1,
          1,
          1,
          1,
          1,
          1,
          1,
          1,
          1,
          1,
          1,
          1,
          1,
          1,
          1,
          1,
          1,
          1,
          1,
          1
         ]
        },
        {
         "colorscale": [
          [
           0,
           "#EF553B"
          ],
          [
           1,
           "#EF553B"
          ]
         ],
         "geo": "geo",
         "hovertemplate": "Election Type=F<br>locations=%{location}<extra></extra>",
         "locationmode": "country names",
         "locations": [
          "New Zealand",
          "El Salvador",
          "Switzerland",
          "Malta",
          "Sweden",
          "Slovakia",
          "Botswana",
          "Italy",
          "Slovenia",
          "Marshall Islands",
          "Serbia",
          "Chile",
          "Senegal",
          "Sweden",
          "Malta",
          "St. Kitts and Nevis",
          "Croatia",
          "Brazil",
          "Germany",
          "Kiribati",
          "El Salvador",
          "Dominica",
          "Cyprus",
          "Panama",
          "Peru",
          "Jamaica",
          "Sao Tome and Principe",
          "Greece",
          "Croatia",
          "Vanuatu",
          "Benin",
          "Mongolia",
          "Suriname",
          "Lithuania",
          "Czech Republic",
          "Senegal",
          "Jamaica",
          "Barbados",
          "Samoa",
          "Mauritius",
          "Palau",
          "Slovenia",
          "United States",
          "Barbados",
          "Costa Rica",
          "United Kingdom",
          "Germany",
          "Mongolia",
          "Uruguay",
          "Belize",
          "Iceland",
          "Taiwan",
          "Uruguay",
          "Serbia",
          "Bahamas",
          "Micronesia",
          "South Africa",
          "Antigua and Barbuda",
          "Kiribati",
          "St. Lucia",
          "Grenada",
          "Senegal",
          "Slovakia",
          "Luxembourg",
          "Ghana",
          "San Marino",
          "South Korea",
          "Latvia",
          "Bulgaria",
          "Trinidad and Tobago",
          "Cabo Verde",
          "Northern Cyprus",
          "Romania",
          "Micronesia",
          "Bulgaria",
          "Kiribati",
          "Lithuania",
          "Denmark",
          "Samoa",
          "Timor-Leste",
          "Marshall Islands",
          "Slovenia",
          "Nauru",
          "Vanuatu",
          "Mongolia",
          "Greece",
          "Belgium",
          "Guyana",
          "France",
          "Ghana",
          "Slovenia",
          "Guyana",
          "Mauritius",
          "Serbia",
          "Japan",
          "Chile",
          "St. Vincent and the Grenadines",
          "Israel",
          "Bulgaria",
          "Portugal",
          "Dominica",
          "Tuvalu",
          "Uruguay",
          "Norway",
          "Monaco",
          "Tuvalu",
          "Denmark",
          "Australia",
          "Mongolia",
          "Malta",
          "Norway",
          "Sweden",
          "Luxembourg",
          "Portugal",
          "Nauru",
          "Croatia",
          "Ghana",
          "Sao Tome and Principe",
          "Cyprus",
          "Ghana",
          "Slovakia",
          "San Marino",
          "Namibia",
          "Germany",
          "St. Vincent and the Grenadines",
          "Trinidad and Tobago",
          "Serbia",
          "Solomon Islands",
          "Liechtenstein",
          "Namibia",
          "Austria",
          "Greece",
          "Mongolia",
          "Slovenia",
          "Kiribati",
          "Cyprus",
          "Mongolia",
          "Tonga",
          "Finland",
          "Dominica",
          "Vanuatu",
          "Tonga",
          "Austria",
          "Bulgaria",
          "Slovakia",
          "Argentina",
          "St. Lucia",
          "Italy",
          "Latvia",
          "Spain",
          "Dominica",
          "Seychelles",
          "Tuvalu",
          "Croatia",
          "Timor-Leste",
          "Brazil",
          "Taiwan",
          "Jamaica",
          "Belize",
          "Argentina",
          "Samoa",
          "Lithuania",
          "Tunisia",
          "Tuvalu",
          "Botswana",
          "Hungary",
          "Bahamas",
          "St. Kitts and Nevis",
          "Belgium",
          "Chile",
          "Finland",
          "Belgium",
          "Andorra",
          "Estonia",
          "San Marino",
          "Ecuador",
          "Namibia",
          "Suriname",
          "Northern Cyprus",
          "Tuvalu",
          "Bahamas",
          "Poland",
          "United States",
          "South Korea",
          "Denmark",
          "Ghana",
          "Vanuatu",
          "Grenada",
          "Estonia",
          "Canada",
          "Austria",
          "Guyana",
          "Ireland",
          "Monaco",
          "Senegal",
          "Switzerland",
          "Belgium",
          "Uruguay",
          "Denmark",
          "Japan",
          "St. Kitts and Nevis",
          "Portugal",
          "Sweden",
          "United Kingdom",
          "Croatia",
          "Ireland",
          "Germany",
          "Namibia",
          "Palau",
          "Costa Rica",
          "Spain",
          "Suriname",
          "Canada",
          "Palau",
          "Israel",
          "United States",
          "Andorra",
          "Trinidad and Tobago",
          "Costa Rica",
          "Finland",
          "Germany",
          "Nauru"
         ],
         "name": "F",
         "showlegend": true,
         "showscale": false,
         "type": "choropleth",
         "z": [
          1,
          1,
          1,
          1,
          1,
          1,
          1,
          1,
          1,
          1,
          1,
          1,
          1,
          1,
          1,
          1,
          1,
          1,
          1,
          1,
          1,
          1,
          1,
          1,
          1,
          1,
          1,
          1,
          1,
          1,
          1,
          1,
          1,
          1,
          1,
          1,
          1,
          1,
          1,
          1,
          1,
          1,
          1,
          1,
          1,
          1,
          1,
          1,
          1,
          1,
          1,
          1,
          1,
          1,
          1,
          1,
          1,
          1,
          1,
          1,
          1,
          1,
          1,
          1,
          1,
          1,
          1,
          1,
          1,
          1,
          1,
          1,
          1,
          1,
          1,
          1,
          1,
          1,
          1,
          1,
          1,
          1,
          1,
          1,
          1,
          1,
          1,
          1,
          1,
          1,
          1,
          1,
          1,
          1,
          1,
          1,
          1,
          1,
          1,
          1,
          1,
          1,
          1,
          1,
          1,
          1,
          1,
          1,
          1,
          1,
          1,
          1,
          1,
          1,
          1,
          1,
          1,
          1,
          1,
          1,
          1,
          1,
          1,
          1,
          1,
          1,
          1,
          1,
          1,
          1,
          1,
          1,
          1,
          1,
          1,
          1,
          1,
          1,
          1,
          1,
          1,
          1,
          1,
          1,
          1,
          1,
          1,
          1,
          1,
          1,
          1,
          1,
          1,
          1,
          1,
          1,
          1,
          1,
          1,
          1,
          1,
          1,
          1,
          1,
          1,
          1,
          1,
          1,
          1,
          1,
          1,
          1,
          1,
          1,
          1,
          1,
          1,
          1,
          1,
          1,
          1,
          1,
          1,
          1,
          1,
          1,
          1,
          1,
          1,
          1,
          1,
          1,
          1,
          1,
          1,
          1,
          1,
          1,
          1,
          1,
          1,
          1,
          1,
          1,
          1,
          1,
          1,
          1,
          1,
          1,
          1,
          1,
          1,
          1,
          1,
          1,
          1,
          1,
          1,
          1,
          1,
          1
         ]
        },
        {
         "colorscale": [
          [
           0,
           "#00cc96"
          ],
          [
           1,
           "#00cc96"
          ]
         ],
         "geo": "geo",
         "hovertemplate": "Election Type=NF<br>locations=%{location}<extra></extra>",
         "locationmode": "country names",
         "locations": [
          "Algeria",
          "West Bank",
          "Pakistani Kashmir",
          "China",
          "Russia",
          "Laos",
          "Uzbekistan",
          "Brunei",
          "Tajikistan",
          "Angola",
          "Cameroon",
          "Gaza Strip",
          "Oman",
          "Congo (Kinshasa)",
          "Jordan",
          "Equatorial Guinea",
          "Thailand",
          "Cameroon",
          "Eritrea",
          "Iraq",
          "Bahrain",
          "Brunei",
          "Turkmenistan",
          "Myanmar",
          "Saudi Arabia",
          "Libya",
          "Chad",
          "Russia",
          "Jordan",
          "Belarus",
          "Equatorial Guinea",
          "Tajikistan",
          "Ethiopia",
          "Djibouti",
          "South Sudan",
          "Qatar",
          "Libya",
          "Vietnam",
          "North Korea",
          "Afghanistan",
          "Somalia",
          "Tajikistan",
          "Turkmenistan",
          "Bahrain",
          "Iran",
          "Laos",
          "Congo (Kinshasa)",
          "West Bank",
          "South Sudan",
          "Saudi Arabia",
          "Gaza Strip",
          "Central African Republic",
          "Rwanda",
          "Eritrea",
          "Turkey",
          "Syria",
          "Bahrain",
          "China",
          "Gabon",
          "Vietnam",
          "Gaza Strip",
          "Transnistria",
          "Rwanda",
          "Turkmenistan",
          "Oman",
          "Cameroon",
          "Pakistani Kashmir",
          "Mauritania",
          "Kazakhstan",
          "Ethiopia",
          "Afghanistan",
          "Uzbekistan",
          "Oman",
          "Mauritania",
          "Kazakhstan",
          "Gaza Strip",
          "Turkey",
          "Ethiopia",
          "Tajikistan",
          "Laos",
          "Uganda",
          "Iraq",
          "North Korea",
          "Vietnam",
          "Somalia",
          "Venezuela",
          "Oman",
          "Tibet",
          "Jordan",
          "Bahrain",
          "Angola",
          "Guinea",
          "Ethiopia",
          "Turkmenistan",
          "Qatar",
          "Pakistani Kashmir",
          "Ethiopia",
          "Somalia",
          "Congo (Brazzaville)",
          "Yemen",
          "Burundi",
          "Chad",
          "Azerbaijan",
          "Azerbaijan",
          "Egypt",
          "Western Sahara",
          "Algeria",
          "Qatar",
          "North Korea",
          "Yemen",
          "Kazakhstan",
          "Djibouti",
          "Cuba",
          "Azerbaijan",
          "Djibouti",
          "Eritrea",
          "Transnistria",
          "Gaza Strip",
          "Vietnam",
          "Eritrea",
          "South Sudan",
          "Equatorial Guinea",
          "Egypt",
          "Tajikistan",
          "Laos",
          "Laos",
          "Algeria",
          "Kyrgyzstan",
          "West Bank",
          "Eswatini",
          "Pakistani Kashmir",
          "Iraq",
          "Chad",
          "Thailand",
          "Azerbaijan",
          "Djibouti",
          "Iran",
          "Gabon",
          "Djibouti",
          "Russia",
          "Chad",
          "The Gambia",
          "South Sudan",
          "Sudan",
          "The Gambia",
          "Russia",
          "Gabon",
          "Rwanda",
          "Algeria"
         ],
         "name": "NF",
         "showlegend": true,
         "showscale": false,
         "type": "choropleth",
         "z": [
          1,
          1,
          1,
          1,
          1,
          1,
          1,
          1,
          1,
          1,
          1,
          1,
          1,
          1,
          1,
          1,
          1,
          1,
          1,
          1,
          1,
          1,
          1,
          1,
          1,
          1,
          1,
          1,
          1,
          1,
          1,
          1,
          1,
          1,
          1,
          1,
          1,
          1,
          1,
          1,
          1,
          1,
          1,
          1,
          1,
          1,
          1,
          1,
          1,
          1,
          1,
          1,
          1,
          1,
          1,
          1,
          1,
          1,
          1,
          1,
          1,
          1,
          1,
          1,
          1,
          1,
          1,
          1,
          1,
          1,
          1,
          1,
          1,
          1,
          1,
          1,
          1,
          1,
          1,
          1,
          1,
          1,
          1,
          1,
          1,
          1,
          1,
          1,
          1,
          1,
          1,
          1,
          1,
          1,
          1,
          1,
          1,
          1,
          1,
          1,
          1,
          1,
          1,
          1,
          1,
          1,
          1,
          1,
          1,
          1,
          1,
          1,
          1,
          1,
          1,
          1,
          1,
          1,
          1,
          1,
          1,
          1,
          1,
          1,
          1,
          1,
          1,
          1,
          1,
          1,
          1,
          1,
          1,
          1,
          1,
          1,
          1,
          1,
          1,
          1,
          1,
          1,
          1,
          1,
          1,
          1,
          1,
          1,
          1
         ]
        }
       ],
       "layout": {
        "geo": {
         "center": {},
         "domain": {
          "x": [
           0,
           1
          ],
          "y": [
           0,
           1
          ]
         }
        },
        "legend": {
         "title": {
          "text": "Election Type"
         },
         "tracegroupgap": 0
        },
        "template": {
         "data": {
          "bar": [
           {
            "error_x": {
             "color": "#2a3f5f"
            },
            "error_y": {
             "color": "#2a3f5f"
            },
            "marker": {
             "line": {
              "color": "#E5ECF6",
              "width": 0.5
             },
             "pattern": {
              "fillmode": "overlay",
              "size": 10,
              "solidity": 0.2
             }
            },
            "type": "bar"
           }
          ],
          "barpolar": [
           {
            "marker": {
             "line": {
              "color": "#E5ECF6",
              "width": 0.5
             },
             "pattern": {
              "fillmode": "overlay",
              "size": 10,
              "solidity": 0.2
             }
            },
            "type": "barpolar"
           }
          ],
          "carpet": [
           {
            "aaxis": {
             "endlinecolor": "#2a3f5f",
             "gridcolor": "white",
             "linecolor": "white",
             "minorgridcolor": "white",
             "startlinecolor": "#2a3f5f"
            },
            "baxis": {
             "endlinecolor": "#2a3f5f",
             "gridcolor": "white",
             "linecolor": "white",
             "minorgridcolor": "white",
             "startlinecolor": "#2a3f5f"
            },
            "type": "carpet"
           }
          ],
          "choropleth": [
           {
            "colorbar": {
             "outlinewidth": 0,
             "ticks": ""
            },
            "type": "choropleth"
           }
          ],
          "contour": [
           {
            "colorbar": {
             "outlinewidth": 0,
             "ticks": ""
            },
            "colorscale": [
             [
              0,
              "#0d0887"
             ],
             [
              0.1111111111111111,
              "#46039f"
             ],
             [
              0.2222222222222222,
              "#7201a8"
             ],
             [
              0.3333333333333333,
              "#9c179e"
             ],
             [
              0.4444444444444444,
              "#bd3786"
             ],
             [
              0.5555555555555556,
              "#d8576b"
             ],
             [
              0.6666666666666666,
              "#ed7953"
             ],
             [
              0.7777777777777778,
              "#fb9f3a"
             ],
             [
              0.8888888888888888,
              "#fdca26"
             ],
             [
              1,
              "#f0f921"
             ]
            ],
            "type": "contour"
           }
          ],
          "contourcarpet": [
           {
            "colorbar": {
             "outlinewidth": 0,
             "ticks": ""
            },
            "type": "contourcarpet"
           }
          ],
          "heatmap": [
           {
            "colorbar": {
             "outlinewidth": 0,
             "ticks": ""
            },
            "colorscale": [
             [
              0,
              "#0d0887"
             ],
             [
              0.1111111111111111,
              "#46039f"
             ],
             [
              0.2222222222222222,
              "#7201a8"
             ],
             [
              0.3333333333333333,
              "#9c179e"
             ],
             [
              0.4444444444444444,
              "#bd3786"
             ],
             [
              0.5555555555555556,
              "#d8576b"
             ],
             [
              0.6666666666666666,
              "#ed7953"
             ],
             [
              0.7777777777777778,
              "#fb9f3a"
             ],
             [
              0.8888888888888888,
              "#fdca26"
             ],
             [
              1,
              "#f0f921"
             ]
            ],
            "type": "heatmap"
           }
          ],
          "heatmapgl": [
           {
            "colorbar": {
             "outlinewidth": 0,
             "ticks": ""
            },
            "colorscale": [
             [
              0,
              "#0d0887"
             ],
             [
              0.1111111111111111,
              "#46039f"
             ],
             [
              0.2222222222222222,
              "#7201a8"
             ],
             [
              0.3333333333333333,
              "#9c179e"
             ],
             [
              0.4444444444444444,
              "#bd3786"
             ],
             [
              0.5555555555555556,
              "#d8576b"
             ],
             [
              0.6666666666666666,
              "#ed7953"
             ],
             [
              0.7777777777777778,
              "#fb9f3a"
             ],
             [
              0.8888888888888888,
              "#fdca26"
             ],
             [
              1,
              "#f0f921"
             ]
            ],
            "type": "heatmapgl"
           }
          ],
          "histogram": [
           {
            "marker": {
             "pattern": {
              "fillmode": "overlay",
              "size": 10,
              "solidity": 0.2
             }
            },
            "type": "histogram"
           }
          ],
          "histogram2d": [
           {
            "colorbar": {
             "outlinewidth": 0,
             "ticks": ""
            },
            "colorscale": [
             [
              0,
              "#0d0887"
             ],
             [
              0.1111111111111111,
              "#46039f"
             ],
             [
              0.2222222222222222,
              "#7201a8"
             ],
             [
              0.3333333333333333,
              "#9c179e"
             ],
             [
              0.4444444444444444,
              "#bd3786"
             ],
             [
              0.5555555555555556,
              "#d8576b"
             ],
             [
              0.6666666666666666,
              "#ed7953"
             ],
             [
              0.7777777777777778,
              "#fb9f3a"
             ],
             [
              0.8888888888888888,
              "#fdca26"
             ],
             [
              1,
              "#f0f921"
             ]
            ],
            "type": "histogram2d"
           }
          ],
          "histogram2dcontour": [
           {
            "colorbar": {
             "outlinewidth": 0,
             "ticks": ""
            },
            "colorscale": [
             [
              0,
              "#0d0887"
             ],
             [
              0.1111111111111111,
              "#46039f"
             ],
             [
              0.2222222222222222,
              "#7201a8"
             ],
             [
              0.3333333333333333,
              "#9c179e"
             ],
             [
              0.4444444444444444,
              "#bd3786"
             ],
             [
              0.5555555555555556,
              "#d8576b"
             ],
             [
              0.6666666666666666,
              "#ed7953"
             ],
             [
              0.7777777777777778,
              "#fb9f3a"
             ],
             [
              0.8888888888888888,
              "#fdca26"
             ],
             [
              1,
              "#f0f921"
             ]
            ],
            "type": "histogram2dcontour"
           }
          ],
          "mesh3d": [
           {
            "colorbar": {
             "outlinewidth": 0,
             "ticks": ""
            },
            "type": "mesh3d"
           }
          ],
          "parcoords": [
           {
            "line": {
             "colorbar": {
              "outlinewidth": 0,
              "ticks": ""
             }
            },
            "type": "parcoords"
           }
          ],
          "pie": [
           {
            "automargin": true,
            "type": "pie"
           }
          ],
          "scatter": [
           {
            "fillpattern": {
             "fillmode": "overlay",
             "size": 10,
             "solidity": 0.2
            },
            "type": "scatter"
           }
          ],
          "scatter3d": [
           {
            "line": {
             "colorbar": {
              "outlinewidth": 0,
              "ticks": ""
             }
            },
            "marker": {
             "colorbar": {
              "outlinewidth": 0,
              "ticks": ""
             }
            },
            "type": "scatter3d"
           }
          ],
          "scattercarpet": [
           {
            "marker": {
             "colorbar": {
              "outlinewidth": 0,
              "ticks": ""
             }
            },
            "type": "scattercarpet"
           }
          ],
          "scattergeo": [
           {
            "marker": {
             "colorbar": {
              "outlinewidth": 0,
              "ticks": ""
             }
            },
            "type": "scattergeo"
           }
          ],
          "scattergl": [
           {
            "marker": {
             "colorbar": {
              "outlinewidth": 0,
              "ticks": ""
             }
            },
            "type": "scattergl"
           }
          ],
          "scattermapbox": [
           {
            "marker": {
             "colorbar": {
              "outlinewidth": 0,
              "ticks": ""
             }
            },
            "type": "scattermapbox"
           }
          ],
          "scatterpolar": [
           {
            "marker": {
             "colorbar": {
              "outlinewidth": 0,
              "ticks": ""
             }
            },
            "type": "scatterpolar"
           }
          ],
          "scatterpolargl": [
           {
            "marker": {
             "colorbar": {
              "outlinewidth": 0,
              "ticks": ""
             }
            },
            "type": "scatterpolargl"
           }
          ],
          "scatterternary": [
           {
            "marker": {
             "colorbar": {
              "outlinewidth": 0,
              "ticks": ""
             }
            },
            "type": "scatterternary"
           }
          ],
          "surface": [
           {
            "colorbar": {
             "outlinewidth": 0,
             "ticks": ""
            },
            "colorscale": [
             [
              0,
              "#0d0887"
             ],
             [
              0.1111111111111111,
              "#46039f"
             ],
             [
              0.2222222222222222,
              "#7201a8"
             ],
             [
              0.3333333333333333,
              "#9c179e"
             ],
             [
              0.4444444444444444,
              "#bd3786"
             ],
             [
              0.5555555555555556,
              "#d8576b"
             ],
             [
              0.6666666666666666,
              "#ed7953"
             ],
             [
              0.7777777777777778,
              "#fb9f3a"
             ],
             [
              0.8888888888888888,
              "#fdca26"
             ],
             [
              1,
              "#f0f921"
             ]
            ],
            "type": "surface"
           }
          ],
          "table": [
           {
            "cells": {
             "fill": {
              "color": "#EBF0F8"
             },
             "line": {
              "color": "white"
             }
            },
            "header": {
             "fill": {
              "color": "#C8D4E3"
             },
             "line": {
              "color": "white"
             }
            },
            "type": "table"
           }
          ]
         },
         "layout": {
          "annotationdefaults": {
           "arrowcolor": "#2a3f5f",
           "arrowhead": 0,
           "arrowwidth": 1
          },
          "autotypenumbers": "strict",
          "coloraxis": {
           "colorbar": {
            "outlinewidth": 0,
            "ticks": ""
           }
          },
          "colorscale": {
           "diverging": [
            [
             0,
             "#8e0152"
            ],
            [
             0.1,
             "#c51b7d"
            ],
            [
             0.2,
             "#de77ae"
            ],
            [
             0.3,
             "#f1b6da"
            ],
            [
             0.4,
             "#fde0ef"
            ],
            [
             0.5,
             "#f7f7f7"
            ],
            [
             0.6,
             "#e6f5d0"
            ],
            [
             0.7,
             "#b8e186"
            ],
            [
             0.8,
             "#7fbc41"
            ],
            [
             0.9,
             "#4d9221"
            ],
            [
             1,
             "#276419"
            ]
           ],
           "sequential": [
            [
             0,
             "#0d0887"
            ],
            [
             0.1111111111111111,
             "#46039f"
            ],
            [
             0.2222222222222222,
             "#7201a8"
            ],
            [
             0.3333333333333333,
             "#9c179e"
            ],
            [
             0.4444444444444444,
             "#bd3786"
            ],
            [
             0.5555555555555556,
             "#d8576b"
            ],
            [
             0.6666666666666666,
             "#ed7953"
            ],
            [
             0.7777777777777778,
             "#fb9f3a"
            ],
            [
             0.8888888888888888,
             "#fdca26"
            ],
            [
             1,
             "#f0f921"
            ]
           ],
           "sequentialminus": [
            [
             0,
             "#0d0887"
            ],
            [
             0.1111111111111111,
             "#46039f"
            ],
            [
             0.2222222222222222,
             "#7201a8"
            ],
            [
             0.3333333333333333,
             "#9c179e"
            ],
            [
             0.4444444444444444,
             "#bd3786"
            ],
            [
             0.5555555555555556,
             "#d8576b"
            ],
            [
             0.6666666666666666,
             "#ed7953"
            ],
            [
             0.7777777777777778,
             "#fb9f3a"
            ],
            [
             0.8888888888888888,
             "#fdca26"
            ],
            [
             1,
             "#f0f921"
            ]
           ]
          },
          "colorway": [
           "#636efa",
           "#EF553B",
           "#00cc96",
           "#ab63fa",
           "#FFA15A",
           "#19d3f3",
           "#FF6692",
           "#B6E880",
           "#FF97FF",
           "#FECB52"
          ],
          "font": {
           "color": "#2a3f5f"
          },
          "geo": {
           "bgcolor": "white",
           "lakecolor": "white",
           "landcolor": "#E5ECF6",
           "showlakes": true,
           "showland": true,
           "subunitcolor": "white"
          },
          "hoverlabel": {
           "align": "left"
          },
          "hovermode": "closest",
          "mapbox": {
           "style": "light"
          },
          "paper_bgcolor": "white",
          "plot_bgcolor": "#E5ECF6",
          "polar": {
           "angularaxis": {
            "gridcolor": "white",
            "linecolor": "white",
            "ticks": ""
           },
           "bgcolor": "#E5ECF6",
           "radialaxis": {
            "gridcolor": "white",
            "linecolor": "white",
            "ticks": ""
           }
          },
          "scene": {
           "xaxis": {
            "backgroundcolor": "#E5ECF6",
            "gridcolor": "white",
            "gridwidth": 2,
            "linecolor": "white",
            "showbackground": true,
            "ticks": "",
            "zerolinecolor": "white"
           },
           "yaxis": {
            "backgroundcolor": "#E5ECF6",
            "gridcolor": "white",
            "gridwidth": 2,
            "linecolor": "white",
            "showbackground": true,
            "ticks": "",
            "zerolinecolor": "white"
           },
           "zaxis": {
            "backgroundcolor": "#E5ECF6",
            "gridcolor": "white",
            "gridwidth": 2,
            "linecolor": "white",
            "showbackground": true,
            "ticks": "",
            "zerolinecolor": "white"
           }
          },
          "shapedefaults": {
           "line": {
            "color": "#2a3f5f"
           }
          },
          "ternary": {
           "aaxis": {
            "gridcolor": "white",
            "linecolor": "white",
            "ticks": ""
           },
           "baxis": {
            "gridcolor": "white",
            "linecolor": "white",
            "ticks": ""
           },
           "bgcolor": "#E5ECF6",
           "caxis": {
            "gridcolor": "white",
            "linecolor": "white",
            "ticks": ""
           }
          },
          "title": {
           "x": 0.05
          },
          "xaxis": {
           "automargin": true,
           "gridcolor": "white",
           "linecolor": "white",
           "ticks": "",
           "title": {
            "standoff": 15
           },
           "zerolinecolor": "white",
           "zerolinewidth": 2
          },
          "yaxis": {
           "automargin": true,
           "gridcolor": "white",
           "linecolor": "white",
           "ticks": "",
           "title": {
            "standoff": 15
           },
           "zerolinecolor": "white",
           "zerolinewidth": 2
          }
         }
        },
        "title": {
         "text": "Wide-Form Input, relabelled"
        }
       }
      },
      "text/html": [
       "<div>                            <div id=\"ebaa94da-e0f8-4627-9e79-1eb33d089629\" class=\"plotly-graph-div\" style=\"height:525px; width:100%;\"></div>            <script type=\"text/javascript\">                require([\"plotly\"], function(Plotly) {                    window.PLOTLYENV=window.PLOTLYENV || {};                                    if (document.getElementById(\"ebaa94da-e0f8-4627-9e79-1eb33d089629\")) {                    Plotly.newPlot(                        \"ebaa94da-e0f8-4627-9e79-1eb33d089629\",                        [{\"colorscale\":[[0.0,\"#636efa\"],[1.0,\"#636efa\"]],\"geo\":\"geo\",\"hovertemplate\":\"Election Type=PF<br>locations=%{location}<extra></extra>\",\"locationmode\":\"country names\",\"locations\":[\"Bhutan\",\"Timor-Leste\",\"Abkhazia\",\"Kuwait\",\"Zambia\",\"Papua New Guinea\",\"North Macedonia\",\"Armenia\",\"Sri Lanka\",\"Kosovo\",\"Seychelles\",\"Indonesia\",\"Mexico\",\"North Macedonia\",\"Serbia\",\"Maldives\",\"Niger\",\"Haiti\",\"Comoros\",\"Benin\",\"Seychelles\",\"Egypt\",\"Togo\",\"Indonesia\",\"Tanzania\",\"Bhutan\",\"Lebanon\",\"Montenegro\",\"Philippines\",\"Morocco\",\"Mexico\",\"Bolivia\",\"Maldives\",\"Fiji\",\"Haiti\",\"Kuwait\",\"Cote d'Ivoire\",\"Montenegro\",\"Haiti\",\"Cote d'Ivoire\",\"Senegal\",\"Ukraine\",\"Singapore\",\"Bhutan\",\"Uganda\",\"Haiti\",\"Nigeria\",\"Morocco\",\"Malaysia\",\"Honduras\",\"Burkina Faso\",\"Togo\",\"Georgia\",\"Guatemala\",\"Kuwait\",\"Armenia\",\"Pakistan\",\"Hong Kong\",\"Maldives\",\"North Macedonia\",\"Honduras\",\"Paraguay\",\"Armenia\",\"Mexico\",\"Niger\",\"North Macedonia\",\"Bosnia and Herzegovina\",\"Somaliland\",\"Zimbabwe\",\"Georgia\",\"Hong Kong\",\"Papua New Guinea\",\"Lesotho\",\"Armenia\",\"Seychelles\",\"Bolivia\",\"Paraguay\",\"Zambia\",\"Haiti\",\"Togo\",\"Abkhazia\",\"Sierra Leone\",\"Mali\",\"Burkina Faso\",\"Bolivia\",\"Montenegro\",\"Bosnia and Herzegovina\",\"Nagorno-Karabakh\",\"Somaliland\",\"Tanzania\",\"Colombia\",\"Morocco\",\"Tanzania\",\"Seychelles\",\"Guinea\",\"Guatemala\",\"Paraguay\",\"Malaysia\",\"Kenya\",\"Ukraine\",\"Ukraine\",\"Pakistan\",\"Venezuela\",\"Comoros\",\"Pakistan\",\"Madagascar\",\"Moldova\",\"Kosovo\",\"Paraguay\",\"Indonesia\",\"Lebanon\",\"Thailand\",\"Colombia\",\"Bosnia and Herzegovina\",\"Montenegro\",\"Nicaragua\",\"Cote d'Ivoire\",\"Cote d'Ivoire\",\"Kyrgyzstan\",\"Philippines\",\"Venezuela\",\"Uganda\",\"Malawi\",\"Maldives\",\"Indonesia\",\"Lesotho\",\"Pakistan\",\"Malawi\",\"Nigeria\",\"Comoros\",\"Mexico\",\"Guatemala\",\"Abkhazia\",\"Ukraine\",\"Timor-Leste\",\"Bolivia\",\"Malawi\",\"Kenya\",\"Ecuador\",\"Niger\",\"Comoros\",\"Somaliland\",\"Zambia\",\"Armenia\",\"Haiti\",\"Liberia\",\"Liberia\",\"Abkhazia\",\"Burkina Faso\",\"Hong Kong\",\"Kenya\",\"Mexico\",\"Zambia\"],\"name\":\"PF\",\"showlegend\":true,\"showscale\":false,\"z\":[1,1,1,1,1,1,1,1,1,1,1,1,1,1,1,1,1,1,1,1,1,1,1,1,1,1,1,1,1,1,1,1,1,1,1,1,1,1,1,1,1,1,1,1,1,1,1,1,1,1,1,1,1,1,1,1,1,1,1,1,1,1,1,1,1,1,1,1,1,1,1,1,1,1,1,1,1,1,1,1,1,1,1,1,1,1,1,1,1,1,1,1,1,1,1,1,1,1,1,1,1,1,1,1,1,1,1,1,1,1,1,1,1,1,1,1,1,1,1,1,1,1,1,1,1,1,1,1,1,1,1,1,1,1,1,1,1,1,1,1,1,1,1,1,1,1,1,1,1,1,1,1,1],\"type\":\"choropleth\"},{\"colorscale\":[[0.0,\"#EF553B\"],[1.0,\"#EF553B\"]],\"geo\":\"geo\",\"hovertemplate\":\"Election Type=F<br>locations=%{location}<extra></extra>\",\"locationmode\":\"country names\",\"locations\":[\"New Zealand\",\"El Salvador\",\"Switzerland\",\"Malta\",\"Sweden\",\"Slovakia\",\"Botswana\",\"Italy\",\"Slovenia\",\"Marshall Islands\",\"Serbia\",\"Chile\",\"Senegal\",\"Sweden\",\"Malta\",\"St. Kitts and Nevis\",\"Croatia\",\"Brazil\",\"Germany\",\"Kiribati\",\"El Salvador\",\"Dominica\",\"Cyprus\",\"Panama\",\"Peru\",\"Jamaica\",\"Sao Tome and Principe\",\"Greece\",\"Croatia\",\"Vanuatu\",\"Benin\",\"Mongolia\",\"Suriname\",\"Lithuania\",\"Czech Republic\",\"Senegal\",\"Jamaica\",\"Barbados\",\"Samoa\",\"Mauritius\",\"Palau\",\"Slovenia\",\"United States\",\"Barbados\",\"Costa Rica\",\"United Kingdom\",\"Germany\",\"Mongolia\",\"Uruguay\",\"Belize\",\"Iceland\",\"Taiwan\",\"Uruguay\",\"Serbia\",\"Bahamas\",\"Micronesia\",\"South Africa\",\"Antigua and Barbuda\",\"Kiribati\",\"St. Lucia\",\"Grenada\",\"Senegal\",\"Slovakia\",\"Luxembourg\",\"Ghana\",\"San Marino\",\"South Korea\",\"Latvia\",\"Bulgaria\",\"Trinidad and Tobago\",\"Cabo Verde\",\"Northern Cyprus\",\"Romania\",\"Micronesia\",\"Bulgaria\",\"Kiribati\",\"Lithuania\",\"Denmark\",\"Samoa\",\"Timor-Leste\",\"Marshall Islands\",\"Slovenia\",\"Nauru\",\"Vanuatu\",\"Mongolia\",\"Greece\",\"Belgium\",\"Guyana\",\"France\",\"Ghana\",\"Slovenia\",\"Guyana\",\"Mauritius\",\"Serbia\",\"Japan\",\"Chile\",\"St. Vincent and the Grenadines\",\"Israel\",\"Bulgaria\",\"Portugal\",\"Dominica\",\"Tuvalu\",\"Uruguay\",\"Norway\",\"Monaco\",\"Tuvalu\",\"Denmark\",\"Australia\",\"Mongolia\",\"Malta\",\"Norway\",\"Sweden\",\"Luxembourg\",\"Portugal\",\"Nauru\",\"Croatia\",\"Ghana\",\"Sao Tome and Principe\",\"Cyprus\",\"Ghana\",\"Slovakia\",\"San Marino\",\"Namibia\",\"Germany\",\"St. Vincent and the Grenadines\",\"Trinidad and Tobago\",\"Serbia\",\"Solomon Islands\",\"Liechtenstein\",\"Namibia\",\"Austria\",\"Greece\",\"Mongolia\",\"Slovenia\",\"Kiribati\",\"Cyprus\",\"Mongolia\",\"Tonga\",\"Finland\",\"Dominica\",\"Vanuatu\",\"Tonga\",\"Austria\",\"Bulgaria\",\"Slovakia\",\"Argentina\",\"St. Lucia\",\"Italy\",\"Latvia\",\"Spain\",\"Dominica\",\"Seychelles\",\"Tuvalu\",\"Croatia\",\"Timor-Leste\",\"Brazil\",\"Taiwan\",\"Jamaica\",\"Belize\",\"Argentina\",\"Samoa\",\"Lithuania\",\"Tunisia\",\"Tuvalu\",\"Botswana\",\"Hungary\",\"Bahamas\",\"St. Kitts and Nevis\",\"Belgium\",\"Chile\",\"Finland\",\"Belgium\",\"Andorra\",\"Estonia\",\"San Marino\",\"Ecuador\",\"Namibia\",\"Suriname\",\"Northern Cyprus\",\"Tuvalu\",\"Bahamas\",\"Poland\",\"United States\",\"South Korea\",\"Denmark\",\"Ghana\",\"Vanuatu\",\"Grenada\",\"Estonia\",\"Canada\",\"Austria\",\"Guyana\",\"Ireland\",\"Monaco\",\"Senegal\",\"Switzerland\",\"Belgium\",\"Uruguay\",\"Denmark\",\"Japan\",\"St. Kitts and Nevis\",\"Portugal\",\"Sweden\",\"United Kingdom\",\"Croatia\",\"Ireland\",\"Germany\",\"Namibia\",\"Palau\",\"Costa Rica\",\"Spain\",\"Suriname\",\"Canada\",\"Palau\",\"Israel\",\"United States\",\"Andorra\",\"Trinidad and Tobago\",\"Costa Rica\",\"Finland\",\"Germany\",\"Nauru\"],\"name\":\"F\",\"showlegend\":true,\"showscale\":false,\"z\":[1,1,1,1,1,1,1,1,1,1,1,1,1,1,1,1,1,1,1,1,1,1,1,1,1,1,1,1,1,1,1,1,1,1,1,1,1,1,1,1,1,1,1,1,1,1,1,1,1,1,1,1,1,1,1,1,1,1,1,1,1,1,1,1,1,1,1,1,1,1,1,1,1,1,1,1,1,1,1,1,1,1,1,1,1,1,1,1,1,1,1,1,1,1,1,1,1,1,1,1,1,1,1,1,1,1,1,1,1,1,1,1,1,1,1,1,1,1,1,1,1,1,1,1,1,1,1,1,1,1,1,1,1,1,1,1,1,1,1,1,1,1,1,1,1,1,1,1,1,1,1,1,1,1,1,1,1,1,1,1,1,1,1,1,1,1,1,1,1,1,1,1,1,1,1,1,1,1,1,1,1,1,1,1,1,1,1,1,1,1,1,1,1,1,1,1,1,1,1,1,1,1,1,1,1,1,1,1,1,1,1,1,1,1,1,1,1,1,1,1,1,1],\"type\":\"choropleth\"},{\"colorscale\":[[0.0,\"#00cc96\"],[1.0,\"#00cc96\"]],\"geo\":\"geo\",\"hovertemplate\":\"Election Type=NF<br>locations=%{location}<extra></extra>\",\"locationmode\":\"country names\",\"locations\":[\"Algeria\",\"West Bank\",\"Pakistani Kashmir\",\"China\",\"Russia\",\"Laos\",\"Uzbekistan\",\"Brunei\",\"Tajikistan\",\"Angola\",\"Cameroon\",\"Gaza Strip\",\"Oman\",\"Congo (Kinshasa)\",\"Jordan\",\"Equatorial Guinea\",\"Thailand\",\"Cameroon\",\"Eritrea\",\"Iraq\",\"Bahrain\",\"Brunei\",\"Turkmenistan\",\"Myanmar\",\"Saudi Arabia\",\"Libya\",\"Chad\",\"Russia\",\"Jordan\",\"Belarus\",\"Equatorial Guinea\",\"Tajikistan\",\"Ethiopia\",\"Djibouti\",\"South Sudan\",\"Qatar\",\"Libya\",\"Vietnam\",\"North Korea\",\"Afghanistan\",\"Somalia\",\"Tajikistan\",\"Turkmenistan\",\"Bahrain\",\"Iran\",\"Laos\",\"Congo (Kinshasa)\",\"West Bank\",\"South Sudan\",\"Saudi Arabia\",\"Gaza Strip\",\"Central African Republic\",\"Rwanda\",\"Eritrea\",\"Turkey\",\"Syria\",\"Bahrain\",\"China\",\"Gabon\",\"Vietnam\",\"Gaza Strip\",\"Transnistria\",\"Rwanda\",\"Turkmenistan\",\"Oman\",\"Cameroon\",\"Pakistani Kashmir\",\"Mauritania\",\"Kazakhstan\",\"Ethiopia\",\"Afghanistan\",\"Uzbekistan\",\"Oman\",\"Mauritania\",\"Kazakhstan\",\"Gaza Strip\",\"Turkey\",\"Ethiopia\",\"Tajikistan\",\"Laos\",\"Uganda\",\"Iraq\",\"North Korea\",\"Vietnam\",\"Somalia\",\"Venezuela\",\"Oman\",\"Tibet\",\"Jordan\",\"Bahrain\",\"Angola\",\"Guinea\",\"Ethiopia\",\"Turkmenistan\",\"Qatar\",\"Pakistani Kashmir\",\"Ethiopia\",\"Somalia\",\"Congo (Brazzaville)\",\"Yemen\",\"Burundi\",\"Chad\",\"Azerbaijan\",\"Azerbaijan\",\"Egypt\",\"Western Sahara\",\"Algeria\",\"Qatar\",\"North Korea\",\"Yemen\",\"Kazakhstan\",\"Djibouti\",\"Cuba\",\"Azerbaijan\",\"Djibouti\",\"Eritrea\",\"Transnistria\",\"Gaza Strip\",\"Vietnam\",\"Eritrea\",\"South Sudan\",\"Equatorial Guinea\",\"Egypt\",\"Tajikistan\",\"Laos\",\"Laos\",\"Algeria\",\"Kyrgyzstan\",\"West Bank\",\"Eswatini\",\"Pakistani Kashmir\",\"Iraq\",\"Chad\",\"Thailand\",\"Azerbaijan\",\"Djibouti\",\"Iran\",\"Gabon\",\"Djibouti\",\"Russia\",\"Chad\",\"The Gambia\",\"South Sudan\",\"Sudan\",\"The Gambia\",\"Russia\",\"Gabon\",\"Rwanda\",\"Algeria\"],\"name\":\"NF\",\"showlegend\":true,\"showscale\":false,\"z\":[1,1,1,1,1,1,1,1,1,1,1,1,1,1,1,1,1,1,1,1,1,1,1,1,1,1,1,1,1,1,1,1,1,1,1,1,1,1,1,1,1,1,1,1,1,1,1,1,1,1,1,1,1,1,1,1,1,1,1,1,1,1,1,1,1,1,1,1,1,1,1,1,1,1,1,1,1,1,1,1,1,1,1,1,1,1,1,1,1,1,1,1,1,1,1,1,1,1,1,1,1,1,1,1,1,1,1,1,1,1,1,1,1,1,1,1,1,1,1,1,1,1,1,1,1,1,1,1,1,1,1,1,1,1,1,1,1,1,1,1,1,1,1,1,1,1,1,1,1],\"type\":\"choropleth\"}],                        {\"template\":{\"data\":{\"histogram2dcontour\":[{\"type\":\"histogram2dcontour\",\"colorbar\":{\"outlinewidth\":0,\"ticks\":\"\"},\"colorscale\":[[0.0,\"#0d0887\"],[0.1111111111111111,\"#46039f\"],[0.2222222222222222,\"#7201a8\"],[0.3333333333333333,\"#9c179e\"],[0.4444444444444444,\"#bd3786\"],[0.5555555555555556,\"#d8576b\"],[0.6666666666666666,\"#ed7953\"],[0.7777777777777778,\"#fb9f3a\"],[0.8888888888888888,\"#fdca26\"],[1.0,\"#f0f921\"]]}],\"choropleth\":[{\"type\":\"choropleth\",\"colorbar\":{\"outlinewidth\":0,\"ticks\":\"\"}}],\"histogram2d\":[{\"type\":\"histogram2d\",\"colorbar\":{\"outlinewidth\":0,\"ticks\":\"\"},\"colorscale\":[[0.0,\"#0d0887\"],[0.1111111111111111,\"#46039f\"],[0.2222222222222222,\"#7201a8\"],[0.3333333333333333,\"#9c179e\"],[0.4444444444444444,\"#bd3786\"],[0.5555555555555556,\"#d8576b\"],[0.6666666666666666,\"#ed7953\"],[0.7777777777777778,\"#fb9f3a\"],[0.8888888888888888,\"#fdca26\"],[1.0,\"#f0f921\"]]}],\"heatmap\":[{\"type\":\"heatmap\",\"colorbar\":{\"outlinewidth\":0,\"ticks\":\"\"},\"colorscale\":[[0.0,\"#0d0887\"],[0.1111111111111111,\"#46039f\"],[0.2222222222222222,\"#7201a8\"],[0.3333333333333333,\"#9c179e\"],[0.4444444444444444,\"#bd3786\"],[0.5555555555555556,\"#d8576b\"],[0.6666666666666666,\"#ed7953\"],[0.7777777777777778,\"#fb9f3a\"],[0.8888888888888888,\"#fdca26\"],[1.0,\"#f0f921\"]]}],\"heatmapgl\":[{\"type\":\"heatmapgl\",\"colorbar\":{\"outlinewidth\":0,\"ticks\":\"\"},\"colorscale\":[[0.0,\"#0d0887\"],[0.1111111111111111,\"#46039f\"],[0.2222222222222222,\"#7201a8\"],[0.3333333333333333,\"#9c179e\"],[0.4444444444444444,\"#bd3786\"],[0.5555555555555556,\"#d8576b\"],[0.6666666666666666,\"#ed7953\"],[0.7777777777777778,\"#fb9f3a\"],[0.8888888888888888,\"#fdca26\"],[1.0,\"#f0f921\"]]}],\"contourcarpet\":[{\"type\":\"contourcarpet\",\"colorbar\":{\"outlinewidth\":0,\"ticks\":\"\"}}],\"contour\":[{\"type\":\"contour\",\"colorbar\":{\"outlinewidth\":0,\"ticks\":\"\"},\"colorscale\":[[0.0,\"#0d0887\"],[0.1111111111111111,\"#46039f\"],[0.2222222222222222,\"#7201a8\"],[0.3333333333333333,\"#9c179e\"],[0.4444444444444444,\"#bd3786\"],[0.5555555555555556,\"#d8576b\"],[0.6666666666666666,\"#ed7953\"],[0.7777777777777778,\"#fb9f3a\"],[0.8888888888888888,\"#fdca26\"],[1.0,\"#f0f921\"]]}],\"surface\":[{\"type\":\"surface\",\"colorbar\":{\"outlinewidth\":0,\"ticks\":\"\"},\"colorscale\":[[0.0,\"#0d0887\"],[0.1111111111111111,\"#46039f\"],[0.2222222222222222,\"#7201a8\"],[0.3333333333333333,\"#9c179e\"],[0.4444444444444444,\"#bd3786\"],[0.5555555555555556,\"#d8576b\"],[0.6666666666666666,\"#ed7953\"],[0.7777777777777778,\"#fb9f3a\"],[0.8888888888888888,\"#fdca26\"],[1.0,\"#f0f921\"]]}],\"mesh3d\":[{\"type\":\"mesh3d\",\"colorbar\":{\"outlinewidth\":0,\"ticks\":\"\"}}],\"scatter\":[{\"fillpattern\":{\"fillmode\":\"overlay\",\"size\":10,\"solidity\":0.2},\"type\":\"scatter\"}],\"parcoords\":[{\"type\":\"parcoords\",\"line\":{\"colorbar\":{\"outlinewidth\":0,\"ticks\":\"\"}}}],\"scatterpolargl\":[{\"type\":\"scatterpolargl\",\"marker\":{\"colorbar\":{\"outlinewidth\":0,\"ticks\":\"\"}}}],\"bar\":[{\"error_x\":{\"color\":\"#2a3f5f\"},\"error_y\":{\"color\":\"#2a3f5f\"},\"marker\":{\"line\":{\"color\":\"#E5ECF6\",\"width\":0.5},\"pattern\":{\"fillmode\":\"overlay\",\"size\":10,\"solidity\":0.2}},\"type\":\"bar\"}],\"scattergeo\":[{\"type\":\"scattergeo\",\"marker\":{\"colorbar\":{\"outlinewidth\":0,\"ticks\":\"\"}}}],\"scatterpolar\":[{\"type\":\"scatterpolar\",\"marker\":{\"colorbar\":{\"outlinewidth\":0,\"ticks\":\"\"}}}],\"histogram\":[{\"marker\":{\"pattern\":{\"fillmode\":\"overlay\",\"size\":10,\"solidity\":0.2}},\"type\":\"histogram\"}],\"scattergl\":[{\"type\":\"scattergl\",\"marker\":{\"colorbar\":{\"outlinewidth\":0,\"ticks\":\"\"}}}],\"scatter3d\":[{\"type\":\"scatter3d\",\"line\":{\"colorbar\":{\"outlinewidth\":0,\"ticks\":\"\"}},\"marker\":{\"colorbar\":{\"outlinewidth\":0,\"ticks\":\"\"}}}],\"scattermapbox\":[{\"type\":\"scattermapbox\",\"marker\":{\"colorbar\":{\"outlinewidth\":0,\"ticks\":\"\"}}}],\"scatterternary\":[{\"type\":\"scatterternary\",\"marker\":{\"colorbar\":{\"outlinewidth\":0,\"ticks\":\"\"}}}],\"scattercarpet\":[{\"type\":\"scattercarpet\",\"marker\":{\"colorbar\":{\"outlinewidth\":0,\"ticks\":\"\"}}}],\"carpet\":[{\"aaxis\":{\"endlinecolor\":\"#2a3f5f\",\"gridcolor\":\"white\",\"linecolor\":\"white\",\"minorgridcolor\":\"white\",\"startlinecolor\":\"#2a3f5f\"},\"baxis\":{\"endlinecolor\":\"#2a3f5f\",\"gridcolor\":\"white\",\"linecolor\":\"white\",\"minorgridcolor\":\"white\",\"startlinecolor\":\"#2a3f5f\"},\"type\":\"carpet\"}],\"table\":[{\"cells\":{\"fill\":{\"color\":\"#EBF0F8\"},\"line\":{\"color\":\"white\"}},\"header\":{\"fill\":{\"color\":\"#C8D4E3\"},\"line\":{\"color\":\"white\"}},\"type\":\"table\"}],\"barpolar\":[{\"marker\":{\"line\":{\"color\":\"#E5ECF6\",\"width\":0.5},\"pattern\":{\"fillmode\":\"overlay\",\"size\":10,\"solidity\":0.2}},\"type\":\"barpolar\"}],\"pie\":[{\"automargin\":true,\"type\":\"pie\"}]},\"layout\":{\"autotypenumbers\":\"strict\",\"colorway\":[\"#636efa\",\"#EF553B\",\"#00cc96\",\"#ab63fa\",\"#FFA15A\",\"#19d3f3\",\"#FF6692\",\"#B6E880\",\"#FF97FF\",\"#FECB52\"],\"font\":{\"color\":\"#2a3f5f\"},\"hovermode\":\"closest\",\"hoverlabel\":{\"align\":\"left\"},\"paper_bgcolor\":\"white\",\"plot_bgcolor\":\"#E5ECF6\",\"polar\":{\"bgcolor\":\"#E5ECF6\",\"angularaxis\":{\"gridcolor\":\"white\",\"linecolor\":\"white\",\"ticks\":\"\"},\"radialaxis\":{\"gridcolor\":\"white\",\"linecolor\":\"white\",\"ticks\":\"\"}},\"ternary\":{\"bgcolor\":\"#E5ECF6\",\"aaxis\":{\"gridcolor\":\"white\",\"linecolor\":\"white\",\"ticks\":\"\"},\"baxis\":{\"gridcolor\":\"white\",\"linecolor\":\"white\",\"ticks\":\"\"},\"caxis\":{\"gridcolor\":\"white\",\"linecolor\":\"white\",\"ticks\":\"\"}},\"coloraxis\":{\"colorbar\":{\"outlinewidth\":0,\"ticks\":\"\"}},\"colorscale\":{\"sequential\":[[0.0,\"#0d0887\"],[0.1111111111111111,\"#46039f\"],[0.2222222222222222,\"#7201a8\"],[0.3333333333333333,\"#9c179e\"],[0.4444444444444444,\"#bd3786\"],[0.5555555555555556,\"#d8576b\"],[0.6666666666666666,\"#ed7953\"],[0.7777777777777778,\"#fb9f3a\"],[0.8888888888888888,\"#fdca26\"],[1.0,\"#f0f921\"]],\"sequentialminus\":[[0.0,\"#0d0887\"],[0.1111111111111111,\"#46039f\"],[0.2222222222222222,\"#7201a8\"],[0.3333333333333333,\"#9c179e\"],[0.4444444444444444,\"#bd3786\"],[0.5555555555555556,\"#d8576b\"],[0.6666666666666666,\"#ed7953\"],[0.7777777777777778,\"#fb9f3a\"],[0.8888888888888888,\"#fdca26\"],[1.0,\"#f0f921\"]],\"diverging\":[[0,\"#8e0152\"],[0.1,\"#c51b7d\"],[0.2,\"#de77ae\"],[0.3,\"#f1b6da\"],[0.4,\"#fde0ef\"],[0.5,\"#f7f7f7\"],[0.6,\"#e6f5d0\"],[0.7,\"#b8e186\"],[0.8,\"#7fbc41\"],[0.9,\"#4d9221\"],[1,\"#276419\"]]},\"xaxis\":{\"gridcolor\":\"white\",\"linecolor\":\"white\",\"ticks\":\"\",\"title\":{\"standoff\":15},\"zerolinecolor\":\"white\",\"automargin\":true,\"zerolinewidth\":2},\"yaxis\":{\"gridcolor\":\"white\",\"linecolor\":\"white\",\"ticks\":\"\",\"title\":{\"standoff\":15},\"zerolinecolor\":\"white\",\"automargin\":true,\"zerolinewidth\":2},\"scene\":{\"xaxis\":{\"backgroundcolor\":\"#E5ECF6\",\"gridcolor\":\"white\",\"linecolor\":\"white\",\"showbackground\":true,\"ticks\":\"\",\"zerolinecolor\":\"white\",\"gridwidth\":2},\"yaxis\":{\"backgroundcolor\":\"#E5ECF6\",\"gridcolor\":\"white\",\"linecolor\":\"white\",\"showbackground\":true,\"ticks\":\"\",\"zerolinecolor\":\"white\",\"gridwidth\":2},\"zaxis\":{\"backgroundcolor\":\"#E5ECF6\",\"gridcolor\":\"white\",\"linecolor\":\"white\",\"showbackground\":true,\"ticks\":\"\",\"zerolinecolor\":\"white\",\"gridwidth\":2}},\"shapedefaults\":{\"line\":{\"color\":\"#2a3f5f\"}},\"annotationdefaults\":{\"arrowcolor\":\"#2a3f5f\",\"arrowhead\":0,\"arrowwidth\":1},\"geo\":{\"bgcolor\":\"white\",\"landcolor\":\"#E5ECF6\",\"subunitcolor\":\"white\",\"showland\":true,\"showlakes\":true,\"lakecolor\":\"white\"},\"title\":{\"x\":0.05},\"mapbox\":{\"style\":\"light\"}}},\"geo\":{\"domain\":{\"x\":[0.0,1.0],\"y\":[0.0,1.0]},\"center\":{}},\"legend\":{\"title\":{\"text\":\"Election Type\"},\"tracegroupgap\":0},\"title\":{\"text\":\"Wide-Form Input, relabelled\"}},                        {\"responsive\": true}                    ).then(function(){\n",
       "                            \n",
       "var gd = document.getElementById('ebaa94da-e0f8-4627-9e79-1eb33d089629');\n",
       "var x = new MutationObserver(function (mutations, observer) {{\n",
       "        var display = window.getComputedStyle(gd).display;\n",
       "        if (!display || display === 'none') {{\n",
       "            console.log([gd, 'removed!']);\n",
       "            Plotly.purge(gd);\n",
       "            observer.disconnect();\n",
       "        }}\n",
       "}});\n",
       "\n",
       "// Listen for the removal of the full notebook cells\n",
       "var notebookContainer = gd.closest('#notebook-container');\n",
       "if (notebookContainer) {{\n",
       "    x.observe(notebookContainer, {childList: true});\n",
       "}}\n",
       "\n",
       "// Listen for the clearing of the current output cell\n",
       "var outputEl = gd.closest('.output');\n",
       "if (outputEl) {{\n",
       "    x.observe(outputEl, {childList: true});\n",
       "}}\n",
       "\n",
       "                        })                };                });            </script>        </div>"
      ]
     },
     "metadata": {},
     "output_type": "display_data"
    }
   ],
   "source": [
    "def plotPredictions(X_pred, y_pred):\n",
    "    fig = px.choropleth(locations=X_pred,\n",
    "     locationmode=\"country names\",\n",
    "    color=y_pred,\n",
    "     title=\"Wide-Form Input, relabelled\",\n",
    "    labels={\"color\": \"Election Type\"}\n",
    "     )\n",
    "    fig.show()\n",
    "    \n",
    "plotPredictions(X_pred, y_pred)"
   ]
  }
 ],
 "metadata": {
  "kernelspec": {
   "display_name": "Python 3 (ipykernel)",
   "language": "python",
   "name": "python3"
  },
  "language_info": {
   "codemirror_mode": {
    "name": "ipython",
    "version": 3
   },
   "file_extension": ".py",
   "mimetype": "text/x-python",
   "name": "python",
   "nbconvert_exporter": "python",
   "pygments_lexer": "ipython3",
   "version": "3.9.7"
  }
 },
 "nbformat": 4,
 "nbformat_minor": 5
}
