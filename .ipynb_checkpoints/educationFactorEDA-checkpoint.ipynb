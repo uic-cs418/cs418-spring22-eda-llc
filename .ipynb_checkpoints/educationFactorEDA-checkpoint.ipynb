{
 "cells": [
  {
   "cell_type": "markdown",
   "id": "1b80f0c6",
   "metadata": {},
   "source": [
    "## EDA For Literacy Rate Affecting The Status Of The Countries\n"
   ]
  },
  {
   "cell_type": "code",
   "execution_count": 21,
   "id": "3d3a39c0",
   "metadata": {},
   "outputs": [],
   "source": [
    "import pandas as pd\n",
    "import seaborn as sns\n",
    "import numpy as np\n",
    "import matplotlib.pyplot as plt\n",
    "import sklearn\n",
    "import seaborn as sns;"
   ]
  },
  {
   "cell_type": "markdown",
   "id": "aed8c301",
   "metadata": {},
   "source": [
    "## Initial Exploration of Literacy Rate Dataset"
   ]
  },
  {
   "cell_type": "markdown",
   "id": "2b841739",
   "metadata": {},
   "source": [
    "Imports and cleans the Literacy Rate Dataset for Time Period = 2018"
   ]
  },
  {
   "cell_type": "code",
   "execution_count": 22,
   "id": "e6a390d6",
   "metadata": {},
   "outputs": [
    {
     "data": {
      "text/html": [
       "<div>\n",
       "<style scoped>\n",
       "    .dataframe tbody tr th:only-of-type {\n",
       "        vertical-align: middle;\n",
       "    }\n",
       "\n",
       "    .dataframe tbody tr th {\n",
       "        vertical-align: top;\n",
       "    }\n",
       "\n",
       "    .dataframe thead th {\n",
       "        text-align: right;\n",
       "    }\n",
       "</style>\n",
       "<table border=\"1\" class=\"dataframe\">\n",
       "  <thead>\n",
       "    <tr style=\"text-align: right;\">\n",
       "      <th></th>\n",
       "      <th>ISO3</th>\n",
       "      <th>Country/Territory</th>\n",
       "      <th>Region_UNICEF</th>\n",
       "      <th>Sub-region</th>\n",
       "      <th>Development Regions</th>\n",
       "      <th>Total_LiteracyRate</th>\n",
       "      <th>Time period</th>\n",
       "    </tr>\n",
       "  </thead>\n",
       "  <tbody>\n",
       "    <tr>\n",
       "      <th>0</th>\n",
       "      <td>AFG</td>\n",
       "      <td>Afghanistan</td>\n",
       "      <td>SA</td>\n",
       "      <td>SA</td>\n",
       "      <td>Least Developed</td>\n",
       "      <td>65.420547</td>\n",
       "      <td>2018</td>\n",
       "    </tr>\n",
       "    <tr>\n",
       "      <th>1</th>\n",
       "      <td>ALB</td>\n",
       "      <td>Albania</td>\n",
       "      <td>ECA</td>\n",
       "      <td>EECA</td>\n",
       "      <td>More Developed</td>\n",
       "      <td>99.330002</td>\n",
       "      <td>2018</td>\n",
       "    </tr>\n",
       "    <tr>\n",
       "      <th>2</th>\n",
       "      <td>DZA</td>\n",
       "      <td>Algeria</td>\n",
       "      <td>MENA</td>\n",
       "      <td>MENA</td>\n",
       "      <td>Less Developed</td>\n",
       "      <td>97.426521</td>\n",
       "      <td>2018</td>\n",
       "    </tr>\n",
       "    <tr>\n",
       "      <th>7</th>\n",
       "      <td>ARG</td>\n",
       "      <td>Argentina</td>\n",
       "      <td>LAC</td>\n",
       "      <td>LAC</td>\n",
       "      <td>Less Developed</td>\n",
       "      <td>99.505524</td>\n",
       "      <td>2018</td>\n",
       "    </tr>\n",
       "    <tr>\n",
       "      <th>13</th>\n",
       "      <td>BHR</td>\n",
       "      <td>Bahrain</td>\n",
       "      <td>MENA</td>\n",
       "      <td>MENA</td>\n",
       "      <td>Less Developed</td>\n",
       "      <td>99.687202</td>\n",
       "      <td>2018</td>\n",
       "    </tr>\n",
       "  </tbody>\n",
       "</table>\n",
       "</div>"
      ],
      "text/plain": [
       "   ISO3 Country/Territory Region_UNICEF Sub-region Development Regions  \\\n",
       "0   AFG       Afghanistan            SA         SA     Least Developed   \n",
       "1   ALB           Albania           ECA       EECA      More Developed   \n",
       "2   DZA           Algeria          MENA       MENA      Less Developed   \n",
       "7   ARG         Argentina           LAC        LAC      Less Developed   \n",
       "13  BHR           Bahrain          MENA       MENA      Less Developed   \n",
       "\n",
       "    Total_LiteracyRate Time period  \n",
       "0            65.420547        2018  \n",
       "1            99.330002        2018  \n",
       "2            97.426521        2018  \n",
       "7            99.505524        2018  \n",
       "13           99.687202        2018  "
      ]
     },
     "execution_count": 22,
     "metadata": {},
     "output_type": "execute_result"
    }
   ],
   "source": [
    "edu = pd.read_excel(\"Literacy-rate_2021-1.xlsx\", sheet_name = 2, nrows = 203, header = 0)\n",
    "# Cleaning the data by dropping some columns\n",
    "edu = edu.drop(columns = ['Gender','Source'])\n",
    "edu = edu.drop([0])\n",
    "edu = edu.drop(columns=edu.columns[6])\n",
    "# Renaming column names\n",
    "edu = edu.rename(columns={\"Unnamed: 9\": \"Time period\"})\n",
    "edu = edu.rename(columns={\"Region\": \"Region_UNICEF\"})\n",
    "edu = edu.rename(columns={\"Total\": \"Total_LiteracyRate\"})\n",
    "edu = edu.reset_index(drop=True)\n",
    "# Cleaning the data by dropping the countries marked as \"Not Classified\" in Development Regions\n",
    "edu = edu[edu['Development Regions'] != 'Not Classified']\n",
    "edu = edu.dropna()\n",
    "edu = edu.rename(columns={\"Countries and areas\": \"Country/Territory\"})\n",
    "edu.head()"
   ]
  },
  {
   "cell_type": "markdown",
   "id": "329555c0",
   "metadata": {},
   "source": [
    "##### Plot barplot to the number of different Development Regions and scatterplot the mean Literacy Rate for each Region."
   ]
  },
  {
   "cell_type": "code",
   "execution_count": 23,
   "id": "78a6a9b3",
   "metadata": {},
   "outputs": [
    {
     "name": "stdout",
     "output_type": "stream",
     "text": [
      "Less Developed     46\n",
      "Least Developed    20\n",
      "More Developed     12\n",
      "Name: Development Regions, dtype: int64\n"
     ]
    },
    {
     "data": {
      "image/png": "[encoded data removed]",
      "text/plain": [
       "<Figure size 576x432 with 2 Axes>"
      ]
     },
     "metadata": {},
     "output_type": "display_data"
    }
   ],
   "source": [
    "print(edu['Development Regions'].value_counts())\n",
    "\n",
    "edu_grp = edu.groupby(['Region_UNICEF','Development Regions']).agg(number_of_countries = ('Country/Territory','count'))\n",
    "edu_grp = edu_grp.reset_index()\n",
    "\n",
    "region_label = ['East Asia and the Pacific', 'Europe and Central Asia', 'Latin America and the Caribbean', \n",
    "                'Middle East and North Africa', 'South Asia', 'Sub-Saharan Africa']\n",
    "\n",
    "fig, ax1 = plt.subplots(figsize=(8,6))\n",
    "\n",
    "edu_grp2 = edu.groupby(['Region_UNICEF']).agg(literacy_rate = ('Total_LiteracyRate','mean'))\n",
    "sns.lineplot(data = edu_grp2['literacy_rate'], marker='o', sort = False, ax=ax1)\n",
    "ax2 = ax1.twinx()\n",
    "\n",
    "ax2 = sns.barplot(data=edu_grp, x='Region_UNICEF', y='number_of_countries', hue = 'Development Regions', alpha=0.5, ax=ax2)\n",
    "ax2 = ax2.set(title = \"Relation Between Total # Of Countries and Literacy Rate for Each Region\")\n"
   ]
  },
  {
   "cell_type": "markdown",
   "id": "9652fcfd",
   "metadata": {},
   "source": [
    "### Import and clean All Data FIW To Compare The Status of the Countries"
   ]
  },
  {
   "cell_type": "code",
   "execution_count": 25,
   "id": "a70a3a87",
   "metadata": {
    "scrolled": false
   },
   "outputs": [
    {
     "data": {
      "text/html": [
       "<div>\n",
       "<style scoped>\n",
       "    .dataframe tbody tr th:only-of-type {\n",
       "        vertical-align: middle;\n",
       "    }\n",
       "\n",
       "    .dataframe tbody tr th {\n",
       "        vertical-align: top;\n",
       "    }\n",
       "\n",
       "    .dataframe thead th {\n",
       "        text-align: right;\n",
       "    }\n",
       "</style>\n",
       "<table border=\"1\" class=\"dataframe\">\n",
       "  <thead>\n",
       "    <tr style=\"text-align: right;\">\n",
       "      <th></th>\n",
       "      <th>Country/Territory</th>\n",
       "      <th>Region</th>\n",
       "      <th>C/T</th>\n",
       "      <th>Edition</th>\n",
       "      <th>Status</th>\n",
       "      <th>PR rating</th>\n",
       "      <th>CL rating</th>\n",
       "      <th>Total</th>\n",
       "    </tr>\n",
       "  </thead>\n",
       "  <tbody>\n",
       "    <tr>\n",
       "      <th>0</th>\n",
       "      <td>Abkhazia</td>\n",
       "      <td>Eurasia</td>\n",
       "      <td>t</td>\n",
       "      <td>2018</td>\n",
       "      <td>PF</td>\n",
       "      <td>4</td>\n",
       "      <td>5</td>\n",
       "      <td>41</td>\n",
       "    </tr>\n",
       "    <tr>\n",
       "      <th>1</th>\n",
       "      <td>Afghanistan</td>\n",
       "      <td>Asia</td>\n",
       "      <td>c</td>\n",
       "      <td>2018</td>\n",
       "      <td>NF</td>\n",
       "      <td>5</td>\n",
       "      <td>6</td>\n",
       "      <td>26</td>\n",
       "    </tr>\n",
       "    <tr>\n",
       "      <th>2</th>\n",
       "      <td>Albania</td>\n",
       "      <td>Europe</td>\n",
       "      <td>c</td>\n",
       "      <td>2018</td>\n",
       "      <td>PF</td>\n",
       "      <td>3</td>\n",
       "      <td>3</td>\n",
       "      <td>68</td>\n",
       "    </tr>\n",
       "    <tr>\n",
       "      <th>3</th>\n",
       "      <td>Algeria</td>\n",
       "      <td>Africa</td>\n",
       "      <td>c</td>\n",
       "      <td>2018</td>\n",
       "      <td>NF</td>\n",
       "      <td>6</td>\n",
       "      <td>5</td>\n",
       "      <td>35</td>\n",
       "    </tr>\n",
       "    <tr>\n",
       "      <th>4</th>\n",
       "      <td>Andorra</td>\n",
       "      <td>Europe</td>\n",
       "      <td>c</td>\n",
       "      <td>2018</td>\n",
       "      <td>F</td>\n",
       "      <td>1</td>\n",
       "      <td>1</td>\n",
       "      <td>96</td>\n",
       "    </tr>\n",
       "  </tbody>\n",
       "</table>\n",
       "</div>"
      ],
      "text/plain": [
       "  Country/Territory   Region C/T  Edition Status  PR rating  CL rating  Total\n",
       "0          Abkhazia  Eurasia   t     2018     PF          4          5     41\n",
       "1       Afghanistan     Asia   c     2018     NF          5          6     26\n",
       "2           Albania   Europe   c     2018     PF          3          3     68\n",
       "3           Algeria   Africa   c     2018     NF          6          5     35\n",
       "4           Andorra   Europe   c     2018      F          1          1     96"
      ]
     },
     "execution_count": 25,
     "metadata": {},
     "output_type": "execute_result"
    }
   ],
   "source": [
    "allData = pd.read_excel(\"All_data_FIW_2013-2022.xlsx\", sheet_name = 1, header=1)\n",
    "allData = allData[allData['Edition'] == 2018]\n",
    "allData = allData.reset_index(drop = True)\n",
    "allData = allData.drop(columns=allData.columns[7:-1])\n",
    "allData.head()"
   ]
  },
  {
   "cell_type": "markdown",
   "id": "7ad1b0a5",
   "metadata": {},
   "source": [
    "Number of Countries Free, Partially Free and Not Free for 2018 Edition"
   ]
  },
  {
   "cell_type": "code",
   "execution_count": 26,
   "id": "35040cda",
   "metadata": {},
   "outputs": [
    {
     "data": {
      "text/plain": [
       "F     89\n",
       "PF    63\n",
       "NF    57\n",
       "Name: Status, dtype: int64"
      ]
     },
     "execution_count": 26,
     "metadata": {},
     "output_type": "execute_result"
    }
   ],
   "source": [
    "allData['Status'].value_counts()"
   ]
  },
  {
   "cell_type": "markdown",
   "id": "3bcdf250",
   "metadata": {},
   "source": [
    "## EDA Visualizations Comparing the Status and Literacy Rate\n"
   ]
  },
  {
   "cell_type": "markdown",
   "id": "8507f31f",
   "metadata": {},
   "source": [
    "Merge the two dataset on the countries and clean the data by dropping the NA values."
   ]
  },
  {
   "cell_type": "code",
   "execution_count": 27,
   "id": "4b95ebea",
   "metadata": {},
   "outputs": [
    {
     "data": {
      "text/html": [
       "<div>\n",
       "<style scoped>\n",
       "    .dataframe tbody tr th:only-of-type {\n",
       "        vertical-align: middle;\n",
       "    }\n",
       "\n",
       "    .dataframe tbody tr th {\n",
       "        vertical-align: top;\n",
       "    }\n",
       "\n",
       "    .dataframe thead th {\n",
       "        text-align: right;\n",
       "    }\n",
       "</style>\n",
       "<table border=\"1\" class=\"dataframe\">\n",
       "  <thead>\n",
       "    <tr style=\"text-align: right;\">\n",
       "      <th></th>\n",
       "      <th>Country/Territory</th>\n",
       "      <th>Region</th>\n",
       "      <th>C/T</th>\n",
       "      <th>Edition</th>\n",
       "      <th>Status</th>\n",
       "      <th>PR rating</th>\n",
       "      <th>CL rating</th>\n",
       "      <th>Total</th>\n",
       "      <th>ISO3</th>\n",
       "      <th>Region_UNICEF</th>\n",
       "      <th>Sub-region</th>\n",
       "      <th>Development Regions</th>\n",
       "      <th>Total_LiteracyRate</th>\n",
       "      <th>Time period</th>\n",
       "    </tr>\n",
       "  </thead>\n",
       "  <tbody>\n",
       "    <tr>\n",
       "      <th>1</th>\n",
       "      <td>Afghanistan</td>\n",
       "      <td>Asia</td>\n",
       "      <td>c</td>\n",
       "      <td>2018</td>\n",
       "      <td>NF</td>\n",
       "      <td>5</td>\n",
       "      <td>6</td>\n",
       "      <td>26</td>\n",
       "      <td>AFG</td>\n",
       "      <td>SA</td>\n",
       "      <td>SA</td>\n",
       "      <td>Least Developed</td>\n",
       "      <td>65.420547</td>\n",
       "      <td>2018</td>\n",
       "    </tr>\n",
       "    <tr>\n",
       "      <th>2</th>\n",
       "      <td>Albania</td>\n",
       "      <td>Europe</td>\n",
       "      <td>c</td>\n",
       "      <td>2018</td>\n",
       "      <td>PF</td>\n",
       "      <td>3</td>\n",
       "      <td>3</td>\n",
       "      <td>68</td>\n",
       "      <td>ALB</td>\n",
       "      <td>ECA</td>\n",
       "      <td>EECA</td>\n",
       "      <td>More Developed</td>\n",
       "      <td>99.330002</td>\n",
       "      <td>2018</td>\n",
       "    </tr>\n",
       "    <tr>\n",
       "      <th>3</th>\n",
       "      <td>Algeria</td>\n",
       "      <td>Africa</td>\n",
       "      <td>c</td>\n",
       "      <td>2018</td>\n",
       "      <td>NF</td>\n",
       "      <td>6</td>\n",
       "      <td>5</td>\n",
       "      <td>35</td>\n",
       "      <td>DZA</td>\n",
       "      <td>MENA</td>\n",
       "      <td>MENA</td>\n",
       "      <td>Less Developed</td>\n",
       "      <td>97.426521</td>\n",
       "      <td>2018</td>\n",
       "    </tr>\n",
       "    <tr>\n",
       "      <th>7</th>\n",
       "      <td>Argentina</td>\n",
       "      <td>Americas</td>\n",
       "      <td>c</td>\n",
       "      <td>2018</td>\n",
       "      <td>F</td>\n",
       "      <td>2</td>\n",
       "      <td>2</td>\n",
       "      <td>83</td>\n",
       "      <td>ARG</td>\n",
       "      <td>LAC</td>\n",
       "      <td>LAC</td>\n",
       "      <td>Less Developed</td>\n",
       "      <td>99.505524</td>\n",
       "      <td>2018</td>\n",
       "    </tr>\n",
       "    <tr>\n",
       "      <th>13</th>\n",
       "      <td>Bahrain</td>\n",
       "      <td>Middle East</td>\n",
       "      <td>c</td>\n",
       "      <td>2018</td>\n",
       "      <td>NF</td>\n",
       "      <td>7</td>\n",
       "      <td>6</td>\n",
       "      <td>12</td>\n",
       "      <td>BHR</td>\n",
       "      <td>MENA</td>\n",
       "      <td>MENA</td>\n",
       "      <td>Less Developed</td>\n",
       "      <td>99.687202</td>\n",
       "      <td>2018</td>\n",
       "    </tr>\n",
       "  </tbody>\n",
       "</table>\n",
       "</div>"
      ],
      "text/plain": [
       "   Country/Territory       Region C/T  Edition Status  PR rating  CL rating  \\\n",
       "1        Afghanistan         Asia   c     2018     NF          5          6   \n",
       "2            Albania       Europe   c     2018     PF          3          3   \n",
       "3            Algeria       Africa   c     2018     NF          6          5   \n",
       "7          Argentina     Americas   c     2018      F          2          2   \n",
       "13           Bahrain  Middle East   c     2018     NF          7          6   \n",
       "\n",
       "    Total ISO3 Region_UNICEF Sub-region Development Regions  \\\n",
       "1      26  AFG            SA         SA     Least Developed   \n",
       "2      68  ALB           ECA       EECA      More Developed   \n",
       "3      35  DZA          MENA       MENA      Less Developed   \n",
       "7      83  ARG           LAC        LAC      Less Developed   \n",
       "13     12  BHR          MENA       MENA      Less Developed   \n",
       "\n",
       "    Total_LiteracyRate Time period  \n",
       "1            65.420547        2018  \n",
       "2            99.330002        2018  \n",
       "3            97.426521        2018  \n",
       "7            99.505524        2018  \n",
       "13           99.687202        2018  "
      ]
     },
     "execution_count": 27,
     "metadata": {},
     "output_type": "execute_result"
    }
   ],
   "source": [
    "allData_merged = allData.merge(edu, how='left', on='Country/Territory')\n",
    "allData_merged = allData_merged.dropna()\n",
    "allData_merged.head()"
   ]
  },
  {
   "cell_type": "markdown",
   "id": "684dac94",
   "metadata": {},
   "source": [
    "### Relation of the Literacy Rate for Each Region"
   ]
  },
  {
   "cell_type": "markdown",
   "id": "0066aed7",
   "metadata": {},
   "source": [
    "Plot a bargraph for the total number of countries in each region based on the status of the country.\n",
    "Status: F -> Free\n",
    "        NF -> Not Free\n",
    "        PF -> Partially Free"
   ]
  },
  {
   "cell_type": "code",
   "execution_count": 28,
   "id": "2c0e15c3",
   "metadata": {},
   "outputs": [
    {
     "data": {
      "image/png": "[encoded data removed]",
      "text/plain": [
       "<Figure size 360x432 with 1 Axes>"
      ]
     },
     "metadata": {},
     "output_type": "display_data"
    }
   ],
   "source": [
    "allData_grp = allData_merged.groupby(['Region','Status']).count()\n",
    "allData_grp = allData_grp.reset_index()\n",
    "\n",
    "ax = sns.barplot(data=allData_grp, x='Region', y='Total_LiteracyRate', hue='Status', palette='Set2')\n",
    "ax = ax.set(title = \"Total Literacy Rate for Each Region\")\n",
    "ax = sns.set(rc={'figure.figsize':(8,6)})\n"
   ]
  },
  {
   "cell_type": "markdown",
   "id": "661576a7",
   "metadata": {},
   "source": [
    "From the barplot, we can see that there is a direct relationship between the literacy rate and status of the country for each region. A more number of free countries in the region has a higher literacy rate. "
   ]
  },
  {
   "cell_type": "markdown",
   "id": "9953303c",
   "metadata": {},
   "source": [
    "### Number of Countries for Each Status in Each Development Regions"
   ]
  },
  {
   "cell_type": "markdown",
   "id": "6697ee74",
   "metadata": {},
   "source": [
    "Plots barchart for finding the realtionship between the development regions and status of the region.\n",
    "Calculates the total number of countries in each development regions for each status."
   ]
  },
  {
   "cell_type": "code",
   "execution_count": 29,
   "id": "a4cecd7e",
   "metadata": {},
   "outputs": [
    {
     "data": {
      "image/png": "[encoded data removed]",
      "text/plain": [
       "<Figure size 576x432 with 1 Axes>"
      ]
     },
     "metadata": {},
     "output_type": "display_data"
    }
   ],
   "source": [
    "allData_grp2 = allData_merged.groupby(['Development Regions','Status']).agg(val = ('Country/Territory','count'))\n",
    "allData_grp2 = allData_grp2.reset_index()\n",
    "\n",
    "ax = sns.barplot(data=allData_grp2, x='Development Regions', y='val', hue='Status')\n",
    "ax = ax.set(ylabel = \"Total Number of Countries\", title = \"Number of Countries For Each Status based on Development Regions\")\n",
    "ax = sns.set(rc={'figure.figsize':(5,6)})"
   ]
  },
  {
   "cell_type": "markdown",
   "id": "5c4fa35e",
   "metadata": {},
   "source": [
    "More Developed Country, we see that the total number of free countries is more than the other status.\n",
    "To the contray, analysing the Less and Least Developed Countries, the number of countries not free is more than in Less Developed than in Least Developed.\n"
   ]
  },
  {
   "cell_type": "markdown",
   "id": "501f35b8",
   "metadata": {},
   "source": [
    "### Machine Learning"
   ]
  },
  {
   "cell_type": "code",
   "execution_count": 65,
   "id": "3b13d8c3",
   "metadata": {},
   "outputs": [],
   "source": [
    "import sklearn\n",
    "from sklearn.model_selection import train_test_split\n",
    "from sklearn.dummy import DummyClassifier\n",
    "from sklearn.metrics import confusion_matrix\n",
    "import sklearn.metrics as metrics\n",
    "from sklearn.svm import SVC\n",
    "from sklearn.neighbors import KNeighborsClassifier"
   ]
  },
  {
   "cell_type": "markdown",
   "id": "f2e2bf5e",
   "metadata": {},
   "source": [
    "Clean data set and save"
   ]
  },
  {
   "cell_type": "code",
   "execution_count": 66,
   "id": "b8b62004",
   "metadata": {
    "scrolled": true
   },
   "outputs": [
    {
     "data": {
      "text/html": [
       "<div>\n",
       "<style scoped>\n",
       "    .dataframe tbody tr th:only-of-type {\n",
       "        vertical-align: middle;\n",
       "    }\n",
       "\n",
       "    .dataframe tbody tr th {\n",
       "        vertical-align: top;\n",
       "    }\n",
       "\n",
       "    .dataframe thead th {\n",
       "        text-align: right;\n",
       "    }\n",
       "</style>\n",
       "<table border=\"1\" class=\"dataframe\">\n",
       "  <thead>\n",
       "    <tr style=\"text-align: right;\">\n",
       "      <th></th>\n",
       "      <th>Country/Territory</th>\n",
       "      <th>Region</th>\n",
       "      <th>C/T</th>\n",
       "      <th>Edition</th>\n",
       "      <th>Status</th>\n",
       "      <th>A1</th>\n",
       "      <th>A2</th>\n",
       "      <th>A3</th>\n",
       "      <th>B1</th>\n",
       "      <th>B2</th>\n",
       "      <th>...</th>\n",
       "      <th>G2</th>\n",
       "      <th>G3</th>\n",
       "      <th>G4</th>\n",
       "      <th>Total</th>\n",
       "      <th>ISO3</th>\n",
       "      <th>Region_UNICEF</th>\n",
       "      <th>Sub-region</th>\n",
       "      <th>Development Regions</th>\n",
       "      <th>Total_LiteracyRate</th>\n",
       "      <th>Time period</th>\n",
       "    </tr>\n",
       "  </thead>\n",
       "  <tbody>\n",
       "    <tr>\n",
       "      <th>0</th>\n",
       "      <td>Afghanistan</td>\n",
       "      <td>Asia</td>\n",
       "      <td>c</td>\n",
       "      <td>2018.0</td>\n",
       "      <td>NF</td>\n",
       "      <td>1.0</td>\n",
       "      <td>0.0</td>\n",
       "      <td>1.0</td>\n",
       "      <td>2.0</td>\n",
       "      <td>2.0</td>\n",
       "      <td>...</td>\n",
       "      <td>1.0</td>\n",
       "      <td>0.0</td>\n",
       "      <td>1.0</td>\n",
       "      <td>26.0</td>\n",
       "      <td>AFG</td>\n",
       "      <td>SA</td>\n",
       "      <td>SA</td>\n",
       "      <td>Least Developed</td>\n",
       "      <td>65.420547</td>\n",
       "      <td>2018</td>\n",
       "    </tr>\n",
       "    <tr>\n",
       "      <th>1</th>\n",
       "      <td>Albania</td>\n",
       "      <td>Europe</td>\n",
       "      <td>c</td>\n",
       "      <td>2018.0</td>\n",
       "      <td>PF</td>\n",
       "      <td>3.0</td>\n",
       "      <td>3.0</td>\n",
       "      <td>2.0</td>\n",
       "      <td>3.0</td>\n",
       "      <td>4.0</td>\n",
       "      <td>...</td>\n",
       "      <td>2.0</td>\n",
       "      <td>2.0</td>\n",
       "      <td>2.0</td>\n",
       "      <td>68.0</td>\n",
       "      <td>ALB</td>\n",
       "      <td>ECA</td>\n",
       "      <td>EECA</td>\n",
       "      <td>More Developed</td>\n",
       "      <td>99.330002</td>\n",
       "      <td>2018</td>\n",
       "    </tr>\n",
       "    <tr>\n",
       "      <th>2</th>\n",
       "      <td>Algeria</td>\n",
       "      <td>Africa</td>\n",
       "      <td>c</td>\n",
       "      <td>2018.0</td>\n",
       "      <td>NF</td>\n",
       "      <td>1.0</td>\n",
       "      <td>1.0</td>\n",
       "      <td>1.0</td>\n",
       "      <td>1.0</td>\n",
       "      <td>1.0</td>\n",
       "      <td>...</td>\n",
       "      <td>2.0</td>\n",
       "      <td>2.0</td>\n",
       "      <td>1.0</td>\n",
       "      <td>35.0</td>\n",
       "      <td>DZA</td>\n",
       "      <td>MENA</td>\n",
       "      <td>MENA</td>\n",
       "      <td>Less Developed</td>\n",
       "      <td>97.426521</td>\n",
       "      <td>2018</td>\n",
       "    </tr>\n",
       "    <tr>\n",
       "      <th>3</th>\n",
       "      <td>Argentina</td>\n",
       "      <td>Americas</td>\n",
       "      <td>c</td>\n",
       "      <td>2018.0</td>\n",
       "      <td>F</td>\n",
       "      <td>4.0</td>\n",
       "      <td>4.0</td>\n",
       "      <td>3.0</td>\n",
       "      <td>4.0</td>\n",
       "      <td>3.0</td>\n",
       "      <td>...</td>\n",
       "      <td>3.0</td>\n",
       "      <td>4.0</td>\n",
       "      <td>3.0</td>\n",
       "      <td>83.0</td>\n",
       "      <td>ARG</td>\n",
       "      <td>LAC</td>\n",
       "      <td>LAC</td>\n",
       "      <td>Less Developed</td>\n",
       "      <td>99.505524</td>\n",
       "      <td>2018</td>\n",
       "    </tr>\n",
       "    <tr>\n",
       "      <th>4</th>\n",
       "      <td>Bahrain</td>\n",
       "      <td>Middle East</td>\n",
       "      <td>c</td>\n",
       "      <td>2018.0</td>\n",
       "      <td>NF</td>\n",
       "      <td>0.0</td>\n",
       "      <td>1.0</td>\n",
       "      <td>1.0</td>\n",
       "      <td>0.0</td>\n",
       "      <td>0.0</td>\n",
       "      <td>...</td>\n",
       "      <td>2.0</td>\n",
       "      <td>2.0</td>\n",
       "      <td>1.0</td>\n",
       "      <td>12.0</td>\n",
       "      <td>BHR</td>\n",
       "      <td>MENA</td>\n",
       "      <td>MENA</td>\n",
       "      <td>Less Developed</td>\n",
       "      <td>99.687202</td>\n",
       "      <td>2018</td>\n",
       "    </tr>\n",
       "  </tbody>\n",
       "</table>\n",
       "<p>5 rows × 38 columns</p>\n",
       "</div>"
      ],
      "text/plain": [
       "  Country/Territory       Region C/T  Edition Status   A1   A2   A3   B1   B2  \\\n",
       "0       Afghanistan         Asia   c   2018.0     NF  1.0  0.0  1.0  2.0  2.0   \n",
       "1           Albania       Europe   c   2018.0     PF  3.0  3.0  2.0  3.0  4.0   \n",
       "2           Algeria       Africa   c   2018.0     NF  1.0  1.0  1.0  1.0  1.0   \n",
       "3         Argentina     Americas   c   2018.0      F  4.0  4.0  3.0  4.0  3.0   \n",
       "4           Bahrain  Middle East   c   2018.0     NF  0.0  1.0  1.0  0.0  0.0   \n",
       "\n",
       "   ...   G2   G3   G4  Total  ISO3  Region_UNICEF  Sub-region  \\\n",
       "0  ...  1.0  0.0  1.0   26.0   AFG             SA          SA   \n",
       "1  ...  2.0  2.0  2.0   68.0   ALB            ECA        EECA   \n",
       "2  ...  2.0  2.0  1.0   35.0   DZA           MENA        MENA   \n",
       "3  ...  3.0  4.0  3.0   83.0   ARG            LAC         LAC   \n",
       "4  ...  2.0  2.0  1.0   12.0   BHR           MENA        MENA   \n",
       "\n",
       "   Development Regions  Total_LiteracyRate  Time period  \n",
       "0      Least Developed           65.420547         2018  \n",
       "1       More Developed           99.330002         2018  \n",
       "2       Less Developed           97.426521         2018  \n",
       "3       Less Developed           99.505524         2018  \n",
       "4       Less Developed           99.687202         2018  \n",
       "\n",
       "[5 rows x 38 columns]"
      ]
     },
     "execution_count": 66,
     "metadata": {},
     "output_type": "execute_result"
    }
   ],
   "source": [
    "allData2 = pd.read_excel(\"All_data_FIW_2013-2022.xlsx\", sheet_name = 1, header=1)\n",
    "allData2 = allData2[allData2['Edition'] == 2018]\n",
    "allData2 = allData2.drop(columns=allData2.columns[21:22])\n",
    "allData2 = allData2.reset_index(drop = True)\n",
    "\n",
    "allData_merged2 = allData2.merge(edu, how='right', on='Country/Territory')\n",
    "allData_merged2 = allData_merged2.dropna()\n",
    "allData_merged2 = allData_merged2.drop(['A', 'B', 'C', 'D', 'E', 'F', 'G', 'CL', 'PR', 'PR rating', 'CL rating'], axis=1)\n",
    "allData_merged2.head()"
   ]
  },
  {
   "cell_type": "markdown",
   "id": "c2fc5a85",
   "metadata": {},
   "source": [
    "Set X and Y for ml"
   ]
  },
  {
   "cell_type": "code",
   "execution_count": 67,
   "id": "9e3e8a9d",
   "metadata": {},
   "outputs": [],
   "source": [
    "X = allData_merged2[['Total','Total_LiteracyRate']]\n",
    "# X_train = X[X['Country/Territory'] < 'R'] \n",
    "y = allData_merged2[['Status']]\n",
    "X_train, X_test, y_train, y_test = train_test_split(X,y,random_state=42)\n",
    "X_train = pd.DataFrame(X_train)\n",
    "X_train = X_train.to_numpy()\n",
    "X_test = pd.DataFrame(X_test)"
   ]
  },
  {
   "cell_type": "code",
   "execution_count": 68,
   "id": "20f374b8",
   "metadata": {},
   "outputs": [
    {
     "name": "stdout",
     "output_type": "stream",
     "text": [
      "Baseline Classifier Accuracy: 0.2777777777777778\n"
     ]
    }
   ],
   "source": [
    "dummy = DummyClassifier()\n",
    "dummy.fit(X_train, y_train)\n",
    "y_pred = dummy.predict(X_test)\n",
    "print(\"Baseline Classifier Accuracy:\",metrics.accuracy_score(y_test, y_pred))"
   ]
  },
  {
   "cell_type": "code",
   "execution_count": 69,
   "id": "c9146dd1",
   "metadata": {},
   "outputs": [
    {
     "name": "stdout",
     "output_type": "stream",
     "text": [
      "SVM Accuracy: 0.9444444444444444\n"
     ]
    },
    {
     "name": "stderr",
     "output_type": "stream",
     "text": [
      "/Users/snigdhaghoshdastidar/opt/anaconda3/envs/cs418env/lib/python3.9/site-packages/sklearn/utils/validation.py:993: DataConversionWarning: A column-vector y was passed when a 1d array was expected. Please change the shape of y to (n_samples, ), for example using ravel().\n",
      "  y = column_or_1d(y, warn=True)\n",
      "/Users/snigdhaghoshdastidar/opt/anaconda3/envs/cs418env/lib/python3.9/site-packages/sklearn/base.py:443: UserWarning: X has feature names, but SVC was fitted without feature names\n",
      "  warnings.warn(\n"
     ]
    }
   ],
   "source": [
    "learn = SVC(kernel=\"linear\", gamma=\"auto\")\n",
    "learn.fit(X_train, y_train)\n",
    "y_pred = learn.predict(X_test)\n",
    "print(\"SVM Accuracy:\",metrics.accuracy_score(y_test, y_pred))"
   ]
  },
  {
   "cell_type": "code",
   "execution_count": 76,
   "id": "c945f379",
   "metadata": {},
   "outputs": [
    {
     "data": {
      "text/plain": [
       "array([[5, 0, 0],\n",
       "       [0, 6, 0],\n",
       "       [1, 0, 6]])"
      ]
     },
     "execution_count": 76,
     "metadata": {},
     "output_type": "execute_result"
    }
   ],
   "source": [
    "confusion_matrix(y_test, y_pred)"
   ]
  }
 ],
 "metadata": {
  "kernelspec": {
   "display_name": "Python 3 (ipykernel)",
   "language": "python",
   "name": "python3"
  },
  "language_info": {
   "codemirror_mode": {
    "name": "ipython",
    "version": 3
   },
   "file_extension": ".py",
   "mimetype": "text/x-python",
   "name": "python",
   "nbconvert_exporter": "python",
   "pygments_lexer": "ipython3",
   "version": "3.9.7"
  }
 },
 "nbformat": 4,
 "nbformat_minor": 5
}
