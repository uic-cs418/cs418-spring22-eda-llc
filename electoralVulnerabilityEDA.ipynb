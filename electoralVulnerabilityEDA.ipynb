{
 "cells": [
  {
   "cell_type": "code",
   "execution_count": 4,
   "id": "62ffa5f5",
   "metadata": {},
   "outputs": [
    {
     "ename": "ModuleNotFoundError",
     "evalue": "No module named 'plotly'",
     "output_type": "error",
     "traceback": [
      "\u001b[0;31m---------------------------------------------------------------------------\u001b[0m",
      "\u001b[0;31mModuleNotFoundError\u001b[0m                       Traceback (most recent call last)",
      "\u001b[0;32m/var/folders/gx/nqqh_rw924l7b08y2726_zr80000gn/T/ipykernel_64419/437691660.py\u001b[0m in \u001b[0;36m<module>\u001b[0;34m\u001b[0m\n\u001b[1;32m      5\u001b[0m \u001b[0;32mimport\u001b[0m \u001b[0msklearn\u001b[0m\u001b[0;34m\u001b[0m\u001b[0;34m\u001b[0m\u001b[0m\n\u001b[1;32m      6\u001b[0m \u001b[0;32mimport\u001b[0m \u001b[0mseaborn\u001b[0m \u001b[0;32mas\u001b[0m \u001b[0msns\u001b[0m\u001b[0;34m;\u001b[0m \u001b[0msns\u001b[0m\u001b[0;34m.\u001b[0m\u001b[0mset_theme\u001b[0m\u001b[0;34m(\u001b[0m\u001b[0;34m)\u001b[0m\u001b[0;34m\u001b[0m\u001b[0;34m\u001b[0m\u001b[0m\n\u001b[0;32m----> 7\u001b[0;31m \u001b[0;32mimport\u001b[0m \u001b[0mplotly\u001b[0m \u001b[0;32mas\u001b[0m \u001b[0mpy\u001b[0m\u001b[0;34m\u001b[0m\u001b[0;34m\u001b[0m\u001b[0m\n\u001b[0m\u001b[1;32m      8\u001b[0m \u001b[0;32mimport\u001b[0m \u001b[0mplotly\u001b[0m\u001b[0;34m.\u001b[0m\u001b[0moffline\u001b[0m \u001b[0;32mas\u001b[0m \u001b[0mpyo\u001b[0m\u001b[0;34m\u001b[0m\u001b[0;34m\u001b[0m\u001b[0m\n\u001b[1;32m      9\u001b[0m \u001b[0;32mfrom\u001b[0m \u001b[0mplotly\u001b[0m\u001b[0;34m.\u001b[0m\u001b[0moffline\u001b[0m \u001b[0;32mimport\u001b[0m \u001b[0mdownload_plotlyjs\u001b[0m\u001b[0;34m,\u001b[0m\u001b[0minit_notebook_mode\u001b[0m\u001b[0;34m,\u001b[0m\u001b[0mplot\u001b[0m\u001b[0;34m,\u001b[0m\u001b[0miplot\u001b[0m\u001b[0;34m\u001b[0m\u001b[0;34m\u001b[0m\u001b[0m\n",
      "\u001b[0;31mModuleNotFoundError\u001b[0m: No module named 'plotly'"
     ]
    }
   ],
   "source": [
    "import pandas as pd\n",
    "import seaborn as sns\n",
    "import numpy as np\n",
    "import matplotlib.pyplot as plt\n",
    "import sklearn\n",
    "import seaborn as sns; sns.set_theme()\n",
    "import plotly as py\n",
    "import plotly.offline as pyo\n",
    "from plotly.offline import download_plotlyjs,init_notebook_mode,plot,iplot\n",
    "import plotly.graph_objs as go\n",
    "import plotly.express as px\n",
    "import plotly.io as pio\n",
    "init_notebook_mode(connected=True)\n",
    "%matplotlib inline "
   ]
  },
  {
   "cell_type": "code",
   "execution_count": null,
   "id": "38bf1943",
   "metadata": {},
   "outputs": [],
   "source": [
    "df = pd.read_excel('Election_Vulnerability_Index_downloadable_data 1.28.22.xlsx', sheet_name = 1, header=2)\n",
    "df"
   ]
  },
  {
   "cell_type": "code",
   "execution_count": null,
   "id": "42b80fba",
   "metadata": {},
   "outputs": [],
   "source": [
    "def plotElectionVulnerability():\n",
    "    fig = plt.figure(figsize=(8, 11.5))\n",
    "    subfigs = fig.subfigures(3, 1)\n",
    "\n",
    "    axsLeft = subfigs[0].subplots(1, 1, sharey=True)\n",
    "\n",
    "    data = df.groupby(['Region']).mean()\n",
    "    y_axis_labels = ['Vulnerability to internet disruptions','Blocking of platforms and websites', \"Online content removal\",\n",
    "                    'Disinformation and state control of online information', 'Laws criminalizing protected online activities',\n",
    "                    'Prosecutions for protected online activities', 'Extralegal punishment for protected online activities',\n",
    "                    'Cyberattacks against civic actors']\n",
    "    data = data[['A1', 'A2', 'A3', 'A4', 'A5', 'A6', 'A7', 'A8']]\n",
    "    data\n",
    "    ax = sns.heatmap(data.transpose(), annot=True, yticklabels=y_axis_labels)\n",
    "    ax.set_title('Digital Sphere of Different Regions')\n",
    "\n",
    "\n",
    "    axsLeft = subfigs[1].subplots(1, 1, sharey=True)\n",
    "    data = df.groupby(['Region']).mean()\n",
    "    y_axis_labels = ['Quality of most recent executive elections','Quality of most recent legislative elections', \"Quality of electoral laws and framework\",\n",
    "                    'Operating environment for political parties', 'Freedom and strength of political opposition',\n",
    "                    'Freedom from undue pressure on political choice ', 'Political equality and participation',\n",
    "                    'Government transparency and accountability']\n",
    "    data = data[['B1', 'B2', 'B3', 'B4', 'B5', 'B6', 'B7', 'B8']]\n",
    "    data\n",
    "    ax = sns.heatmap(data.transpose(),annot=True,  yticklabels=y_axis_labels)\n",
    "    ax.set_title('Electoral System and Political Participation of Different Regions')\n",
    "\n",
    "\n",
    "    axsLeft = subfigs[2].subplots(1, 1, sharey=True)\n",
    "    data = df.groupby(['Region']).mean()\n",
    "    y_axis_labels = ['Media Freedom','Free expression for private citizens', \"Freedom of assembly\",\n",
    "                    'Freedom for NGOs', 'Judicial independence',\n",
    "                    'Due process', 'Physical security',\n",
    "                    'Equal treatment and antidiscrimination','Freedom from forced ethnic change']\n",
    "    data = data[['C1', 'C2', 'C3', 'C4', 'C5', 'C6', 'C7', 'C8', 'C9']]\n",
    "    data\n",
    "    ax = sns.heatmap(data.transpose(),annot=True,  yticklabels=y_axis_labels)\n",
    "    ax.set_title('Human Rights of Different Regions')\n",
    "    plt.subplots_adjust(bottom=0.123)\n",
    "    plt.show()\n",
    "    \n",
    "plotElectionVulnerability()"
   ]
  },
  {
   "cell_type": "code",
   "execution_count": null,
   "id": "918efccb",
   "metadata": {},
   "outputs": [],
   "source": [
    "layout = dict(geo={'scope':'world'})"
   ]
  },
  {
   "cell_type": "code",
   "execution_count": null,
   "id": "55e4b661",
   "metadata": {},
   "outputs": [],
   "source": [
    "data = dict(\n",
    "type = 'choropleth',\n",
    "colorscale = 'Jet',\n",
    "locations = df['Country/Territory'],\n",
    "locationmode = \"country names\",\n",
    "z = df['Total'],\n",
    "text = df['Country/Territory'],\n",
    "colorbar = {'title' : 'Total Score'},\n",
    ")\n",
    "layout = dict(title = 'Total Score', geo={'scope':'world', 'showframe':True})\n",
    "chmap = go.Figure(data = [data],layout = layout )\n",
    "pyo.iplot(chmap)"
   ]
  },
  {
   "cell_type": "code",
   "execution_count": null,
   "id": "24f25035",
   "metadata": {},
   "outputs": [],
   "source": [
    "fig = px.choropleth(locations=df['Country/Territory'],\n",
    " locationmode=\"country names\",\n",
    "color=df['Election Type'],\n",
    " title=\"Wide-Form Input, relabelled\",\n",
    "labels={\"color\": \"Election Type\"}\n",
    " )\n",
    "fig.show()\n"
   ]
  }
 ],
 "metadata": {
  "kernelspec": {
   "display_name": "Python 3 (ipykernel)",
   "language": "python",
   "name": "python3"
  },
  "language_info": {
   "codemirror_mode": {
    "name": "ipython",
    "version": 3
   },
   "file_extension": ".py",
   "mimetype": "text/x-python",
   "name": "python",
   "nbconvert_exporter": "python",
   "pygments_lexer": "ipython3",
   "version": "3.9.7"
  }
 },
 "nbformat": 4,
 "nbformat_minor": 5
}
