{
 "cells": [
  {
   "cell_type": "markdown",
   "id": "8fb18c0a",
   "metadata": {},
   "source": [
    "# Factors Affecting Freedom and Democracy of Countries by EDA LLC.\n"
   ]
  },
  {
   "cell_type": "markdown",
   "id": "62a100b1",
   "metadata": {},
   "source": [
    "(brief abstract of project)"
   ]
  },
  {
   "cell_type": "markdown",
   "id": "6f885458",
   "metadata": {},
   "source": [
    "## Data"
   ]
  },
  {
   "cell_type": "markdown",
   "id": "217bd82d",
   "metadata": {},
   "source": [
    "## Visualizations"
   ]
  },
  {
   "cell_type": "markdown",
   "id": "701daf0f",
   "metadata": {},
   "source": [
    "## Machine Learning Model"
   ]
  },
  {
   "cell_type": "markdown",
   "id": "793c170c",
   "metadata": {},
   "source": [
    "## Results"
   ]
  }
 ],
 "metadata": {
  "kernelspec": {
   "display_name": "Python 3 (ipykernel)",
   "language": "python",
   "name": "python3"
  },
  "language_info": {
   "codemirror_mode": {
    "name": "ipython",
    "version": 3
   },
   "file_extension": ".py",
   "mimetype": "text/x-python",
   "name": "python",
   "nbconvert_exporter": "python",
   "pygments_lexer": "ipython3",
   "version": "3.9.7"
  }
 },
 "nbformat": 4,
 "nbformat_minor": 5
}
